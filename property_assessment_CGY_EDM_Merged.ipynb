{
 "cells": [
  {
   "cell_type": "code",
   "execution_count": 1,
   "metadata": {},
   "outputs": [],
   "source": [
    "import pandas as pd\n",
    "import matplotlib.pyplot as plt\n",
    "import matplotlib.ticker as mticker\n",
    "import numpy as np\n",
    "import math"
   ]
  },
  {
   "attachments": {},
   "cell_type": "markdown",
   "metadata": {},
   "source": [
    "# Calgary Property Assessment"
   ]
  },
  {
   "cell_type": "code",
   "execution_count": 2,
   "metadata": {},
   "outputs": [],
   "source": [
    "df_cgy = pd.read_csv('Historical_Property_Assessments__Parcel_.csv') #Read CSV file from Calgary dataset"
   ]
  },
  {
   "cell_type": "code",
   "execution_count": 3,
   "metadata": {},
   "outputs": [
    {
     "data": {
      "text/html": [
       "<div>\n",
       "<style scoped>\n",
       "    .dataframe tbody tr th:only-of-type {\n",
       "        vertical-align: middle;\n",
       "    }\n",
       "\n",
       "    .dataframe tbody tr th {\n",
       "        vertical-align: top;\n",
       "    }\n",
       "\n",
       "    .dataframe thead th {\n",
       "        text-align: right;\n",
       "    }\n",
       "</style>\n",
       "<table border=\"1\" class=\"dataframe\">\n",
       "  <thead>\n",
       "    <tr style=\"text-align: right;\">\n",
       "      <th></th>\n",
       "      <th>ROLL_YEAR</th>\n",
       "      <th>ROLL_NUMBER</th>\n",
       "      <th>ADDRESS</th>\n",
       "      <th>ASSESSED_VALUE</th>\n",
       "      <th>ASSESSMENT_CLASS</th>\n",
       "      <th>ASSESSMENT_CLASS_DESCRIPTION</th>\n",
       "      <th>RE_ASSESSED_VALUE</th>\n",
       "      <th>NR_ASSESSED_VALUE</th>\n",
       "      <th>FL_ASSESSED_VALUE</th>\n",
       "      <th>COMM_CODE</th>\n",
       "      <th>COMM_NAME</th>\n",
       "      <th>YEAR_OF_CONSTRUCTION</th>\n",
       "      <th>LAND_USE_DESIGNATION</th>\n",
       "      <th>PROPERTY_TYPE</th>\n",
       "      <th>LAND_SIZE_SM</th>\n",
       "      <th>LAND_SIZE_SF</th>\n",
       "      <th>LAND_SIZE_AC</th>\n",
       "      <th>SUB_PROPERTY_USE</th>\n",
       "      <th>MULTIPOLYGON</th>\n",
       "    </tr>\n",
       "  </thead>\n",
       "  <tbody>\n",
       "    <tr>\n",
       "      <th>0</th>\n",
       "      <td>2005</td>\n",
       "      <td>61532909</td>\n",
       "      <td>1 10 POINT DR NW</td>\n",
       "      <td>198500.0</td>\n",
       "      <td>RE</td>\n",
       "      <td>Residential</td>\n",
       "      <td>198500.0</td>\n",
       "      <td>NaN</td>\n",
       "      <td>NaN</td>\n",
       "      <td>POI</td>\n",
       "      <td>POINT MCKAY</td>\n",
       "      <td>NaN</td>\n",
       "      <td>NaN</td>\n",
       "      <td>NaN</td>\n",
       "      <td>NaN</td>\n",
       "      <td>NaN</td>\n",
       "      <td>NaN</td>\n",
       "      <td>NaN</td>\n",
       "      <td>MULTIPOLYGON (((-114.1448385 51.0614664, -114....</td>\n",
       "    </tr>\n",
       "    <tr>\n",
       "      <th>1</th>\n",
       "      <td>2005</td>\n",
       "      <td>79500005</td>\n",
       "      <td>1 101 25 AV SW</td>\n",
       "      <td>165000.0</td>\n",
       "      <td>RE</td>\n",
       "      <td>Residential</td>\n",
       "      <td>165000.0</td>\n",
       "      <td>NaN</td>\n",
       "      <td>NaN</td>\n",
       "      <td>MIS</td>\n",
       "      <td>MISSION</td>\n",
       "      <td>NaN</td>\n",
       "      <td>NaN</td>\n",
       "      <td>NaN</td>\n",
       "      <td>NaN</td>\n",
       "      <td>NaN</td>\n",
       "      <td>NaN</td>\n",
       "      <td>NaN</td>\n",
       "      <td>MULTIPOLYGON (((-114.0641895 51.0302823, -114....</td>\n",
       "    </tr>\n",
       "    <tr>\n",
       "      <th>2</th>\n",
       "      <td>2005</td>\n",
       "      <td>200617975</td>\n",
       "      <td>1 108 ROCKYLEDGE VW NW</td>\n",
       "      <td>88500.0</td>\n",
       "      <td>RE</td>\n",
       "      <td>Residential</td>\n",
       "      <td>88500.0</td>\n",
       "      <td>NaN</td>\n",
       "      <td>NaN</td>\n",
       "      <td>ROC</td>\n",
       "      <td>ROCKY RIDGE</td>\n",
       "      <td>NaN</td>\n",
       "      <td>NaN</td>\n",
       "      <td>NaN</td>\n",
       "      <td>NaN</td>\n",
       "      <td>NaN</td>\n",
       "      <td>NaN</td>\n",
       "      <td>NaN</td>\n",
       "      <td>MULTIPOLYGON (((-114.2507811 51.1438491, -114....</td>\n",
       "    </tr>\n",
       "    <tr>\n",
       "      <th>3</th>\n",
       "      <td>2005</td>\n",
       "      <td>88507686</td>\n",
       "      <td>1 10 ST JULIEN DR SW</td>\n",
       "      <td>394000.0</td>\n",
       "      <td>RE</td>\n",
       "      <td>Residential</td>\n",
       "      <td>394000.0</td>\n",
       "      <td>NaN</td>\n",
       "      <td>NaN</td>\n",
       "      <td>ALT</td>\n",
       "      <td>ALTADORE</td>\n",
       "      <td>NaN</td>\n",
       "      <td>NaN</td>\n",
       "      <td>NaN</td>\n",
       "      <td>NaN</td>\n",
       "      <td>NaN</td>\n",
       "      <td>NaN</td>\n",
       "      <td>NaN</td>\n",
       "      <td>MULTIPOLYGON (((-114.1130974 51.0172546, -114....</td>\n",
       "    </tr>\n",
       "    <tr>\n",
       "      <th>4</th>\n",
       "      <td>2005</td>\n",
       "      <td>73500001</td>\n",
       "      <td>1 100 PENNSYLVANIA RD SE</td>\n",
       "      <td>101000.0</td>\n",
       "      <td>RE</td>\n",
       "      <td>Residential</td>\n",
       "      <td>101000.0</td>\n",
       "      <td>NaN</td>\n",
       "      <td>NaN</td>\n",
       "      <td>PEN</td>\n",
       "      <td>PENBROOKE MEADOWS</td>\n",
       "      <td>NaN</td>\n",
       "      <td>NaN</td>\n",
       "      <td>NaN</td>\n",
       "      <td>NaN</td>\n",
       "      <td>NaN</td>\n",
       "      <td>NaN</td>\n",
       "      <td>NaN</td>\n",
       "      <td>MULTIPOLYGON (((-113.9534917 51.0524091, -113....</td>\n",
       "    </tr>\n",
       "  </tbody>\n",
       "</table>\n",
       "</div>"
      ],
      "text/plain": [
       "   ROLL_YEAR  ROLL_NUMBER                   ADDRESS  ASSESSED_VALUE  \\\n",
       "0       2005     61532909          1 10 POINT DR NW        198500.0   \n",
       "1       2005     79500005            1 101 25 AV SW        165000.0   \n",
       "2       2005    200617975    1 108 ROCKYLEDGE VW NW         88500.0   \n",
       "3       2005     88507686      1 10 ST JULIEN DR SW        394000.0   \n",
       "4       2005     73500001  1 100 PENNSYLVANIA RD SE        101000.0   \n",
       "\n",
       "  ASSESSMENT_CLASS ASSESSMENT_CLASS_DESCRIPTION  RE_ASSESSED_VALUE  \\\n",
       "0               RE                  Residential           198500.0   \n",
       "1               RE                  Residential           165000.0   \n",
       "2               RE                  Residential            88500.0   \n",
       "3               RE                  Residential           394000.0   \n",
       "4               RE                  Residential           101000.0   \n",
       "\n",
       "   NR_ASSESSED_VALUE  FL_ASSESSED_VALUE COMM_CODE          COMM_NAME  \\\n",
       "0                NaN                NaN       POI        POINT MCKAY   \n",
       "1                NaN                NaN       MIS            MISSION   \n",
       "2                NaN                NaN       ROC        ROCKY RIDGE   \n",
       "3                NaN                NaN       ALT           ALTADORE   \n",
       "4                NaN                NaN       PEN  PENBROOKE MEADOWS   \n",
       "\n",
       "   YEAR_OF_CONSTRUCTION LAND_USE_DESIGNATION PROPERTY_TYPE  LAND_SIZE_SM  \\\n",
       "0                   NaN                  NaN           NaN           NaN   \n",
       "1                   NaN                  NaN           NaN           NaN   \n",
       "2                   NaN                  NaN           NaN           NaN   \n",
       "3                   NaN                  NaN           NaN           NaN   \n",
       "4                   NaN                  NaN           NaN           NaN   \n",
       "\n",
       "   LAND_SIZE_SF  LAND_SIZE_AC SUB_PROPERTY_USE  \\\n",
       "0           NaN           NaN              NaN   \n",
       "1           NaN           NaN              NaN   \n",
       "2           NaN           NaN              NaN   \n",
       "3           NaN           NaN              NaN   \n",
       "4           NaN           NaN              NaN   \n",
       "\n",
       "                                        MULTIPOLYGON  \n",
       "0  MULTIPOLYGON (((-114.1448385 51.0614664, -114....  \n",
       "1  MULTIPOLYGON (((-114.0641895 51.0302823, -114....  \n",
       "2  MULTIPOLYGON (((-114.2507811 51.1438491, -114....  \n",
       "3  MULTIPOLYGON (((-114.1130974 51.0172546, -114....  \n",
       "4  MULTIPOLYGON (((-113.9534917 51.0524091, -113....  "
      ]
     },
     "execution_count": 3,
     "metadata": {},
     "output_type": "execute_result"
    }
   ],
   "source": [
    "df_cgy.head() #print out a sample of the dataset from the CSV file"
   ]
  },
  {
   "cell_type": "code",
   "execution_count": 4,
   "metadata": {},
   "outputs": [
    {
     "data": {
      "text/plain": [
       "PROPERTY_TYPE\n",
       "LI    3171687\n",
       "LO     113712\n",
       "IO        206\n",
       "Name: count, dtype: int64"
      ]
     },
     "execution_count": 4,
     "metadata": {},
     "output_type": "execute_result"
    }
   ],
   "source": [
    "df_cgy['PROPERTY_TYPE'].value_counts() # shows the unqiue values for community and the count"
   ]
  },
  {
   "cell_type": "code",
   "execution_count": 5,
   "metadata": {},
   "outputs": [
    {
     "data": {
      "text/plain": [
       "<bound method NDFrame._add_numeric_operations.<locals>.sum of          ROLL_YEAR  ROLL_NUMBER  ADDRESS  ASSESSED_VALUE  ASSESSMENT_CLASS  \\\n",
       "0            False        False    False           False             False   \n",
       "1            False        False    False           False             False   \n",
       "2            False        False    False           False             False   \n",
       "3            False        False    False           False             False   \n",
       "4            False        False    False           False             False   \n",
       "...            ...          ...      ...             ...               ...   \n",
       "8483937      False        False    False           False             False   \n",
       "8483938      False        False    False           False             False   \n",
       "8483939      False        False    False           False             False   \n",
       "8483940      False        False    False           False             False   \n",
       "8483941      False        False    False           False             False   \n",
       "\n",
       "         ASSESSMENT_CLASS_DESCRIPTION  RE_ASSESSED_VALUE  NR_ASSESSED_VALUE  \\\n",
       "0                               False              False               True   \n",
       "1                               False              False               True   \n",
       "2                               False              False               True   \n",
       "3                               False              False               True   \n",
       "4                               False              False               True   \n",
       "...                               ...                ...                ...   \n",
       "8483937                         False              False               True   \n",
       "8483938                         False              False               True   \n",
       "8483939                         False              False               True   \n",
       "8483940                         False              False               True   \n",
       "8483941                         False              False               True   \n",
       "\n",
       "         FL_ASSESSED_VALUE  COMM_CODE  COMM_NAME  YEAR_OF_CONSTRUCTION  \\\n",
       "0                     True      False      False                  True   \n",
       "1                     True      False      False                  True   \n",
       "2                     True      False      False                  True   \n",
       "3                     True      False      False                  True   \n",
       "4                     True      False      False                  True   \n",
       "...                    ...        ...        ...                   ...   \n",
       "8483937               True      False      False                  True   \n",
       "8483938               True      False      False                  True   \n",
       "8483939               True      False      False                  True   \n",
       "8483940               True      False      False                 False   \n",
       "8483941               True      False      False                  True   \n",
       "\n",
       "         LAND_USE_DESIGNATION  PROPERTY_TYPE  LAND_SIZE_SM  LAND_SIZE_SF  \\\n",
       "0                        True           True          True          True   \n",
       "1                        True           True          True          True   \n",
       "2                        True           True          True          True   \n",
       "3                        True           True          True          True   \n",
       "4                        True           True          True          True   \n",
       "...                       ...            ...           ...           ...   \n",
       "8483937                 False          False         False         False   \n",
       "8483938                 False          False         False         False   \n",
       "8483939                 False          False         False         False   \n",
       "8483940                 False          False         False         False   \n",
       "8483941                 False          False         False         False   \n",
       "\n",
       "         LAND_SIZE_AC  SUB_PROPERTY_USE  MULTIPOLYGON  \n",
       "0                True              True         False  \n",
       "1                True              True         False  \n",
       "2                True              True         False  \n",
       "3                True              True         False  \n",
       "4                True              True         False  \n",
       "...               ...               ...           ...  \n",
       "8483937         False             False         False  \n",
       "8483938         False             False         False  \n",
       "8483939         False             False         False  \n",
       "8483940         False             False         False  \n",
       "8483941         False             False         False  \n",
       "\n",
       "[8483942 rows x 19 columns]>"
      ]
     },
     "execution_count": 5,
     "metadata": {},
     "output_type": "execute_result"
    }
   ],
   "source": [
    "df_cgy.isna().sum #shows if there are missing values in the table"
   ]
  },
  {
   "cell_type": "code",
   "execution_count": 6,
   "metadata": {},
   "outputs": [
    {
     "data": {
      "text/plain": [
       "ASSESSMENT_CLASS_DESCRIPTION\n",
       "Residential        8051005\n",
       "Non-residential     424518\n",
       "Farm land             8419\n",
       "Name: count, dtype: int64"
      ]
     },
     "execution_count": 6,
     "metadata": {},
     "output_type": "execute_result"
    }
   ],
   "source": [
    "df_cgy['ASSESSMENT_CLASS_DESCRIPTION'].value_counts() # shows all the unique values for assessment class "
   ]
  },
  {
   "cell_type": "code",
   "execution_count": 7,
   "metadata": {},
   "outputs": [
    {
     "data": {
      "text/plain": [
       "Index(['ROLL_YEAR', 'ROLL_NUMBER', 'ADDRESS', 'ASSESSED_VALUE',\n",
       "       'ASSESSMENT_CLASS', 'ASSESSMENT_CLASS_DESCRIPTION', 'RE_ASSESSED_VALUE',\n",
       "       'NR_ASSESSED_VALUE', 'FL_ASSESSED_VALUE', 'COMM_CODE', 'COMM_NAME',\n",
       "       'YEAR_OF_CONSTRUCTION', 'LAND_USE_DESIGNATION', 'PROPERTY_TYPE',\n",
       "       'LAND_SIZE_SM', 'LAND_SIZE_SF', 'LAND_SIZE_AC', 'SUB_PROPERTY_USE',\n",
       "       'MULTIPOLYGON'],\n",
       "      dtype='object')"
      ]
     },
     "execution_count": 7,
     "metadata": {},
     "output_type": "execute_result"
    }
   ],
   "source": [
    "df_cgy.columns #shows all the columns for the calgary dataset"
   ]
  },
  {
   "cell_type": "code",
   "execution_count": 8,
   "metadata": {},
   "outputs": [],
   "source": [
    "property_subset_cgy = df_cgy[['ASSESSED_VALUE','ASSESSMENT_CLASS_DESCRIPTION','COMM_NAME',\n",
    "       'YEAR_OF_CONSTRUCTION','LAND_SIZE_SM']] #filter out all the required columns and put into property_sunset that matches with the Edmonton dataset"
   ]
  },
  {
   "cell_type": "code",
   "execution_count": 9,
   "metadata": {},
   "outputs": [
    {
     "data": {
      "text/html": [
       "<div>\n",
       "<style scoped>\n",
       "    .dataframe tbody tr th:only-of-type {\n",
       "        vertical-align: middle;\n",
       "    }\n",
       "\n",
       "    .dataframe tbody tr th {\n",
       "        vertical-align: top;\n",
       "    }\n",
       "\n",
       "    .dataframe thead th {\n",
       "        text-align: right;\n",
       "    }\n",
       "</style>\n",
       "<table border=\"1\" class=\"dataframe\">\n",
       "  <thead>\n",
       "    <tr style=\"text-align: right;\">\n",
       "      <th></th>\n",
       "      <th>ASSESSED_VALUE</th>\n",
       "      <th>ASSESSMENT_CLASS_DESCRIPTION</th>\n",
       "      <th>COMM_NAME</th>\n",
       "      <th>YEAR_OF_CONSTRUCTION</th>\n",
       "      <th>LAND_SIZE_SM</th>\n",
       "    </tr>\n",
       "  </thead>\n",
       "  <tbody>\n",
       "    <tr>\n",
       "      <th>0</th>\n",
       "      <td>198500.0</td>\n",
       "      <td>Residential</td>\n",
       "      <td>POINT MCKAY</td>\n",
       "      <td>NaN</td>\n",
       "      <td>NaN</td>\n",
       "    </tr>\n",
       "    <tr>\n",
       "      <th>1</th>\n",
       "      <td>165000.0</td>\n",
       "      <td>Residential</td>\n",
       "      <td>MISSION</td>\n",
       "      <td>NaN</td>\n",
       "      <td>NaN</td>\n",
       "    </tr>\n",
       "    <tr>\n",
       "      <th>2</th>\n",
       "      <td>88500.0</td>\n",
       "      <td>Residential</td>\n",
       "      <td>ROCKY RIDGE</td>\n",
       "      <td>NaN</td>\n",
       "      <td>NaN</td>\n",
       "    </tr>\n",
       "    <tr>\n",
       "      <th>3</th>\n",
       "      <td>394000.0</td>\n",
       "      <td>Residential</td>\n",
       "      <td>ALTADORE</td>\n",
       "      <td>NaN</td>\n",
       "      <td>NaN</td>\n",
       "    </tr>\n",
       "    <tr>\n",
       "      <th>4</th>\n",
       "      <td>101000.0</td>\n",
       "      <td>Residential</td>\n",
       "      <td>PENBROOKE MEADOWS</td>\n",
       "      <td>NaN</td>\n",
       "      <td>NaN</td>\n",
       "    </tr>\n",
       "    <tr>\n",
       "      <th>...</th>\n",
       "      <td>...</td>\n",
       "      <td>...</td>\n",
       "      <td>...</td>\n",
       "      <td>...</td>\n",
       "      <td>...</td>\n",
       "    </tr>\n",
       "    <tr>\n",
       "      <th>8483937</th>\n",
       "      <td>899000.0</td>\n",
       "      <td>Residential</td>\n",
       "      <td>CRANSTON</td>\n",
       "      <td>NaN</td>\n",
       "      <td>740.2</td>\n",
       "    </tr>\n",
       "    <tr>\n",
       "      <th>8483938</th>\n",
       "      <td>468000.0</td>\n",
       "      <td>Residential</td>\n",
       "      <td>CARRINGTON</td>\n",
       "      <td>NaN</td>\n",
       "      <td>361.0</td>\n",
       "    </tr>\n",
       "    <tr>\n",
       "      <th>8483939</th>\n",
       "      <td>381500.0</td>\n",
       "      <td>Residential</td>\n",
       "      <td>CARRINGTON</td>\n",
       "      <td>NaN</td>\n",
       "      <td>310.7</td>\n",
       "    </tr>\n",
       "    <tr>\n",
       "      <th>8483940</th>\n",
       "      <td>380500.0</td>\n",
       "      <td>Residential</td>\n",
       "      <td>CARRINGTON</td>\n",
       "      <td>2021.0</td>\n",
       "      <td>326.4</td>\n",
       "    </tr>\n",
       "    <tr>\n",
       "      <th>8483941</th>\n",
       "      <td>373500.0</td>\n",
       "      <td>Residential</td>\n",
       "      <td>CARRINGTON</td>\n",
       "      <td>NaN</td>\n",
       "      <td>328.1</td>\n",
       "    </tr>\n",
       "  </tbody>\n",
       "</table>\n",
       "<p>8483942 rows × 5 columns</p>\n",
       "</div>"
      ],
      "text/plain": [
       "         ASSESSED_VALUE ASSESSMENT_CLASS_DESCRIPTION          COMM_NAME  \\\n",
       "0              198500.0                  Residential        POINT MCKAY   \n",
       "1              165000.0                  Residential            MISSION   \n",
       "2               88500.0                  Residential        ROCKY RIDGE   \n",
       "3              394000.0                  Residential           ALTADORE   \n",
       "4              101000.0                  Residential  PENBROOKE MEADOWS   \n",
       "...                 ...                          ...                ...   \n",
       "8483937        899000.0                  Residential           CRANSTON   \n",
       "8483938        468000.0                  Residential         CARRINGTON   \n",
       "8483939        381500.0                  Residential         CARRINGTON   \n",
       "8483940        380500.0                  Residential         CARRINGTON   \n",
       "8483941        373500.0                  Residential         CARRINGTON   \n",
       "\n",
       "         YEAR_OF_CONSTRUCTION  LAND_SIZE_SM  \n",
       "0                         NaN           NaN  \n",
       "1                         NaN           NaN  \n",
       "2                         NaN           NaN  \n",
       "3                         NaN           NaN  \n",
       "4                         NaN           NaN  \n",
       "...                       ...           ...  \n",
       "8483937                   NaN         740.2  \n",
       "8483938                   NaN         361.0  \n",
       "8483939                   NaN         310.7  \n",
       "8483940                2021.0         326.4  \n",
       "8483941                   NaN         328.1  \n",
       "\n",
       "[8483942 rows x 5 columns]"
      ]
     },
     "execution_count": 9,
     "metadata": {},
     "output_type": "execute_result"
    }
   ],
   "source": [
    "property_subset_cgy"
   ]
  },
  {
   "cell_type": "code",
   "execution_count": 10,
   "metadata": {},
   "outputs": [
    {
     "data": {
      "text/plain": [
       "Index(['ASSESSED_VALUE', 'ASSESSMENT_CLASS_DESCRIPTION', 'COMM_NAME',\n",
       "       'YEAR_OF_CONSTRUCTION', 'LAND_SIZE_SM'],\n",
       "      dtype='object')"
      ]
     },
     "execution_count": 10,
     "metadata": {},
     "output_type": "execute_result"
    }
   ],
   "source": [
    "property_subset_cgy.columns #shows all the columns for the new table"
   ]
  },
  {
   "cell_type": "code",
   "execution_count": 11,
   "metadata": {},
   "outputs": [
    {
     "name": "stderr",
     "output_type": "stream",
     "text": [
      "C:\\Users\\659159\\AppData\\Local\\Temp\\ipykernel_22356\\381869344.py:1: SettingWithCopyWarning: \n",
      "A value is trying to be set on a copy of a slice from a DataFrame\n",
      "\n",
      "See the caveats in the documentation: https://pandas.pydata.org/pandas-docs/stable/user_guide/indexing.html#returning-a-view-versus-a-copy\n",
      "  property_subset_cgy.rename(columns={'ASSESSED_VALUE': 'Assessed Value', 'ASSESSMENT_CLASS_DESCRIPTION': 'Assessment Class 1', 'COMM_NAME': 'Neighbourhood', 'YEAR_OF_CONSTRUCTION': 'Actual Year Built', 'LAND_SIZE_SM': 'Lot Size'}, inplace=True)\n"
     ]
    }
   ],
   "source": [
    "property_subset_cgy.rename(columns={'ASSESSED_VALUE': 'Assessed Value', 'ASSESSMENT_CLASS_DESCRIPTION': 'Assessment Class 1', 'COMM_NAME': 'Neighbourhood', 'YEAR_OF_CONSTRUCTION': 'Actual Year Built', 'LAND_SIZE_SM': 'Lot Size'}, inplace=True)\n",
    "#renaming columns to match with the Edmonton dataset"
   ]
  },
  {
   "cell_type": "code",
   "execution_count": 12,
   "metadata": {},
   "outputs": [
    {
     "data": {
      "text/html": [
       "<div>\n",
       "<style scoped>\n",
       "    .dataframe tbody tr th:only-of-type {\n",
       "        vertical-align: middle;\n",
       "    }\n",
       "\n",
       "    .dataframe tbody tr th {\n",
       "        vertical-align: top;\n",
       "    }\n",
       "\n",
       "    .dataframe thead th {\n",
       "        text-align: right;\n",
       "    }\n",
       "</style>\n",
       "<table border=\"1\" class=\"dataframe\">\n",
       "  <thead>\n",
       "    <tr style=\"text-align: right;\">\n",
       "      <th></th>\n",
       "      <th>Assessed Value</th>\n",
       "      <th>Assessment Class 1</th>\n",
       "      <th>Neighbourhood</th>\n",
       "      <th>Actual Year Built</th>\n",
       "      <th>Lot Size</th>\n",
       "    </tr>\n",
       "  </thead>\n",
       "  <tbody>\n",
       "    <tr>\n",
       "      <th>0</th>\n",
       "      <td>198500.0</td>\n",
       "      <td>Residential</td>\n",
       "      <td>POINT MCKAY</td>\n",
       "      <td>NaN</td>\n",
       "      <td>NaN</td>\n",
       "    </tr>\n",
       "    <tr>\n",
       "      <th>1</th>\n",
       "      <td>165000.0</td>\n",
       "      <td>Residential</td>\n",
       "      <td>MISSION</td>\n",
       "      <td>NaN</td>\n",
       "      <td>NaN</td>\n",
       "    </tr>\n",
       "    <tr>\n",
       "      <th>2</th>\n",
       "      <td>88500.0</td>\n",
       "      <td>Residential</td>\n",
       "      <td>ROCKY RIDGE</td>\n",
       "      <td>NaN</td>\n",
       "      <td>NaN</td>\n",
       "    </tr>\n",
       "    <tr>\n",
       "      <th>3</th>\n",
       "      <td>394000.0</td>\n",
       "      <td>Residential</td>\n",
       "      <td>ALTADORE</td>\n",
       "      <td>NaN</td>\n",
       "      <td>NaN</td>\n",
       "    </tr>\n",
       "    <tr>\n",
       "      <th>4</th>\n",
       "      <td>101000.0</td>\n",
       "      <td>Residential</td>\n",
       "      <td>PENBROOKE MEADOWS</td>\n",
       "      <td>NaN</td>\n",
       "      <td>NaN</td>\n",
       "    </tr>\n",
       "    <tr>\n",
       "      <th>...</th>\n",
       "      <td>...</td>\n",
       "      <td>...</td>\n",
       "      <td>...</td>\n",
       "      <td>...</td>\n",
       "      <td>...</td>\n",
       "    </tr>\n",
       "    <tr>\n",
       "      <th>8483937</th>\n",
       "      <td>899000.0</td>\n",
       "      <td>Residential</td>\n",
       "      <td>CRANSTON</td>\n",
       "      <td>NaN</td>\n",
       "      <td>740.2</td>\n",
       "    </tr>\n",
       "    <tr>\n",
       "      <th>8483938</th>\n",
       "      <td>468000.0</td>\n",
       "      <td>Residential</td>\n",
       "      <td>CARRINGTON</td>\n",
       "      <td>NaN</td>\n",
       "      <td>361.0</td>\n",
       "    </tr>\n",
       "    <tr>\n",
       "      <th>8483939</th>\n",
       "      <td>381500.0</td>\n",
       "      <td>Residential</td>\n",
       "      <td>CARRINGTON</td>\n",
       "      <td>NaN</td>\n",
       "      <td>310.7</td>\n",
       "    </tr>\n",
       "    <tr>\n",
       "      <th>8483940</th>\n",
       "      <td>380500.0</td>\n",
       "      <td>Residential</td>\n",
       "      <td>CARRINGTON</td>\n",
       "      <td>2021.0</td>\n",
       "      <td>326.4</td>\n",
       "    </tr>\n",
       "    <tr>\n",
       "      <th>8483941</th>\n",
       "      <td>373500.0</td>\n",
       "      <td>Residential</td>\n",
       "      <td>CARRINGTON</td>\n",
       "      <td>NaN</td>\n",
       "      <td>328.1</td>\n",
       "    </tr>\n",
       "  </tbody>\n",
       "</table>\n",
       "<p>8483942 rows × 5 columns</p>\n",
       "</div>"
      ],
      "text/plain": [
       "         Assessed Value Assessment Class 1      Neighbourhood  \\\n",
       "0              198500.0        Residential        POINT MCKAY   \n",
       "1              165000.0        Residential            MISSION   \n",
       "2               88500.0        Residential        ROCKY RIDGE   \n",
       "3              394000.0        Residential           ALTADORE   \n",
       "4              101000.0        Residential  PENBROOKE MEADOWS   \n",
       "...                 ...                ...                ...   \n",
       "8483937        899000.0        Residential           CRANSTON   \n",
       "8483938        468000.0        Residential         CARRINGTON   \n",
       "8483939        381500.0        Residential         CARRINGTON   \n",
       "8483940        380500.0        Residential         CARRINGTON   \n",
       "8483941        373500.0        Residential         CARRINGTON   \n",
       "\n",
       "         Actual Year Built  Lot Size  \n",
       "0                      NaN       NaN  \n",
       "1                      NaN       NaN  \n",
       "2                      NaN       NaN  \n",
       "3                      NaN       NaN  \n",
       "4                      NaN       NaN  \n",
       "...                    ...       ...  \n",
       "8483937                NaN     740.2  \n",
       "8483938                NaN     361.0  \n",
       "8483939                NaN     310.7  \n",
       "8483940             2021.0     326.4  \n",
       "8483941                NaN     328.1  \n",
       "\n",
       "[8483942 rows x 5 columns]"
      ]
     },
     "execution_count": 12,
     "metadata": {},
     "output_type": "execute_result"
    }
   ],
   "source": [
    "property_subset_cgy #prints out a sample of the table with the number of rows shown for the table"
   ]
  },
  {
   "cell_type": "code",
   "execution_count": 13,
   "metadata": {},
   "outputs": [
    {
     "data": {
      "text/plain": [
       "Assessment Class 1\n",
       "Residential        8051005\n",
       "Non-residential     424518\n",
       "Farm land             8419\n",
       "Name: count, dtype: int64"
      ]
     },
     "execution_count": 13,
     "metadata": {},
     "output_type": "execute_result"
    }
   ],
   "source": [
    "property_subset_cgy['Assessment Class 1'].value_counts() #shows the unique values of assessment class in Calgary"
   ]
  },
  {
   "cell_type": "code",
   "execution_count": 14,
   "metadata": {},
   "outputs": [],
   "source": [
    "residential_subset_cgy=property_subset_cgy[property_subset_cgy['Assessment Class 1']=='Residential'] #filter the assessment class to be residential only"
   ]
  },
  {
   "cell_type": "code",
   "execution_count": 15,
   "metadata": {},
   "outputs": [
    {
     "data": {
      "text/plain": [
       "Assessment Class 1\n",
       "Residential    8051005\n",
       "Name: count, dtype: int64"
      ]
     },
     "execution_count": 15,
     "metadata": {},
     "output_type": "execute_result"
    }
   ],
   "source": [
    "residential_subset_cgy['Assessment Class 1'].value_counts() # confirms that only residential is showing for residential_subset_cgy"
   ]
  },
  {
   "attachments": {},
   "cell_type": "markdown",
   "metadata": {},
   "source": [
    "## Asssessed Value Vs Actual Year Built For Calgary"
   ]
  },
  {
   "cell_type": "code",
   "execution_count": 16,
   "metadata": {},
   "outputs": [],
   "source": [
    "value_construction_subset_cgy = residential_subset_cgy[['Assessed Value','Actual Year Built']] #filter out the table so only Assessed Value and Actual Year Built are shown"
   ]
  },
  {
   "cell_type": "code",
   "execution_count": 17,
   "metadata": {},
   "outputs": [
    {
     "data": {
      "text/plain": [
       "8051005"
      ]
     },
     "execution_count": 17,
     "metadata": {},
     "output_type": "execute_result"
    }
   ],
   "source": [
    "len(value_construction_subset_cgy) # shows the amount of rows before dropping null values"
   ]
  },
  {
   "cell_type": "code",
   "execution_count": 18,
   "metadata": {},
   "outputs": [],
   "source": [
    "value_construction_subset_drop_cgy=value_construction_subset_cgy.dropna() # drops rows that have null values from both columns "
   ]
  },
  {
   "cell_type": "code",
   "execution_count": 19,
   "metadata": {},
   "outputs": [
    {
     "data": {
      "text/plain": [
       "1573472"
      ]
     },
     "execution_count": 19,
     "metadata": {},
     "output_type": "execute_result"
    }
   ],
   "source": [
    "len(value_construction_subset_drop_cgy) # shows the amount of rows after dropping null values"
   ]
  },
  {
   "cell_type": "code",
   "execution_count": 20,
   "metadata": {},
   "outputs": [],
   "source": [
    "year_filtered_subset_cgy = value_construction_subset_drop_cgy[(value_construction_subset_drop_cgy['Actual Year Built'] >= 2011) & (value_construction_subset_drop_cgy['Actual Year Built'] <= 2021)] \n",
    "#filter out the actual year built column so only the year 2011 to 2021 are shown. We are using a 10 year sample"
   ]
  },
  {
   "cell_type": "code",
   "execution_count": 21,
   "metadata": {},
   "outputs": [
    {
     "data": {
      "text/plain": [
       "Actual Year Built\n",
       "2013.0    48993\n",
       "2014.0    45897\n",
       "2012.0    40131\n",
       "2015.0    38187\n",
       "2011.0    34590\n",
       "2018.0    28607\n",
       "2016.0    28059\n",
       "2017.0    24667\n",
       "2019.0    18790\n",
       "2020.0     6930\n",
       "2021.0     4213\n",
       "Name: count, dtype: int64"
      ]
     },
     "execution_count": 21,
     "metadata": {},
     "output_type": "execute_result"
    }
   ],
   "source": [
    "year_filtered_subset_cgy['Actual Year Built'].value_counts() # show that the years have been filtered out for the year_filtered_subset_cgy"
   ]
  },
  {
   "cell_type": "code",
   "execution_count": 22,
   "metadata": {},
   "outputs": [],
   "source": [
    "year_contruct_subset_cgy = pd.DataFrame(year_filtered_subset_cgy) #put year_filtered_subset_cgy into a new dataFrame"
   ]
  },
  {
   "cell_type": "code",
   "execution_count": 23,
   "metadata": {},
   "outputs": [],
   "source": [
    "mean_value_cgy = year_contruct_subset_cgy['Assessed Value'].mean() #calculating the mean for assessed value in Calgary"
   ]
  },
  {
   "cell_type": "code",
   "execution_count": 24,
   "metadata": {},
   "outputs": [
    {
     "data": {
      "text/plain": [
       "413716.1600243211"
      ]
     },
     "execution_count": 24,
     "metadata": {},
     "output_type": "execute_result"
    }
   ],
   "source": [
    "mean_value_cgy"
   ]
  },
  {
   "cell_type": "code",
   "execution_count": 25,
   "metadata": {},
   "outputs": [],
   "source": [
    "min_value_cgy = year_contruct_subset_cgy['Assessed Value'].min() #calculating the min for assessed value in Calgary "
   ]
  },
  {
   "cell_type": "code",
   "execution_count": 26,
   "metadata": {},
   "outputs": [
    {
     "data": {
      "text/plain": [
       "0.0"
      ]
     },
     "execution_count": 26,
     "metadata": {},
     "output_type": "execute_result"
    }
   ],
   "source": [
    "min_value_cgy"
   ]
  },
  {
   "cell_type": "code",
   "execution_count": 27,
   "metadata": {},
   "outputs": [],
   "source": [
    "max_value_cgy = year_contruct_subset_cgy['Assessed Value'].max() #calculating the max for assessed value in Calgary"
   ]
  },
  {
   "cell_type": "code",
   "execution_count": 28,
   "metadata": {},
   "outputs": [
    {
     "data": {
      "text/plain": [
       "179460000.0"
      ]
     },
     "execution_count": 28,
     "metadata": {},
     "output_type": "execute_result"
    }
   ],
   "source": [
    "max_value_cgy"
   ]
  },
  {
   "cell_type": "code",
   "execution_count": 29,
   "metadata": {},
   "outputs": [],
   "source": [
    "std_value_cgy = year_contruct_subset_cgy['Assessed Value'].std() #calculating the standard deviation for assessed value in Calgary"
   ]
  },
  {
   "cell_type": "code",
   "execution_count": 30,
   "metadata": {},
   "outputs": [
    {
     "data": {
      "text/plain": [
       "1372365.4399377368"
      ]
     },
     "execution_count": 30,
     "metadata": {},
     "output_type": "execute_result"
    }
   ],
   "source": [
    "std_value_cgy"
   ]
  },
  {
   "cell_type": "code",
   "execution_count": 31,
   "metadata": {},
   "outputs": [],
   "source": [
    "average_cgy = year_contruct_subset_cgy['Assessed Value'].sum() / len(year_contruct_subset_cgy['Assessed Value']) \n",
    "#calculating the average for assessed value in Calgary by taking the sum of asscessed value and dividing amount of rows"
   ]
  },
  {
   "cell_type": "code",
   "execution_count": 32,
   "metadata": {},
   "outputs": [
    {
     "data": {
      "text/plain": [
       "413716.1600243211"
      ]
     },
     "execution_count": 32,
     "metadata": {},
     "output_type": "execute_result"
    }
   ],
   "source": [
    "average_cgy"
   ]
  },
  {
   "cell_type": "code",
   "execution_count": 33,
   "metadata": {},
   "outputs": [],
   "source": [
    "#function that formats the axis values into the millions\n",
    "def millions_formatter(x, pos):\n",
    "    \n",
    "    return f'${x/1e6:.1f}M'\n",
    "\n",
    "# Set the formatter function for the y-axis\n",
    "formatter = mticker.FuncFormatter(millions_formatter)"
   ]
  },
  {
   "cell_type": "code",
   "execution_count": 34,
   "metadata": {},
   "outputs": [
    {
     "data": {
      "image/png": "[encoded data removed]",
      "text/plain": [
       "<Figure size 640x480 with 1 Axes>"
      ]
     },
     "metadata": {},
     "output_type": "display_data"
    }
   ],
   "source": [
    "#Shows a graph of the homes built and the asscessed value of the homes with outliers. Dotted lines are the mean, min, max, standard deviation and the average for assessed value in Calgary\n",
    "year_contruct_subset_cgy.plot(x='Actual Year Built', y='Assessed Value', kind= 'scatter') #makes a scatter plot with the x axis as actual year built and y axis as assessed value\n",
    "plt.axhline(mean_value_cgy, color='red', linestyle='--', label='Mean') #plots the mean dotted line\n",
    "plt.axhline(min_value_cgy, color='blue', linestyle='--', label='Min') #plots the min dotted line\n",
    "plt.axhline(max_value_cgy, color='orange', linestyle='--', label='Max') #plots the max dotted line\n",
    "plt.axhline(std_value_cgy, color='pink', linestyle='--', label='Std') #plots the standard deviation dotted line\n",
    "plt.axhline(average_cgy, color='green', linestyle='--', label='Avg') #plots the average dotted line\n",
    "plt.title(\"Assessed Value by New Build With Outliers\") # title of the graph\n",
    "plt.gca().yaxis.set_major_formatter(formatter) #change values into a million dollar value\n",
    "\n",
    "plt.legend() #show the legend\n",
    "plt.show() #show graph"
   ]
  },
  {
   "cell_type": "code",
   "execution_count": 35,
   "metadata": {},
   "outputs": [],
   "source": [
    "check_values_cgy = pd.DataFrame() # create a empty dataFrame"
   ]
  },
  {
   "cell_type": "code",
   "execution_count": 36,
   "metadata": {},
   "outputs": [],
   "source": [
    "year_construct_subset_cgy= year_contruct_subset_cgy.sample(n=100000) #Gets a 100 000 samples from the year_contruct_subset_cgy. This is for performance purpose for SAIT computers"
   ]
  },
  {
   "cell_type": "code",
   "execution_count": 37,
   "metadata": {},
   "outputs": [
    {
     "data": {
      "text/html": [
       "<div>\n",
       "<style scoped>\n",
       "    .dataframe tbody tr th:only-of-type {\n",
       "        vertical-align: middle;\n",
       "    }\n",
       "\n",
       "    .dataframe tbody tr th {\n",
       "        vertical-align: top;\n",
       "    }\n",
       "\n",
       "    .dataframe thead th {\n",
       "        text-align: right;\n",
       "    }\n",
       "</style>\n",
       "<table border=\"1\" class=\"dataframe\">\n",
       "  <thead>\n",
       "    <tr style=\"text-align: right;\">\n",
       "      <th></th>\n",
       "      <th>Assessed Value</th>\n",
       "      <th>Actual Year Built</th>\n",
       "    </tr>\n",
       "  </thead>\n",
       "  <tbody>\n",
       "    <tr>\n",
       "      <th>2217306</th>\n",
       "      <td>571000.0</td>\n",
       "      <td>2020.0</td>\n",
       "    </tr>\n",
       "    <tr>\n",
       "      <th>784729</th>\n",
       "      <td>10000.0</td>\n",
       "      <td>2012.0</td>\n",
       "    </tr>\n",
       "    <tr>\n",
       "      <th>7227941</th>\n",
       "      <td>1000000.0</td>\n",
       "      <td>2016.0</td>\n",
       "    </tr>\n",
       "    <tr>\n",
       "      <th>7769275</th>\n",
       "      <td>10000.0</td>\n",
       "      <td>2014.0</td>\n",
       "    </tr>\n",
       "    <tr>\n",
       "      <th>2103944</th>\n",
       "      <td>599000.0</td>\n",
       "      <td>2021.0</td>\n",
       "    </tr>\n",
       "    <tr>\n",
       "      <th>...</th>\n",
       "      <td>...</td>\n",
       "      <td>...</td>\n",
       "    </tr>\n",
       "    <tr>\n",
       "      <th>7813732</th>\n",
       "      <td>265000.0</td>\n",
       "      <td>2019.0</td>\n",
       "    </tr>\n",
       "    <tr>\n",
       "      <th>8428566</th>\n",
       "      <td>665000.0</td>\n",
       "      <td>2011.0</td>\n",
       "    </tr>\n",
       "    <tr>\n",
       "      <th>7790201</th>\n",
       "      <td>615500.0</td>\n",
       "      <td>2019.0</td>\n",
       "    </tr>\n",
       "    <tr>\n",
       "      <th>172913</th>\n",
       "      <td>747000.0</td>\n",
       "      <td>2011.0</td>\n",
       "    </tr>\n",
       "    <tr>\n",
       "      <th>7792232</th>\n",
       "      <td>196000.0</td>\n",
       "      <td>2015.0</td>\n",
       "    </tr>\n",
       "  </tbody>\n",
       "</table>\n",
       "<p>100000 rows × 2 columns</p>\n",
       "</div>"
      ],
      "text/plain": [
       "         Assessed Value  Actual Year Built\n",
       "2217306        571000.0             2020.0\n",
       "784729          10000.0             2012.0\n",
       "7227941       1000000.0             2016.0\n",
       "7769275         10000.0             2014.0\n",
       "2103944        599000.0             2021.0\n",
       "...                 ...                ...\n",
       "7813732        265000.0             2019.0\n",
       "8428566        665000.0             2011.0\n",
       "7790201        615500.0             2019.0\n",
       "172913         747000.0             2011.0\n",
       "7792232        196000.0             2015.0\n",
       "\n",
       "[100000 rows x 2 columns]"
      ]
     },
     "execution_count": 37,
     "metadata": {},
     "output_type": "execute_result"
    }
   ],
   "source": [
    "year_construct_subset_cgy #prints out  a sample of the year_construct_subset_cgy table"
   ]
  },
  {
   "cell_type": "code",
   "execution_count": 38,
   "metadata": {
    "tags": [
     "parameters"
    ]
   },
   "outputs": [],
   "source": [
    "#Remove Outliers\n",
    "j = 0\n",
    "upper_bound = average_cgy + std_value_cgy #add the average and the standard deviation and put into upper_bound variable \n",
    "lower_bound = average_cgy - std_value_cgy #substracts the average and the standard deviation and put into lower bound variable \n",
    "for i in range(len(year_construct_subset_cgy)): #loops the entire table\n",
    "    check_assesed_value = year_construct_subset_cgy.iloc[i,0] #indexes thru the row of the table for assessed value\n",
    "    if( (check_assesed_value >= lower_bound) & (check_assesed_value <= upper_bound)): \n",
    "        #check of the assesed value is greater than the lower bound( average - standard deviation) and check of the upper bound ( average + standard deviation is greater than the assesed value)\n",
    "        check_values_cgy.loc[j,'Assessed Value'] = year_construct_subset_cgy.iloc[i, 0] # if the conditions are true put the assessed values into the new dataFrame called check_values_cgy\n",
    "        check_values_cgy.loc[j,'Actual Year Built'] = year_construct_subset_cgy.iloc[i, 1] #put actual year built into the new dataFrame called check_values_cgy if the if statement is true\n",
    "        j = j + 1 #iterates thru the check_values_cgy dataFrame\n",
    "        \n"
   ]
  },
  {
   "cell_type": "code",
   "execution_count": 39,
   "metadata": {},
   "outputs": [
    {
     "data": {
      "text/html": [
       "<div>\n",
       "<style scoped>\n",
       "    .dataframe tbody tr th:only-of-type {\n",
       "        vertical-align: middle;\n",
       "    }\n",
       "\n",
       "    .dataframe tbody tr th {\n",
       "        vertical-align: top;\n",
       "    }\n",
       "\n",
       "    .dataframe thead th {\n",
       "        text-align: right;\n",
       "    }\n",
       "</style>\n",
       "<table border=\"1\" class=\"dataframe\">\n",
       "  <thead>\n",
       "    <tr style=\"text-align: right;\">\n",
       "      <th></th>\n",
       "      <th>Assessed Value</th>\n",
       "      <th>Actual Year Built</th>\n",
       "    </tr>\n",
       "  </thead>\n",
       "  <tbody>\n",
       "    <tr>\n",
       "      <th>0</th>\n",
       "      <td>571000.0</td>\n",
       "      <td>2020.0</td>\n",
       "    </tr>\n",
       "    <tr>\n",
       "      <th>1</th>\n",
       "      <td>10000.0</td>\n",
       "      <td>2012.0</td>\n",
       "    </tr>\n",
       "    <tr>\n",
       "      <th>2</th>\n",
       "      <td>1000000.0</td>\n",
       "      <td>2016.0</td>\n",
       "    </tr>\n",
       "    <tr>\n",
       "      <th>3</th>\n",
       "      <td>10000.0</td>\n",
       "      <td>2014.0</td>\n",
       "    </tr>\n",
       "    <tr>\n",
       "      <th>4</th>\n",
       "      <td>599000.0</td>\n",
       "      <td>2021.0</td>\n",
       "    </tr>\n",
       "    <tr>\n",
       "      <th>...</th>\n",
       "      <td>...</td>\n",
       "      <td>...</td>\n",
       "    </tr>\n",
       "    <tr>\n",
       "      <th>98954</th>\n",
       "      <td>265000.0</td>\n",
       "      <td>2019.0</td>\n",
       "    </tr>\n",
       "    <tr>\n",
       "      <th>98955</th>\n",
       "      <td>665000.0</td>\n",
       "      <td>2011.0</td>\n",
       "    </tr>\n",
       "    <tr>\n",
       "      <th>98956</th>\n",
       "      <td>615500.0</td>\n",
       "      <td>2019.0</td>\n",
       "    </tr>\n",
       "    <tr>\n",
       "      <th>98957</th>\n",
       "      <td>747000.0</td>\n",
       "      <td>2011.0</td>\n",
       "    </tr>\n",
       "    <tr>\n",
       "      <th>98958</th>\n",
       "      <td>196000.0</td>\n",
       "      <td>2015.0</td>\n",
       "    </tr>\n",
       "  </tbody>\n",
       "</table>\n",
       "<p>98959 rows × 2 columns</p>\n",
       "</div>"
      ],
      "text/plain": [
       "       Assessed Value  Actual Year Built\n",
       "0            571000.0             2020.0\n",
       "1             10000.0             2012.0\n",
       "2           1000000.0             2016.0\n",
       "3             10000.0             2014.0\n",
       "4            599000.0             2021.0\n",
       "...               ...                ...\n",
       "98954        265000.0             2019.0\n",
       "98955        665000.0             2011.0\n",
       "98956        615500.0             2019.0\n",
       "98957        747000.0             2011.0\n",
       "98958        196000.0             2015.0\n",
       "\n",
       "[98959 rows x 2 columns]"
      ]
     },
     "execution_count": 39,
     "metadata": {},
     "output_type": "execute_result"
    }
   ],
   "source": [
    "check_values_cgy #print a table with the outliers removed"
   ]
  },
  {
   "cell_type": "code",
   "execution_count": 40,
   "metadata": {},
   "outputs": [],
   "source": [
    "output_file = 'AssessedValue_ActualYear.csv'\n",
    "check_values_cgy.to_csv(output_file)"
   ]
  },
  {
   "cell_type": "code",
   "execution_count": 41,
   "metadata": {},
   "outputs": [],
   "source": [
    "check_values_cgy_after = pd.DataFrame(check_values_cgy) #put the clean data into a new dataFrame called check_values_cgy_afte"
   ]
  },
  {
   "cell_type": "code",
   "execution_count": 42,
   "metadata": {},
   "outputs": [],
   "source": [
    "mean_value_cgy_after = check_values_cgy_after['Assessed Value'].mean() #calculating the mean for assessed value in Calgary"
   ]
  },
  {
   "cell_type": "code",
   "execution_count": 43,
   "metadata": {},
   "outputs": [
    {
     "data": {
      "text/plain": [
       "359974.2435756222"
      ]
     },
     "execution_count": 43,
     "metadata": {},
     "output_type": "execute_result"
    }
   ],
   "source": [
    "mean_value_cgy_after"
   ]
  },
  {
   "cell_type": "code",
   "execution_count": 44,
   "metadata": {},
   "outputs": [],
   "source": [
    "min_value_cgy_after = check_values_cgy_after['Assessed Value'].min() #calculating the min for assessed value in Calgary"
   ]
  },
  {
   "cell_type": "code",
   "execution_count": 45,
   "metadata": {},
   "outputs": [
    {
     "data": {
      "text/plain": [
       "0.0"
      ]
     },
     "execution_count": 45,
     "metadata": {},
     "output_type": "execute_result"
    }
   ],
   "source": [
    "min_value_cgy_after"
   ]
  },
  {
   "cell_type": "code",
   "execution_count": 46,
   "metadata": {},
   "outputs": [],
   "source": [
    "max_value_cgy_after = check_values_cgy_after['Assessed Value'].max() #calculating the max for assessed value in Calgary"
   ]
  },
  {
   "cell_type": "code",
   "execution_count": 47,
   "metadata": {},
   "outputs": [
    {
     "data": {
      "text/plain": [
       "1780000.0"
      ]
     },
     "execution_count": 47,
     "metadata": {},
     "output_type": "execute_result"
    }
   ],
   "source": [
    "max_value_cgy_after"
   ]
  },
  {
   "cell_type": "code",
   "execution_count": 48,
   "metadata": {},
   "outputs": [],
   "source": [
    "std_value_cgy_after = check_values_cgy_after['Assessed Value'].std() #calculating the standard deviation for assessed value in Calgary"
   ]
  },
  {
   "cell_type": "code",
   "execution_count": 49,
   "metadata": {},
   "outputs": [
    {
     "data": {
      "text/plain": [
       "293982.64727313374"
      ]
     },
     "execution_count": 49,
     "metadata": {},
     "output_type": "execute_result"
    }
   ],
   "source": [
    "std_value_cgy_after"
   ]
  },
  {
   "cell_type": "code",
   "execution_count": 50,
   "metadata": {},
   "outputs": [],
   "source": [
    "average_cgy_after = check_values_cgy_after['Assessed Value'].sum() / len(check_values_cgy_after['Assessed Value']) \n",
    "#calculating the average for assessed value in Calgary by taking the sum of asscessed value and dividing amount of rows"
   ]
  },
  {
   "cell_type": "code",
   "execution_count": 51,
   "metadata": {},
   "outputs": [
    {
     "data": {
      "text/plain": [
       "359974.2435756222"
      ]
     },
     "execution_count": 51,
     "metadata": {},
     "output_type": "execute_result"
    }
   ],
   "source": [
    "average_cgy_after"
   ]
  },
  {
   "cell_type": "code",
   "execution_count": 52,
   "metadata": {},
   "outputs": [
    {
     "data": {
      "image/png": "[encoded data removed]",
      "text/plain": [
       "<Figure size 640x480 with 1 Axes>"
      ]
     },
     "metadata": {},
     "output_type": "display_data"
    }
   ],
   "source": [
    "#Graph after removing outliers for the assessed value by actual year built\n",
    "\n",
    "check_values_cgy_after.plot(x='Actual Year Built', y='Assessed Value', kind= 'scatter') #makes a scatter plot with the x axis as actual year built and y axis as assessed value\n",
    "plt.axhline(mean_value_cgy_after, color='red', linestyle='--', label='Mean') #plots the mean dotted line\n",
    "plt.axhline(min_value_cgy_after, color='blue', linestyle='--', label='Min') #plots the min dotted line\n",
    "plt.axhline(max_value_cgy_after, color='orange', linestyle='--', label='Max') #plots the max dotted line\n",
    "plt.axhline(std_value_cgy_after, color='pink', linestyle='--', label='Std') #plots the standard deviation dotted line\n",
    "plt.axhline(average_cgy_after, color='green', linestyle='--', label='Avg') #plots the average dotted line\n",
    "plt.title(\"Assessed Value by New Build After Removing Outliers\")  # title of the graph\n",
    "\n",
    "\n",
    "plt.gca().yaxis.set_major_formatter(formatter)  #change values into a million dollar value on y axis\n",
    "\n",
    "\n",
    "plt.legend() #show the legend\n",
    "plt.show() # show the graph"
   ]
  },
  {
   "attachments": {},
   "cell_type": "markdown",
   "metadata": {},
   "source": [
    "## Assessed Value VS Land Sizes For Calgary"
   ]
  },
  {
   "cell_type": "code",
   "execution_count": 53,
   "metadata": {},
   "outputs": [],
   "source": [
    "land_size_cgy = residential_subset_cgy[['Assessed Value','Lot Size']] #filter so only the columns for assesed value and lot size is shown and puts into land size"
   ]
  },
  {
   "cell_type": "code",
   "execution_count": 54,
   "metadata": {},
   "outputs": [
    {
     "data": {
      "text/html": [
       "<div>\n",
       "<style scoped>\n",
       "    .dataframe tbody tr th:only-of-type {\n",
       "        vertical-align: middle;\n",
       "    }\n",
       "\n",
       "    .dataframe tbody tr th {\n",
       "        vertical-align: top;\n",
       "    }\n",
       "\n",
       "    .dataframe thead th {\n",
       "        text-align: right;\n",
       "    }\n",
       "</style>\n",
       "<table border=\"1\" class=\"dataframe\">\n",
       "  <thead>\n",
       "    <tr style=\"text-align: right;\">\n",
       "      <th></th>\n",
       "      <th>Assessed Value</th>\n",
       "      <th>Lot Size</th>\n",
       "    </tr>\n",
       "  </thead>\n",
       "  <tbody>\n",
       "    <tr>\n",
       "      <th>0</th>\n",
       "      <td>198500.0</td>\n",
       "      <td>NaN</td>\n",
       "    </tr>\n",
       "    <tr>\n",
       "      <th>1</th>\n",
       "      <td>165000.0</td>\n",
       "      <td>NaN</td>\n",
       "    </tr>\n",
       "    <tr>\n",
       "      <th>2</th>\n",
       "      <td>88500.0</td>\n",
       "      <td>NaN</td>\n",
       "    </tr>\n",
       "    <tr>\n",
       "      <th>3</th>\n",
       "      <td>394000.0</td>\n",
       "      <td>NaN</td>\n",
       "    </tr>\n",
       "    <tr>\n",
       "      <th>4</th>\n",
       "      <td>101000.0</td>\n",
       "      <td>NaN</td>\n",
       "    </tr>\n",
       "  </tbody>\n",
       "</table>\n",
       "</div>"
      ],
      "text/plain": [
       "   Assessed Value  Lot Size\n",
       "0        198500.0       NaN\n",
       "1        165000.0       NaN\n",
       "2         88500.0       NaN\n",
       "3        394000.0       NaN\n",
       "4        101000.0       NaN"
      ]
     },
     "execution_count": 54,
     "metadata": {},
     "output_type": "execute_result"
    }
   ],
   "source": [
    "land_size_cgy.head() #small sample of the table"
   ]
  },
  {
   "cell_type": "code",
   "execution_count": 55,
   "metadata": {},
   "outputs": [
    {
     "data": {
      "text/plain": [
       "8051005"
      ]
     },
     "execution_count": 55,
     "metadata": {},
     "output_type": "execute_result"
    }
   ],
   "source": [
    "len(land_size_cgy) #amount of row before null values are dropped"
   ]
  },
  {
   "cell_type": "code",
   "execution_count": 56,
   "metadata": {},
   "outputs": [],
   "source": [
    "land_size_drop_cgy=land_size_cgy.dropna() # drop rows that have null values on both assessed value and lot size"
   ]
  },
  {
   "cell_type": "code",
   "execution_count": 57,
   "metadata": {},
   "outputs": [
    {
     "data": {
      "text/plain": [
       "3131526"
      ]
     },
     "execution_count": 57,
     "metadata": {},
     "output_type": "execute_result"
    }
   ],
   "source": [
    "len(land_size_drop_cgy) #amount of row after null values are dropped"
   ]
  },
  {
   "cell_type": "code",
   "execution_count": 58,
   "metadata": {},
   "outputs": [
    {
     "data": {
      "text/html": [
       "<div>\n",
       "<style scoped>\n",
       "    .dataframe tbody tr th:only-of-type {\n",
       "        vertical-align: middle;\n",
       "    }\n",
       "\n",
       "    .dataframe tbody tr th {\n",
       "        vertical-align: top;\n",
       "    }\n",
       "\n",
       "    .dataframe thead th {\n",
       "        text-align: right;\n",
       "    }\n",
       "</style>\n",
       "<table border=\"1\" class=\"dataframe\">\n",
       "  <thead>\n",
       "    <tr style=\"text-align: right;\">\n",
       "      <th></th>\n",
       "      <th>Assessed Value</th>\n",
       "      <th>Lot Size</th>\n",
       "    </tr>\n",
       "  </thead>\n",
       "  <tbody>\n",
       "    <tr>\n",
       "      <th>9</th>\n",
       "      <td>963500.0</td>\n",
       "      <td>17742.6</td>\n",
       "    </tr>\n",
       "    <tr>\n",
       "      <th>26</th>\n",
       "      <td>597500.0</td>\n",
       "      <td>17934.6</td>\n",
       "    </tr>\n",
       "    <tr>\n",
       "      <th>27</th>\n",
       "      <td>262500.0</td>\n",
       "      <td>1380.0</td>\n",
       "    </tr>\n",
       "    <tr>\n",
       "      <th>33</th>\n",
       "      <td>565000.0</td>\n",
       "      <td>19684.6</td>\n",
       "    </tr>\n",
       "    <tr>\n",
       "      <th>39</th>\n",
       "      <td>244000.0</td>\n",
       "      <td>1380.0</td>\n",
       "    </tr>\n",
       "    <tr>\n",
       "      <th>...</th>\n",
       "      <td>...</td>\n",
       "      <td>...</td>\n",
       "    </tr>\n",
       "    <tr>\n",
       "      <th>8483937</th>\n",
       "      <td>899000.0</td>\n",
       "      <td>740.2</td>\n",
       "    </tr>\n",
       "    <tr>\n",
       "      <th>8483938</th>\n",
       "      <td>468000.0</td>\n",
       "      <td>361.0</td>\n",
       "    </tr>\n",
       "    <tr>\n",
       "      <th>8483939</th>\n",
       "      <td>381500.0</td>\n",
       "      <td>310.7</td>\n",
       "    </tr>\n",
       "    <tr>\n",
       "      <th>8483940</th>\n",
       "      <td>380500.0</td>\n",
       "      <td>326.4</td>\n",
       "    </tr>\n",
       "    <tr>\n",
       "      <th>8483941</th>\n",
       "      <td>373500.0</td>\n",
       "      <td>328.1</td>\n",
       "    </tr>\n",
       "  </tbody>\n",
       "</table>\n",
       "<p>3131526 rows × 2 columns</p>\n",
       "</div>"
      ],
      "text/plain": [
       "         Assessed Value  Lot Size\n",
       "9              963500.0   17742.6\n",
       "26             597500.0   17934.6\n",
       "27             262500.0    1380.0\n",
       "33             565000.0   19684.6\n",
       "39             244000.0    1380.0\n",
       "...                 ...       ...\n",
       "8483937        899000.0     740.2\n",
       "8483938        468000.0     361.0\n",
       "8483939        381500.0     310.7\n",
       "8483940        380500.0     326.4\n",
       "8483941        373500.0     328.1\n",
       "\n",
       "[3131526 rows x 2 columns]"
      ]
     },
     "execution_count": 58,
     "metadata": {},
     "output_type": "execute_result"
    }
   ],
   "source": [
    "land_size_drop_cgy #sample of the data after null values were dropped"
   ]
  },
  {
   "cell_type": "code",
   "execution_count": 59,
   "metadata": {},
   "outputs": [
    {
     "data": {
      "text/plain": [
       "Lot Size\n",
       "0.0        32152\n",
       "17030.4    12690\n",
       "557.2      10735\n",
       "464.3      10684\n",
       "557.1      10218\n",
       "           ...  \n",
       "2047.9         1\n",
       "4151.0         1\n",
       "4892.0         1\n",
       "7260.0         1\n",
       "17160.0        1\n",
       "Name: count, Length: 16603, dtype: int64"
      ]
     },
     "execution_count": 59,
     "metadata": {},
     "output_type": "execute_result"
    }
   ],
   "source": [
    "land_size_drop_cgy['Lot Size'].value_counts() #shows the unique value and the count for lot size"
   ]
  },
  {
   "cell_type": "code",
   "execution_count": 60,
   "metadata": {},
   "outputs": [],
   "source": [
    "year_land_subset_cgy = pd.DataFrame(land_size_drop_cgy) # put into a new dataframe"
   ]
  },
  {
   "cell_type": "code",
   "execution_count": 61,
   "metadata": {},
   "outputs": [],
   "source": [
    "mean_value_land_cgy = year_land_subset_cgy['Assessed Value'].mean() #calculating the mean for assessed value in Calgary"
   ]
  },
  {
   "cell_type": "code",
   "execution_count": 62,
   "metadata": {},
   "outputs": [
    {
     "data": {
      "text/plain": [
       "430723.65779878566"
      ]
     },
     "execution_count": 62,
     "metadata": {},
     "output_type": "execute_result"
    }
   ],
   "source": [
    "mean_value_land_cgy"
   ]
  },
  {
   "cell_type": "code",
   "execution_count": 63,
   "metadata": {},
   "outputs": [],
   "source": [
    "min_value_land_cgy = year_land_subset_cgy['Assessed Value'].min() #calculating the min for assessed value in Calgary"
   ]
  },
  {
   "cell_type": "code",
   "execution_count": 64,
   "metadata": {},
   "outputs": [
    {
     "data": {
      "text/plain": [
       "0.0"
      ]
     },
     "execution_count": 64,
     "metadata": {},
     "output_type": "execute_result"
    }
   ],
   "source": [
    "min_value_land_cgy"
   ]
  },
  {
   "cell_type": "code",
   "execution_count": 65,
   "metadata": {},
   "outputs": [],
   "source": [
    "max_value_land_cgy = year_land_subset_cgy['Assessed Value'].max() #calculating the max for assessed value in Calgary"
   ]
  },
  {
   "cell_type": "code",
   "execution_count": 66,
   "metadata": {},
   "outputs": [
    {
     "data": {
      "text/plain": [
       "179460000.0"
      ]
     },
     "execution_count": 66,
     "metadata": {},
     "output_type": "execute_result"
    }
   ],
   "source": [
    "max_value_land_cgy"
   ]
  },
  {
   "cell_type": "code",
   "execution_count": 67,
   "metadata": {},
   "outputs": [],
   "source": [
    "std_value_land_cgy = year_land_subset_cgy['Assessed Value'].std() #calculating the standard deviation for assessed value in Calgary"
   ]
  },
  {
   "cell_type": "code",
   "execution_count": 68,
   "metadata": {},
   "outputs": [
    {
     "data": {
      "text/plain": [
       "942339.8958029177"
      ]
     },
     "execution_count": 68,
     "metadata": {},
     "output_type": "execute_result"
    }
   ],
   "source": [
    "std_value_land_cgy"
   ]
  },
  {
   "cell_type": "code",
   "execution_count": 69,
   "metadata": {},
   "outputs": [],
   "source": [
    "average_land_cgy = year_land_subset_cgy['Assessed Value'].sum() / len(year_land_subset_cgy['Assessed Value']) \n",
    "#calculating the average for assessed value in Calgary by taking the sum of asscessed value and dividing amount of rows"
   ]
  },
  {
   "cell_type": "code",
   "execution_count": 70,
   "metadata": {},
   "outputs": [
    {
     "data": {
      "text/plain": [
       "430723.65779878566"
      ]
     },
     "execution_count": 70,
     "metadata": {},
     "output_type": "execute_result"
    }
   ],
   "source": [
    "average_land_cgy"
   ]
  },
  {
   "cell_type": "code",
   "execution_count": 71,
   "metadata": {},
   "outputs": [],
   "source": [
    "#Group lot sizes to small, medium and large \n",
    "\n",
    "# Defining the ranges for small, medium, and large land sizes. Values are in meter squared\n",
    "small_range = (0, 50000)\n",
    "medium_range = (50001, 100000)\n",
    "large_range = (100001, float('inf')) # 100 001 and above\n",
    "\n",
    "# Function to categorize the land size based on ranges\n",
    "def categorize_land_size(size):\n",
    "    if size >= small_range[0] and size <= small_range[1]: # if the size is between 0 - 50 000 return small\n",
    "        return 'Small'\n",
    "    elif size >= medium_range[0] and size <= medium_range[1]: # if the size is between 50 001 to 100 000 return medium\n",
    "        return 'Medium'\n",
    "    elif size >= large_range[0] and size <= large_range[1]: # if the size is between 100 001 to max return large\n",
    "        return 'Large'"
   ]
  },
  {
   "cell_type": "code",
   "execution_count": 72,
   "metadata": {},
   "outputs": [
    {
     "name": "stdout",
     "output_type": "stream",
     "text": [
      "         Assessed Value  Lot Size Land Category\n",
      "9              963500.0   17742.6         Small\n",
      "26             597500.0   17934.6         Small\n",
      "27             262500.0    1380.0         Small\n",
      "33             565000.0   19684.6         Small\n",
      "39             244000.0    1380.0         Small\n",
      "...                 ...       ...           ...\n",
      "8483937        899000.0     740.2         Small\n",
      "8483938        468000.0     361.0         Small\n",
      "8483939        381500.0     310.7         Small\n",
      "8483940        380500.0     326.4         Small\n",
      "8483941        373500.0     328.1         Small\n",
      "\n",
      "[3131526 rows x 3 columns]\n"
     ]
    }
   ],
   "source": [
    "# Applies the categorization function and creates a new column called 'Land Category'\n",
    "year_land_subset_cgy['Land Category'] = year_land_subset_cgy['Lot Size'].apply(categorize_land_size)\n",
    "\n",
    "# Print a sample of the updated dataset\n",
    "print(year_land_subset_cgy)"
   ]
  },
  {
   "cell_type": "code",
   "execution_count": 73,
   "metadata": {},
   "outputs": [],
   "source": [
    "#give you a even dataset\n",
    "year_land_subset_cgy= year_land_subset_cgy.sort_values('Lot Size') #sort the lot size by ascening order\n",
    "small_divisible_calgary= math.floor(1/3*len(year_land_subset_cgy)) # splits the year_land_subset_cgy by 1/3, mulitples the year_land_subset_cgy and takes the floor value\n",
    "small = [] #creates a empty array\n",
    "medium = [] #creates a empty array\n",
    "large = [] #creates a empty array\n",
    "for i in range (len(year_land_subset_cgy)): #loops thru the entire year_land_subset_cgy table\n",
    "     if i <= small_divisible_calgary : # if the floor value is greater than i then append the assessed value into the small array\n",
    "             small.append(year_land_subset_cgy.iloc[i, 0])\n",
    "     elif i <= small_divisible_calgary*2: # if the floor value times 2 is greater than i then append the assessed value into the medium array\n",
    "              medium.append(year_land_subset_cgy.iloc[i, 0])\n",
    "     else:\n",
    "              large.append(year_land_subset_cgy.iloc[i, 0]) #else then append the assessed value into the large array\n",
    "    "
   ]
  },
  {
   "cell_type": "code",
   "execution_count": 74,
   "metadata": {},
   "outputs": [],
   "source": [
    "small_dataframe = pd.DataFrame({'Assessed Value' :  small, 'Size' : \"Small\"}) #put all the small array value into a new dataFrame and classy the values as small"
   ]
  },
  {
   "cell_type": "code",
   "execution_count": 75,
   "metadata": {},
   "outputs": [
    {
     "data": {
      "text/html": [
       "<div>\n",
       "<style scoped>\n",
       "    .dataframe tbody tr th:only-of-type {\n",
       "        vertical-align: middle;\n",
       "    }\n",
       "\n",
       "    .dataframe tbody tr th {\n",
       "        vertical-align: top;\n",
       "    }\n",
       "\n",
       "    .dataframe thead th {\n",
       "        text-align: right;\n",
       "    }\n",
       "</style>\n",
       "<table border=\"1\" class=\"dataframe\">\n",
       "  <thead>\n",
       "    <tr style=\"text-align: right;\">\n",
       "      <th></th>\n",
       "      <th>Assessed Value</th>\n",
       "      <th>Size</th>\n",
       "    </tr>\n",
       "  </thead>\n",
       "  <tbody>\n",
       "    <tr>\n",
       "      <th>0</th>\n",
       "      <td>26500.0</td>\n",
       "      <td>Small</td>\n",
       "    </tr>\n",
       "    <tr>\n",
       "      <th>1</th>\n",
       "      <td>207500.0</td>\n",
       "      <td>Small</td>\n",
       "    </tr>\n",
       "    <tr>\n",
       "      <th>2</th>\n",
       "      <td>207500.0</td>\n",
       "      <td>Small</td>\n",
       "    </tr>\n",
       "    <tr>\n",
       "      <th>3</th>\n",
       "      <td>207500.0</td>\n",
       "      <td>Small</td>\n",
       "    </tr>\n",
       "    <tr>\n",
       "      <th>4</th>\n",
       "      <td>25000.0</td>\n",
       "      <td>Small</td>\n",
       "    </tr>\n",
       "    <tr>\n",
       "      <th>...</th>\n",
       "      <td>...</td>\n",
       "      <td>...</td>\n",
       "    </tr>\n",
       "    <tr>\n",
       "      <th>1043838</th>\n",
       "      <td>490000.0</td>\n",
       "      <td>Small</td>\n",
       "    </tr>\n",
       "    <tr>\n",
       "      <th>1043839</th>\n",
       "      <td>396000.0</td>\n",
       "      <td>Small</td>\n",
       "    </tr>\n",
       "    <tr>\n",
       "      <th>1043840</th>\n",
       "      <td>545000.0</td>\n",
       "      <td>Small</td>\n",
       "    </tr>\n",
       "    <tr>\n",
       "      <th>1043841</th>\n",
       "      <td>1310000.0</td>\n",
       "      <td>Small</td>\n",
       "    </tr>\n",
       "    <tr>\n",
       "      <th>1043842</th>\n",
       "      <td>327000.0</td>\n",
       "      <td>Small</td>\n",
       "    </tr>\n",
       "  </tbody>\n",
       "</table>\n",
       "<p>1043843 rows × 2 columns</p>\n",
       "</div>"
      ],
      "text/plain": [
       "         Assessed Value   Size\n",
       "0               26500.0  Small\n",
       "1              207500.0  Small\n",
       "2              207500.0  Small\n",
       "3              207500.0  Small\n",
       "4               25000.0  Small\n",
       "...                 ...    ...\n",
       "1043838        490000.0  Small\n",
       "1043839        396000.0  Small\n",
       "1043840        545000.0  Small\n",
       "1043841       1310000.0  Small\n",
       "1043842        327000.0  Small\n",
       "\n",
       "[1043843 rows x 2 columns]"
      ]
     },
     "execution_count": 75,
     "metadata": {},
     "output_type": "execute_result"
    }
   ],
   "source": [
    "small_dataframe"
   ]
  },
  {
   "cell_type": "code",
   "execution_count": 76,
   "metadata": {},
   "outputs": [],
   "source": [
    "medium_dataframe = pd.DataFrame({  'Assessed Value' :  medium, 'Size' : 'Medium'}) #put all the medium array value into a new dataFrame and classy the values as medium"
   ]
  },
  {
   "cell_type": "code",
   "execution_count": 77,
   "metadata": {},
   "outputs": [
    {
     "data": {
      "text/html": [
       "<div>\n",
       "<style scoped>\n",
       "    .dataframe tbody tr th:only-of-type {\n",
       "        vertical-align: middle;\n",
       "    }\n",
       "\n",
       "    .dataframe tbody tr th {\n",
       "        vertical-align: top;\n",
       "    }\n",
       "\n",
       "    .dataframe thead th {\n",
       "        text-align: right;\n",
       "    }\n",
       "</style>\n",
       "<table border=\"1\" class=\"dataframe\">\n",
       "  <thead>\n",
       "    <tr style=\"text-align: right;\">\n",
       "      <th></th>\n",
       "      <th>Assessed Value</th>\n",
       "      <th>Size</th>\n",
       "    </tr>\n",
       "  </thead>\n",
       "  <tbody>\n",
       "    <tr>\n",
       "      <th>0</th>\n",
       "      <td>414500.0</td>\n",
       "      <td>Medium</td>\n",
       "    </tr>\n",
       "    <tr>\n",
       "      <th>1</th>\n",
       "      <td>477000.0</td>\n",
       "      <td>Medium</td>\n",
       "    </tr>\n",
       "    <tr>\n",
       "      <th>2</th>\n",
       "      <td>482000.0</td>\n",
       "      <td>Medium</td>\n",
       "    </tr>\n",
       "    <tr>\n",
       "      <th>3</th>\n",
       "      <td>349000.0</td>\n",
       "      <td>Medium</td>\n",
       "    </tr>\n",
       "    <tr>\n",
       "      <th>4</th>\n",
       "      <td>453000.0</td>\n",
       "      <td>Medium</td>\n",
       "    </tr>\n",
       "    <tr>\n",
       "      <th>...</th>\n",
       "      <td>...</td>\n",
       "      <td>...</td>\n",
       "    </tr>\n",
       "    <tr>\n",
       "      <th>1043837</th>\n",
       "      <td>543500.0</td>\n",
       "      <td>Medium</td>\n",
       "    </tr>\n",
       "    <tr>\n",
       "      <th>1043838</th>\n",
       "      <td>645500.0</td>\n",
       "      <td>Medium</td>\n",
       "    </tr>\n",
       "    <tr>\n",
       "      <th>1043839</th>\n",
       "      <td>725000.0</td>\n",
       "      <td>Medium</td>\n",
       "    </tr>\n",
       "    <tr>\n",
       "      <th>1043840</th>\n",
       "      <td>473000.0</td>\n",
       "      <td>Medium</td>\n",
       "    </tr>\n",
       "    <tr>\n",
       "      <th>1043841</th>\n",
       "      <td>858500.0</td>\n",
       "      <td>Medium</td>\n",
       "    </tr>\n",
       "  </tbody>\n",
       "</table>\n",
       "<p>1043842 rows × 2 columns</p>\n",
       "</div>"
      ],
      "text/plain": [
       "         Assessed Value    Size\n",
       "0              414500.0  Medium\n",
       "1              477000.0  Medium\n",
       "2              482000.0  Medium\n",
       "3              349000.0  Medium\n",
       "4              453000.0  Medium\n",
       "...                 ...     ...\n",
       "1043837        543500.0  Medium\n",
       "1043838        645500.0  Medium\n",
       "1043839        725000.0  Medium\n",
       "1043840        473000.0  Medium\n",
       "1043841        858500.0  Medium\n",
       "\n",
       "[1043842 rows x 2 columns]"
      ]
     },
     "execution_count": 77,
     "metadata": {},
     "output_type": "execute_result"
    }
   ],
   "source": [
    "medium_dataframe"
   ]
  },
  {
   "cell_type": "code",
   "execution_count": 78,
   "metadata": {},
   "outputs": [],
   "source": [
    "large_dataframe = pd.DataFrame({  'Assessed Value' :  large, 'Size' : 'Large'}) #put all the large array value into a new dataFrame and classy the values as large"
   ]
  },
  {
   "cell_type": "code",
   "execution_count": 79,
   "metadata": {},
   "outputs": [
    {
     "data": {
      "text/html": [
       "<div>\n",
       "<style scoped>\n",
       "    .dataframe tbody tr th:only-of-type {\n",
       "        vertical-align: middle;\n",
       "    }\n",
       "\n",
       "    .dataframe tbody tr th {\n",
       "        vertical-align: top;\n",
       "    }\n",
       "\n",
       "    .dataframe thead th {\n",
       "        text-align: right;\n",
       "    }\n",
       "</style>\n",
       "<table border=\"1\" class=\"dataframe\">\n",
       "  <thead>\n",
       "    <tr style=\"text-align: right;\">\n",
       "      <th></th>\n",
       "      <th>Assessed Value</th>\n",
       "      <th>Size</th>\n",
       "    </tr>\n",
       "  </thead>\n",
       "  <tbody>\n",
       "    <tr>\n",
       "      <th>0</th>\n",
       "      <td>362500.0</td>\n",
       "      <td>Large</td>\n",
       "    </tr>\n",
       "    <tr>\n",
       "      <th>1</th>\n",
       "      <td>1210000.0</td>\n",
       "      <td>Large</td>\n",
       "    </tr>\n",
       "    <tr>\n",
       "      <th>2</th>\n",
       "      <td>515500.0</td>\n",
       "      <td>Large</td>\n",
       "    </tr>\n",
       "    <tr>\n",
       "      <th>3</th>\n",
       "      <td>389500.0</td>\n",
       "      <td>Large</td>\n",
       "    </tr>\n",
       "    <tr>\n",
       "      <th>4</th>\n",
       "      <td>705000.0</td>\n",
       "      <td>Large</td>\n",
       "    </tr>\n",
       "    <tr>\n",
       "      <th>...</th>\n",
       "      <td>...</td>\n",
       "      <td>...</td>\n",
       "    </tr>\n",
       "    <tr>\n",
       "      <th>1043836</th>\n",
       "      <td>893500.0</td>\n",
       "      <td>Large</td>\n",
       "    </tr>\n",
       "    <tr>\n",
       "      <th>1043837</th>\n",
       "      <td>4180000.0</td>\n",
       "      <td>Large</td>\n",
       "    </tr>\n",
       "    <tr>\n",
       "      <th>1043838</th>\n",
       "      <td>29600000.0</td>\n",
       "      <td>Large</td>\n",
       "    </tr>\n",
       "    <tr>\n",
       "      <th>1043839</th>\n",
       "      <td>64580000.0</td>\n",
       "      <td>Large</td>\n",
       "    </tr>\n",
       "    <tr>\n",
       "      <th>1043840</th>\n",
       "      <td>748500.0</td>\n",
       "      <td>Large</td>\n",
       "    </tr>\n",
       "  </tbody>\n",
       "</table>\n",
       "<p>1043841 rows × 2 columns</p>\n",
       "</div>"
      ],
      "text/plain": [
       "         Assessed Value   Size\n",
       "0              362500.0  Large\n",
       "1             1210000.0  Large\n",
       "2              515500.0  Large\n",
       "3              389500.0  Large\n",
       "4              705000.0  Large\n",
       "...                 ...    ...\n",
       "1043836        893500.0  Large\n",
       "1043837       4180000.0  Large\n",
       "1043838      29600000.0  Large\n",
       "1043839      64580000.0  Large\n",
       "1043840        748500.0  Large\n",
       "\n",
       "[1043841 rows x 2 columns]"
      ]
     },
     "execution_count": 79,
     "metadata": {},
     "output_type": "execute_result"
    }
   ],
   "source": [
    "large_dataframe"
   ]
  },
  {
   "cell_type": "code",
   "execution_count": 80,
   "metadata": {},
   "outputs": [],
   "source": [
    "merged_df_cgy = pd.concat([small_dataframe, medium_dataframe, large_dataframe]) #Concatenates all 3 dataFrames and put into a one dataframe"
   ]
  },
  {
   "cell_type": "code",
   "execution_count": 81,
   "metadata": {},
   "outputs": [
    {
     "data": {
      "text/html": [
       "<div>\n",
       "<style scoped>\n",
       "    .dataframe tbody tr th:only-of-type {\n",
       "        vertical-align: middle;\n",
       "    }\n",
       "\n",
       "    .dataframe tbody tr th {\n",
       "        vertical-align: top;\n",
       "    }\n",
       "\n",
       "    .dataframe thead th {\n",
       "        text-align: right;\n",
       "    }\n",
       "</style>\n",
       "<table border=\"1\" class=\"dataframe\">\n",
       "  <thead>\n",
       "    <tr style=\"text-align: right;\">\n",
       "      <th></th>\n",
       "      <th>Assessed Value</th>\n",
       "      <th>Size</th>\n",
       "    </tr>\n",
       "  </thead>\n",
       "  <tbody>\n",
       "    <tr>\n",
       "      <th>0</th>\n",
       "      <td>26500.0</td>\n",
       "      <td>Small</td>\n",
       "    </tr>\n",
       "    <tr>\n",
       "      <th>1</th>\n",
       "      <td>207500.0</td>\n",
       "      <td>Small</td>\n",
       "    </tr>\n",
       "    <tr>\n",
       "      <th>2</th>\n",
       "      <td>207500.0</td>\n",
       "      <td>Small</td>\n",
       "    </tr>\n",
       "    <tr>\n",
       "      <th>3</th>\n",
       "      <td>207500.0</td>\n",
       "      <td>Small</td>\n",
       "    </tr>\n",
       "    <tr>\n",
       "      <th>4</th>\n",
       "      <td>25000.0</td>\n",
       "      <td>Small</td>\n",
       "    </tr>\n",
       "    <tr>\n",
       "      <th>...</th>\n",
       "      <td>...</td>\n",
       "      <td>...</td>\n",
       "    </tr>\n",
       "    <tr>\n",
       "      <th>1043836</th>\n",
       "      <td>893500.0</td>\n",
       "      <td>Large</td>\n",
       "    </tr>\n",
       "    <tr>\n",
       "      <th>1043837</th>\n",
       "      <td>4180000.0</td>\n",
       "      <td>Large</td>\n",
       "    </tr>\n",
       "    <tr>\n",
       "      <th>1043838</th>\n",
       "      <td>29600000.0</td>\n",
       "      <td>Large</td>\n",
       "    </tr>\n",
       "    <tr>\n",
       "      <th>1043839</th>\n",
       "      <td>64580000.0</td>\n",
       "      <td>Large</td>\n",
       "    </tr>\n",
       "    <tr>\n",
       "      <th>1043840</th>\n",
       "      <td>748500.0</td>\n",
       "      <td>Large</td>\n",
       "    </tr>\n",
       "  </tbody>\n",
       "</table>\n",
       "<p>3131526 rows × 2 columns</p>\n",
       "</div>"
      ],
      "text/plain": [
       "         Assessed Value   Size\n",
       "0               26500.0  Small\n",
       "1              207500.0  Small\n",
       "2              207500.0  Small\n",
       "3              207500.0  Small\n",
       "4               25000.0  Small\n",
       "...                 ...    ...\n",
       "1043836        893500.0  Large\n",
       "1043837       4180000.0  Large\n",
       "1043838      29600000.0  Large\n",
       "1043839      64580000.0  Large\n",
       "1043840        748500.0  Large\n",
       "\n",
       "[3131526 rows x 2 columns]"
      ]
     },
     "execution_count": 81,
     "metadata": {},
     "output_type": "execute_result"
    }
   ],
   "source": [
    "merged_df_cgy # sample of the concatenate data"
   ]
  },
  {
   "cell_type": "code",
   "execution_count": 82,
   "metadata": {},
   "outputs": [
    {
     "data": {
      "image/png": "[encoded data removed]",
      "text/plain": [
       "<Figure size 640x480 with 1 Axes>"
      ]
     },
     "metadata": {},
     "output_type": "display_data"
    }
   ],
   "source": [
    "#Shows a graph of the homes built and the land category of the homes\n",
    "merged_df_cgy.plot(x='Size', y='Assessed Value', kind='scatter') #creates a scatter plot with the new concatenate data\n",
    "plt.axhline(mean_value_land_cgy, color='red', linestyle='--', label='Mean') #plots the mean dotted line\n",
    "plt.axhline(min_value_land_cgy, color='blue', linestyle='--', label='Min') #plots the min dotted line\n",
    "plt.axhline(max_value_land_cgy, color='orange', linestyle='--', label='Max') #plots the max dotted line\n",
    "plt.axhline(std_value_land_cgy, color='pink', linestyle='--', label='Std') #plots the standard deviation dotted line\n",
    "plt.axhline(average_land_cgy, color='green', linestyle='--', label='Avg') #plots the average dotted line\n",
    "plt.title(\"Assessed Value by Land Category With Outliers\") # title of the graph\n",
    "\n",
    "plt.gca().yaxis.set_major_formatter(formatter) #change values into a million dollar value\n",
    "\n",
    "#plt.legend()\n",
    "plt.show()"
   ]
  },
  {
   "cell_type": "code",
   "execution_count": 83,
   "metadata": {},
   "outputs": [],
   "source": [
    "small_array = [] #creates a empty array\n",
    "medium_array = [] #creates a empty array\n",
    "large_array = [] #creates a empty array\n",
    "countsmall= 0 #intialize to zero\n",
    "countmedium = 0 #intialize to zero\n",
    "countlarge =0#intialize to zero\n",
    "for i in range(len(year_land_subset_cgy)): #loops thru the entire year_land_subset_cgy table\n",
    "    if year_land_subset_cgy.iloc[i,2] == \"Small\"  : #looks at the 2nd columns of year_land_subset_cgy and if it matches with Small\n",
    "         small_array.append(year_land_subset_cgy.iloc[i,0]) #if true then append the assessed value to the small_array\n",
    "         countsmall = countsmall +1 #adds one to countsmall\n",
    "    elif year_land_subset_cgy.iloc[i,2] == \"Medium\"  : #looks at the 2nd columns of year_land_subset_cgy and if it matches with Medium\n",
    "         medium_array.append(year_land_subset_cgy.iloc[i,0]) #if true then append the assessed value to the medium_array\n",
    "         countmedium = countmedium + 1 #adds one to countmedium\n",
    "    else:\n",
    "         large_array.append(year_land_subset_cgy.iloc[i,0]) #else then append the assessed value to the large_array\n",
    "         countlarge = countlarge + 1 #adds one to countlarge\n",
    "\n"
   ]
  },
  {
   "cell_type": "code",
   "execution_count": 84,
   "metadata": {},
   "outputs": [],
   "source": [
    "#function for finding outliers\n",
    "def find_outliers(data, threshold=1):\n",
    "    z_scores = (data - np.mean(data)) / np.std(data) #calculates the z score\n",
    "    outliers = np.abs(z_scores) > threshold # calculating the absolute value of the z score and see if its bigger than the threshold\n",
    "    return outliers #returns true or false\n",
    "\n",
    "smalloutliers = find_outliers(small_array) #find outlier for small_array\n",
    "mediumoutliers = find_outliers(medium_array) #find outlier for medium_array\n",
    "largeoutliers = find_outliers(large_array) #find outlier for large_array"
   ]
  },
  {
   "cell_type": "code",
   "execution_count": 85,
   "metadata": {},
   "outputs": [],
   "source": [
    "fixed_small_array = [] #creates a empty array\n",
    "fixed_medium_array = [] #creates a empty array\n",
    "fixed_large_array = [] #creates a empty array\n",
    "\n",
    "for i in range(len(small_array)): #loops thru the small_array\n",
    "      if smalloutliers[i] == False: #checks if the index of i in the small outlier array is false\n",
    "           fixed_small_array.append(small_array[i]) #if the index of the small outlier array is false then append the index of i of the small_array to the fixed_small_array \n",
    "      else: #else move on to the next index \n",
    "               pass\n",
    "\n",
    "for i in range(len(medium_array)): #loops thru the medium_array\n",
    "      if mediumoutliers[i] == False: #checks if the index of i in the medium outlier array is false\n",
    "           fixed_medium_array.append(medium_array[i]) #if the index of the medium outlier array is false then append the index of i of the medium_array to the fixed_medium_array \n",
    "      else: #else move on to the next index \n",
    "               pass\n",
    "\n",
    "for i in range(len(large_array)): #loops thru the large_array\n",
    "      if largeoutliers[i] == False: #checks if the index of i in the large outlier array is false\n",
    "           fixed_large_array.append(large_array[i]) #if the index of the large outlier array is false then append the index of i of the large_array to the fixed_large_array\n",
    "      else:\n",
    "               pass "
   ]
  },
  {
   "cell_type": "code",
   "execution_count": 86,
   "metadata": {},
   "outputs": [],
   "source": [
    "small_dataframe = pd.DataFrame({'Assessed Value' :  fixed_small_array, 'Size' : \"Small\"}) #put all the fixed_small_array values into a new dataFrame and classy the values as Small"
   ]
  },
  {
   "cell_type": "code",
   "execution_count": 87,
   "metadata": {},
   "outputs": [],
   "source": [
    "medium_dataframe = pd.DataFrame({'Assessed Value' :  fixed_medium_array, 'Size' : \"Medium\"}) #put all the fixed_medium_array values into a new dataFrame and classy the values as Medium"
   ]
  },
  {
   "cell_type": "code",
   "execution_count": 88,
   "metadata": {},
   "outputs": [],
   "source": [
    "large_dataframe = pd.DataFrame({'Assessed Value' :  fixed_large_array, 'Size' : \"Large\"}) #put all the fixed_large_array values into a new dataFrame and classy the values as Large"
   ]
  },
  {
   "cell_type": "code",
   "execution_count": 89,
   "metadata": {},
   "outputs": [],
   "source": [
    "merged_df_cgy = pd.concat([small_dataframe, medium_dataframe, large_dataframe]) #Concatenates all 3 dataFrames and put into a one dataframe"
   ]
  },
  {
   "cell_type": "code",
   "execution_count": 90,
   "metadata": {},
   "outputs": [
    {
     "data": {
      "text/html": [
       "<div>\n",
       "<style scoped>\n",
       "    .dataframe tbody tr th:only-of-type {\n",
       "        vertical-align: middle;\n",
       "    }\n",
       "\n",
       "    .dataframe tbody tr th {\n",
       "        vertical-align: top;\n",
       "    }\n",
       "\n",
       "    .dataframe thead th {\n",
       "        text-align: right;\n",
       "    }\n",
       "</style>\n",
       "<table border=\"1\" class=\"dataframe\">\n",
       "  <thead>\n",
       "    <tr style=\"text-align: right;\">\n",
       "      <th></th>\n",
       "      <th>Assessed Value</th>\n",
       "      <th>Size</th>\n",
       "    </tr>\n",
       "  </thead>\n",
       "  <tbody>\n",
       "    <tr>\n",
       "      <th>0</th>\n",
       "      <td>26500.0</td>\n",
       "      <td>Small</td>\n",
       "    </tr>\n",
       "    <tr>\n",
       "      <th>1</th>\n",
       "      <td>207500.0</td>\n",
       "      <td>Small</td>\n",
       "    </tr>\n",
       "    <tr>\n",
       "      <th>2</th>\n",
       "      <td>207500.0</td>\n",
       "      <td>Small</td>\n",
       "    </tr>\n",
       "    <tr>\n",
       "      <th>3</th>\n",
       "      <td>207500.0</td>\n",
       "      <td>Small</td>\n",
       "    </tr>\n",
       "    <tr>\n",
       "      <th>4</th>\n",
       "      <td>25000.0</td>\n",
       "      <td>Small</td>\n",
       "    </tr>\n",
       "    <tr>\n",
       "      <th>...</th>\n",
       "      <td>...</td>\n",
       "      <td>...</td>\n",
       "    </tr>\n",
       "    <tr>\n",
       "      <th>1495</th>\n",
       "      <td>724500.0</td>\n",
       "      <td>Large</td>\n",
       "    </tr>\n",
       "    <tr>\n",
       "      <th>1496</th>\n",
       "      <td>778500.0</td>\n",
       "      <td>Large</td>\n",
       "    </tr>\n",
       "    <tr>\n",
       "      <th>1497</th>\n",
       "      <td>893500.0</td>\n",
       "      <td>Large</td>\n",
       "    </tr>\n",
       "    <tr>\n",
       "      <th>1498</th>\n",
       "      <td>4180000.0</td>\n",
       "      <td>Large</td>\n",
       "    </tr>\n",
       "    <tr>\n",
       "      <th>1499</th>\n",
       "      <td>748500.0</td>\n",
       "      <td>Large</td>\n",
       "    </tr>\n",
       "  </tbody>\n",
       "</table>\n",
       "<p>3084467 rows × 2 columns</p>\n",
       "</div>"
      ],
      "text/plain": [
       "      Assessed Value   Size\n",
       "0            26500.0  Small\n",
       "1           207500.0  Small\n",
       "2           207500.0  Small\n",
       "3           207500.0  Small\n",
       "4            25000.0  Small\n",
       "...              ...    ...\n",
       "1495        724500.0  Large\n",
       "1496        778500.0  Large\n",
       "1497        893500.0  Large\n",
       "1498       4180000.0  Large\n",
       "1499        748500.0  Large\n",
       "\n",
       "[3084467 rows x 2 columns]"
      ]
     },
     "execution_count": 90,
     "metadata": {},
     "output_type": "execute_result"
    }
   ],
   "source": [
    "merged_df_cgy # sample of the concatenate data"
   ]
  },
  {
   "cell_type": "code",
   "execution_count": 91,
   "metadata": {},
   "outputs": [],
   "source": [
    "output_file_10 = 'AssessedValue_Size_CGY.csv'\n",
    "merged_df_cgy.to_csv(output_file_10)"
   ]
  },
  {
   "cell_type": "code",
   "execution_count": 92,
   "metadata": {},
   "outputs": [],
   "source": [
    "average_small = np.average(fixed_small_array) # Calculates average of all the values in  the fixed small array\n",
    "average_medium = np.average(fixed_medium_array) # Calculates average of all the values in  the fixed medium array\n",
    "average_large = np.average(fixed_large_array) # Calculates average of all the values in  the fixed large array"
   ]
  },
  {
   "cell_type": "code",
   "execution_count": 93,
   "metadata": {},
   "outputs": [
    {
     "data": {
      "text/plain": [
       "array([False, False, False, ...,  True,  True,  True])"
      ]
     },
     "execution_count": 93,
     "metadata": {},
     "output_type": "execute_result"
    }
   ],
   "source": [
    "smalloutliers"
   ]
  },
  {
   "cell_type": "code",
   "execution_count": 94,
   "metadata": {},
   "outputs": [
    {
     "data": {
      "text/plain": [
       "383844.5729138082"
      ]
     },
     "execution_count": 94,
     "metadata": {},
     "output_type": "execute_result"
    }
   ],
   "source": [
    "average_small "
   ]
  },
  {
   "cell_type": "code",
   "execution_count": 95,
   "metadata": {},
   "outputs": [
    {
     "data": {
      "text/plain": [
       "281640.3590001831"
      ]
     },
     "execution_count": 95,
     "metadata": {},
     "output_type": "execute_result"
    }
   ],
   "source": [
    "average_medium"
   ]
  },
  {
   "cell_type": "code",
   "execution_count": 96,
   "metadata": {},
   "outputs": [
    {
     "data": {
      "text/plain": [
       "3162181.336"
      ]
     },
     "execution_count": 96,
     "metadata": {},
     "output_type": "execute_result"
    }
   ],
   "source": [
    "average_large"
   ]
  },
  {
   "cell_type": "code",
   "execution_count": 97,
   "metadata": {},
   "outputs": [],
   "source": [
    "std_small= np.std(fixed_small_array)"
   ]
  },
  {
   "cell_type": "code",
   "execution_count": 98,
   "metadata": {},
   "outputs": [
    {
     "data": {
      "text/plain": [
       "224794.47911724853"
      ]
     },
     "execution_count": 98,
     "metadata": {},
     "output_type": "execute_result"
    }
   ],
   "source": [
    "std_small"
   ]
  },
  {
   "cell_type": "code",
   "execution_count": 99,
   "metadata": {},
   "outputs": [],
   "source": [
    "std_medium= np.std(fixed_medium_array)"
   ]
  },
  {
   "cell_type": "code",
   "execution_count": 100,
   "metadata": {},
   "outputs": [
    {
     "data": {
      "text/plain": [
       "299142.7587388476"
      ]
     },
     "execution_count": 100,
     "metadata": {},
     "output_type": "execute_result"
    }
   ],
   "source": [
    "std_medium"
   ]
  },
  {
   "cell_type": "code",
   "execution_count": 101,
   "metadata": {},
   "outputs": [
    {
     "data": {
      "text/plain": [
       "299142.7587388476"
      ]
     },
     "execution_count": 101,
     "metadata": {},
     "output_type": "execute_result"
    }
   ],
   "source": [
    "std_medium"
   ]
  },
  {
   "cell_type": "code",
   "execution_count": 102,
   "metadata": {},
   "outputs": [],
   "source": [
    "std_high= np.std(fixed_large_array)"
   ]
  },
  {
   "cell_type": "code",
   "execution_count": 103,
   "metadata": {},
   "outputs": [
    {
     "data": {
      "text/plain": [
       "4924402.685159416"
      ]
     },
     "execution_count": 103,
     "metadata": {},
     "output_type": "execute_result"
    }
   ],
   "source": [
    "std_high"
   ]
  },
  {
   "cell_type": "code",
   "execution_count": 104,
   "metadata": {},
   "outputs": [
    {
     "data": {
      "image/png": "[encoded data removed]",
      "text/plain": [
       "<Figure size 640x480 with 1 Axes>"
      ]
     },
     "metadata": {},
     "output_type": "display_data"
    }
   ],
   "source": [
    "#Shows a graph of the homes built and the land category of the homes without outliers\n",
    "merged_df_cgy.plot(x='Size', y='Assessed Value', kind='scatter') #creates a scatter plot with the new concatenate data\n",
    "plt.title(\"Assessed Value by Land Category Without Outliers\")\n",
    "plt.gca().yaxis.set_major_formatter(formatter)\n",
    "\n",
    "#plt.legend()\n",
    "plt.show()"
   ]
  },
  {
   "attachments": {},
   "cell_type": "markdown",
   "metadata": {},
   "source": [
    "## Assessed Value vs Neighbourhood in Calgary"
   ]
  },
  {
   "cell_type": "code",
   "execution_count": 105,
   "metadata": {},
   "outputs": [],
   "source": [
    "value_neighbourhood_subset_cgy = residential_subset_cgy[['Assessed Value','Neighbourhood','Actual Year Built','Lot Size']] #filter out the table so only Assessed Value and Neighbourhood are shown"
   ]
  },
  {
   "cell_type": "code",
   "execution_count": 106,
   "metadata": {},
   "outputs": [
    {
     "data": {
      "text/html": [
       "<div>\n",
       "<style scoped>\n",
       "    .dataframe tbody tr th:only-of-type {\n",
       "        vertical-align: middle;\n",
       "    }\n",
       "\n",
       "    .dataframe tbody tr th {\n",
       "        vertical-align: top;\n",
       "    }\n",
       "\n",
       "    .dataframe thead th {\n",
       "        text-align: right;\n",
       "    }\n",
       "</style>\n",
       "<table border=\"1\" class=\"dataframe\">\n",
       "  <thead>\n",
       "    <tr style=\"text-align: right;\">\n",
       "      <th></th>\n",
       "      <th>Assessed Value</th>\n",
       "      <th>Neighbourhood</th>\n",
       "      <th>Actual Year Built</th>\n",
       "      <th>Lot Size</th>\n",
       "    </tr>\n",
       "  </thead>\n",
       "  <tbody>\n",
       "    <tr>\n",
       "      <th>0</th>\n",
       "      <td>198500.0</td>\n",
       "      <td>POINT MCKAY</td>\n",
       "      <td>NaN</td>\n",
       "      <td>NaN</td>\n",
       "    </tr>\n",
       "    <tr>\n",
       "      <th>1</th>\n",
       "      <td>165000.0</td>\n",
       "      <td>MISSION</td>\n",
       "      <td>NaN</td>\n",
       "      <td>NaN</td>\n",
       "    </tr>\n",
       "    <tr>\n",
       "      <th>2</th>\n",
       "      <td>88500.0</td>\n",
       "      <td>ROCKY RIDGE</td>\n",
       "      <td>NaN</td>\n",
       "      <td>NaN</td>\n",
       "    </tr>\n",
       "    <tr>\n",
       "      <th>3</th>\n",
       "      <td>394000.0</td>\n",
       "      <td>ALTADORE</td>\n",
       "      <td>NaN</td>\n",
       "      <td>NaN</td>\n",
       "    </tr>\n",
       "    <tr>\n",
       "      <th>4</th>\n",
       "      <td>101000.0</td>\n",
       "      <td>PENBROOKE MEADOWS</td>\n",
       "      <td>NaN</td>\n",
       "      <td>NaN</td>\n",
       "    </tr>\n",
       "    <tr>\n",
       "      <th>...</th>\n",
       "      <td>...</td>\n",
       "      <td>...</td>\n",
       "      <td>...</td>\n",
       "      <td>...</td>\n",
       "    </tr>\n",
       "    <tr>\n",
       "      <th>8483937</th>\n",
       "      <td>899000.0</td>\n",
       "      <td>CRANSTON</td>\n",
       "      <td>NaN</td>\n",
       "      <td>740.2</td>\n",
       "    </tr>\n",
       "    <tr>\n",
       "      <th>8483938</th>\n",
       "      <td>468000.0</td>\n",
       "      <td>CARRINGTON</td>\n",
       "      <td>NaN</td>\n",
       "      <td>361.0</td>\n",
       "    </tr>\n",
       "    <tr>\n",
       "      <th>8483939</th>\n",
       "      <td>381500.0</td>\n",
       "      <td>CARRINGTON</td>\n",
       "      <td>NaN</td>\n",
       "      <td>310.7</td>\n",
       "    </tr>\n",
       "    <tr>\n",
       "      <th>8483940</th>\n",
       "      <td>380500.0</td>\n",
       "      <td>CARRINGTON</td>\n",
       "      <td>2021.0</td>\n",
       "      <td>326.4</td>\n",
       "    </tr>\n",
       "    <tr>\n",
       "      <th>8483941</th>\n",
       "      <td>373500.0</td>\n",
       "      <td>CARRINGTON</td>\n",
       "      <td>NaN</td>\n",
       "      <td>328.1</td>\n",
       "    </tr>\n",
       "  </tbody>\n",
       "</table>\n",
       "<p>8051005 rows × 4 columns</p>\n",
       "</div>"
      ],
      "text/plain": [
       "         Assessed Value      Neighbourhood  Actual Year Built  Lot Size\n",
       "0              198500.0        POINT MCKAY                NaN       NaN\n",
       "1              165000.0            MISSION                NaN       NaN\n",
       "2               88500.0        ROCKY RIDGE                NaN       NaN\n",
       "3              394000.0           ALTADORE                NaN       NaN\n",
       "4              101000.0  PENBROOKE MEADOWS                NaN       NaN\n",
       "...                 ...                ...                ...       ...\n",
       "8483937        899000.0           CRANSTON                NaN     740.2\n",
       "8483938        468000.0         CARRINGTON                NaN     361.0\n",
       "8483939        381500.0         CARRINGTON                NaN     310.7\n",
       "8483940        380500.0         CARRINGTON             2021.0     326.4\n",
       "8483941        373500.0         CARRINGTON                NaN     328.1\n",
       "\n",
       "[8051005 rows x 4 columns]"
      ]
     },
     "execution_count": 106,
     "metadata": {},
     "output_type": "execute_result"
    }
   ],
   "source": [
    "value_neighbourhood_subset_cgy"
   ]
  },
  {
   "cell_type": "code",
   "execution_count": 107,
   "metadata": {},
   "outputs": [
    {
     "data": {
      "text/plain": [
       "8051005"
      ]
     },
     "execution_count": 107,
     "metadata": {},
     "output_type": "execute_result"
    }
   ],
   "source": [
    "len(value_neighbourhood_subset_cgy) # amount of rows before null values are dropped"
   ]
  },
  {
   "cell_type": "code",
   "execution_count": 108,
   "metadata": {},
   "outputs": [],
   "source": [
    "value_neighbourhood_subset_drop_cgy=value_neighbourhood_subset_cgy.dropna() # drops rows that have null values from both columns "
   ]
  },
  {
   "cell_type": "code",
   "execution_count": 109,
   "metadata": {},
   "outputs": [
    {
     "data": {
      "text/plain": [
       "1573428"
      ]
     },
     "execution_count": 109,
     "metadata": {},
     "output_type": "execute_result"
    }
   ],
   "source": [
    "len(value_neighbourhood_subset_drop_cgy) # amount of rows after null values are dropped"
   ]
  },
  {
   "cell_type": "code",
   "execution_count": 110,
   "metadata": {},
   "outputs": [
    {
     "data": {
      "text/html": [
       "<div>\n",
       "<style scoped>\n",
       "    .dataframe tbody tr th:only-of-type {\n",
       "        vertical-align: middle;\n",
       "    }\n",
       "\n",
       "    .dataframe tbody tr th {\n",
       "        vertical-align: top;\n",
       "    }\n",
       "\n",
       "    .dataframe thead th {\n",
       "        text-align: right;\n",
       "    }\n",
       "</style>\n",
       "<table border=\"1\" class=\"dataframe\">\n",
       "  <thead>\n",
       "    <tr style=\"text-align: right;\">\n",
       "      <th></th>\n",
       "      <th>Assessed Value</th>\n",
       "      <th>Neighbourhood</th>\n",
       "      <th>Actual Year Built</th>\n",
       "      <th>Lot Size</th>\n",
       "    </tr>\n",
       "  </thead>\n",
       "  <tbody>\n",
       "    <tr>\n",
       "      <th>26</th>\n",
       "      <td>597500.0</td>\n",
       "      <td>SADDLE RIDGE</td>\n",
       "      <td>1972.0</td>\n",
       "      <td>17934.6</td>\n",
       "    </tr>\n",
       "    <tr>\n",
       "      <th>27</th>\n",
       "      <td>262500.0</td>\n",
       "      <td>CRESCENT HEIGHTS</td>\n",
       "      <td>2003.0</td>\n",
       "      <td>1380.0</td>\n",
       "    </tr>\n",
       "    <tr>\n",
       "      <th>33</th>\n",
       "      <td>565000.0</td>\n",
       "      <td>SADDLE RIDGE</td>\n",
       "      <td>1960.0</td>\n",
       "      <td>19684.6</td>\n",
       "    </tr>\n",
       "    <tr>\n",
       "      <th>39</th>\n",
       "      <td>244000.0</td>\n",
       "      <td>CRESCENT HEIGHTS</td>\n",
       "      <td>2003.0</td>\n",
       "      <td>1380.0</td>\n",
       "    </tr>\n",
       "    <tr>\n",
       "      <th>45</th>\n",
       "      <td>710500.0</td>\n",
       "      <td>SADDLE RIDGE</td>\n",
       "      <td>2003.0</td>\n",
       "      <td>17740.4</td>\n",
       "    </tr>\n",
       "    <tr>\n",
       "      <th>...</th>\n",
       "      <td>...</td>\n",
       "      <td>...</td>\n",
       "      <td>...</td>\n",
       "      <td>...</td>\n",
       "    </tr>\n",
       "    <tr>\n",
       "      <th>8483920</th>\n",
       "      <td>10000.0</td>\n",
       "      <td>SAGE HILL</td>\n",
       "      <td>2019.0</td>\n",
       "      <td>8020.5</td>\n",
       "    </tr>\n",
       "    <tr>\n",
       "      <th>8483921</th>\n",
       "      <td>10000.0</td>\n",
       "      <td>SAGE HILL</td>\n",
       "      <td>2019.0</td>\n",
       "      <td>8020.5</td>\n",
       "    </tr>\n",
       "    <tr>\n",
       "      <th>8483922</th>\n",
       "      <td>10000.0</td>\n",
       "      <td>SAGE HILL</td>\n",
       "      <td>2019.0</td>\n",
       "      <td>8020.5</td>\n",
       "    </tr>\n",
       "    <tr>\n",
       "      <th>8483923</th>\n",
       "      <td>2220000.0</td>\n",
       "      <td>SAGE HILL</td>\n",
       "      <td>2019.0</td>\n",
       "      <td>8020.5</td>\n",
       "    </tr>\n",
       "    <tr>\n",
       "      <th>8483940</th>\n",
       "      <td>380500.0</td>\n",
       "      <td>CARRINGTON</td>\n",
       "      <td>2021.0</td>\n",
       "      <td>326.4</td>\n",
       "    </tr>\n",
       "  </tbody>\n",
       "</table>\n",
       "<p>1573428 rows × 4 columns</p>\n",
       "</div>"
      ],
      "text/plain": [
       "         Assessed Value     Neighbourhood  Actual Year Built  Lot Size\n",
       "26             597500.0      SADDLE RIDGE             1972.0   17934.6\n",
       "27             262500.0  CRESCENT HEIGHTS             2003.0    1380.0\n",
       "33             565000.0      SADDLE RIDGE             1960.0   19684.6\n",
       "39             244000.0  CRESCENT HEIGHTS             2003.0    1380.0\n",
       "45             710500.0      SADDLE RIDGE             2003.0   17740.4\n",
       "...                 ...               ...                ...       ...\n",
       "8483920         10000.0         SAGE HILL             2019.0    8020.5\n",
       "8483921         10000.0         SAGE HILL             2019.0    8020.5\n",
       "8483922         10000.0         SAGE HILL             2019.0    8020.5\n",
       "8483923       2220000.0         SAGE HILL             2019.0    8020.5\n",
       "8483940        380500.0        CARRINGTON             2021.0     326.4\n",
       "\n",
       "[1573428 rows x 4 columns]"
      ]
     },
     "execution_count": 110,
     "metadata": {},
     "output_type": "execute_result"
    }
   ],
   "source": [
    "value_neighbourhood_subset_drop_cgy"
   ]
  },
  {
   "cell_type": "code",
   "execution_count": 111,
   "metadata": {},
   "outputs": [],
   "source": [
    "output_file_4 = 'AssessedValue_Neighbourhood_CGY.csv'\n",
    "value_neighbourhood_subset_drop_cgy.to_csv(output_file_4)"
   ]
  },
  {
   "attachments": {},
   "cell_type": "markdown",
   "metadata": {},
   "source": [
    "# Edmonton Property Assessment"
   ]
  },
  {
   "cell_type": "code",
   "execution_count": 112,
   "metadata": {},
   "outputs": [
    {
     "name": "stderr",
     "output_type": "stream",
     "text": [
      "C:\\Users\\659159\\AppData\\Local\\Temp\\ipykernel_22356\\3211134125.py:1: DtypeWarning: Columns (2,17,19) have mixed types. Specify dtype option on import or set low_memory=False.\n",
      "  df = pd.read_csv('Property_Assessment_Data__Historical_.csv') #read CSV file from Edmonton dataset\n"
     ]
    }
   ],
   "source": [
    "df = pd.read_csv('Property_Assessment_Data__Historical_.csv') #read CSV file from Edmonton dataset"
   ]
  },
  {
   "cell_type": "code",
   "execution_count": 113,
   "metadata": {},
   "outputs": [
    {
     "data": {
      "text/plain": [
       "Account Number            int64\n",
       "Assessment Year           int64\n",
       "Suite                    object\n",
       "House Number            float64\n",
       "Street Name              object\n",
       "Legal Description        object\n",
       "Latitude                float64\n",
       "Longitude               float64\n",
       "Point Location           object\n",
       "Neighbourhood            object\n",
       "Actual Year Built       float64\n",
       "Garage                   object\n",
       "Zoning                   object\n",
       "Lot Size                float64\n",
       "Assessed Value          float64\n",
       "Assessment Class 1       object\n",
       "Assessment Class % 1    float64\n",
       "Assessment Class 2       object\n",
       "Assessment Class % 2    float64\n",
       "Assessment Class 3       object\n",
       "Assessment Class % 3    float64\n",
       "dtype: object"
      ]
     },
     "execution_count": 113,
     "metadata": {},
     "output_type": "execute_result"
    }
   ],
   "source": [
    "df.dtypes"
   ]
  },
  {
   "cell_type": "code",
   "execution_count": 114,
   "metadata": {},
   "outputs": [
    {
     "data": {
      "text/html": [
       "<div>\n",
       "<style scoped>\n",
       "    .dataframe tbody tr th:only-of-type {\n",
       "        vertical-align: middle;\n",
       "    }\n",
       "\n",
       "    .dataframe tbody tr th {\n",
       "        vertical-align: top;\n",
       "    }\n",
       "\n",
       "    .dataframe thead th {\n",
       "        text-align: right;\n",
       "    }\n",
       "</style>\n",
       "<table border=\"1\" class=\"dataframe\">\n",
       "  <thead>\n",
       "    <tr style=\"text-align: right;\">\n",
       "      <th></th>\n",
       "      <th>Account Number</th>\n",
       "      <th>Assessment Year</th>\n",
       "      <th>Suite</th>\n",
       "      <th>House Number</th>\n",
       "      <th>Street Name</th>\n",
       "      <th>Legal Description</th>\n",
       "      <th>Latitude</th>\n",
       "      <th>Longitude</th>\n",
       "      <th>Point Location</th>\n",
       "      <th>Neighbourhood</th>\n",
       "      <th>Actual Year Built</th>\n",
       "      <th>Garage</th>\n",
       "      <th>Zoning</th>\n",
       "      <th>Lot Size</th>\n",
       "      <th>Assessed Value</th>\n",
       "      <th>Assessment Class 1</th>\n",
       "      <th>Assessment Class % 1</th>\n",
       "      <th>Assessment Class 2</th>\n",
       "      <th>Assessment Class % 2</th>\n",
       "      <th>Assessment Class 3</th>\n",
       "      <th>Assessment Class % 3</th>\n",
       "    </tr>\n",
       "  </thead>\n",
       "  <tbody>\n",
       "    <tr>\n",
       "      <th>0</th>\n",
       "      <td>1012590</td>\n",
       "      <td>2022</td>\n",
       "      <td>NaN</td>\n",
       "      <td>NaN</td>\n",
       "      <td>NaN</td>\n",
       "      <td>NaN</td>\n",
       "      <td>NaN</td>\n",
       "      <td>NaN</td>\n",
       "      <td>NaN</td>\n",
       "      <td>CENTRAL MCDOUGALL</td>\n",
       "      <td>1980.0</td>\n",
       "      <td>N</td>\n",
       "      <td>US</td>\n",
       "      <td>0.000</td>\n",
       "      <td>500.0</td>\n",
       "      <td>COMMERCIAL</td>\n",
       "      <td>100.0</td>\n",
       "      <td>NaN</td>\n",
       "      <td>NaN</td>\n",
       "      <td>NaN</td>\n",
       "      <td>NaN</td>\n",
       "    </tr>\n",
       "    <tr>\n",
       "      <th>1</th>\n",
       "      <td>10773899</td>\n",
       "      <td>2018</td>\n",
       "      <td>212</td>\n",
       "      <td>5816.0</td>\n",
       "      <td>MULLEN PLACE NW</td>\n",
       "      <td>Plan: 1620778  Unit: 86</td>\n",
       "      <td>NaN</td>\n",
       "      <td>NaN</td>\n",
       "      <td>NaN</td>\n",
       "      <td>MACTAGGART</td>\n",
       "      <td>2016.0</td>\n",
       "      <td>N</td>\n",
       "      <td>RA7</td>\n",
       "      <td>118.525</td>\n",
       "      <td>275000.0</td>\n",
       "      <td>RESIDENTIAL</td>\n",
       "      <td>100.0</td>\n",
       "      <td>NaN</td>\n",
       "      <td>NaN</td>\n",
       "      <td>NaN</td>\n",
       "      <td>NaN</td>\n",
       "    </tr>\n",
       "    <tr>\n",
       "      <th>2</th>\n",
       "      <td>10773926</td>\n",
       "      <td>2018</td>\n",
       "      <td>314</td>\n",
       "      <td>5816.0</td>\n",
       "      <td>MULLEN PLACE NW</td>\n",
       "      <td>Plan: 1620778  Unit: 113</td>\n",
       "      <td>NaN</td>\n",
       "      <td>NaN</td>\n",
       "      <td>NaN</td>\n",
       "      <td>MACTAGGART</td>\n",
       "      <td>2016.0</td>\n",
       "      <td>N</td>\n",
       "      <td>RA7</td>\n",
       "      <td>66.805</td>\n",
       "      <td>177500.0</td>\n",
       "      <td>RESIDENTIAL</td>\n",
       "      <td>100.0</td>\n",
       "      <td>NaN</td>\n",
       "      <td>NaN</td>\n",
       "      <td>NaN</td>\n",
       "      <td>NaN</td>\n",
       "    </tr>\n",
       "    <tr>\n",
       "      <th>3</th>\n",
       "      <td>10774678</td>\n",
       "      <td>2018</td>\n",
       "      <td>NaN</td>\n",
       "      <td>10236.0</td>\n",
       "      <td>79 STREET NW</td>\n",
       "      <td>Plan: 1620834  Block: 24  Lot: 9A</td>\n",
       "      <td>NaN</td>\n",
       "      <td>NaN</td>\n",
       "      <td>NaN</td>\n",
       "      <td>FOREST HEIGHTS</td>\n",
       "      <td>2015.0</td>\n",
       "      <td>Y</td>\n",
       "      <td>RF3</td>\n",
       "      <td>355.992</td>\n",
       "      <td>484000.0</td>\n",
       "      <td>RESIDENTIAL</td>\n",
       "      <td>100.0</td>\n",
       "      <td>NaN</td>\n",
       "      <td>NaN</td>\n",
       "      <td>NaN</td>\n",
       "      <td>NaN</td>\n",
       "    </tr>\n",
       "    <tr>\n",
       "      <th>4</th>\n",
       "      <td>10774755</td>\n",
       "      <td>2019</td>\n",
       "      <td>NaN</td>\n",
       "      <td>12617.0</td>\n",
       "      <td>45 STREET NW</td>\n",
       "      <td>Plan: 1620841  Block: 28  Lot: 5</td>\n",
       "      <td>NaN</td>\n",
       "      <td>NaN</td>\n",
       "      <td>NaN</td>\n",
       "      <td>HOMESTEADER</td>\n",
       "      <td>2016.0</td>\n",
       "      <td>Y</td>\n",
       "      <td>RF5</td>\n",
       "      <td>265.284</td>\n",
       "      <td>331500.0</td>\n",
       "      <td>RESIDENTIAL</td>\n",
       "      <td>100.0</td>\n",
       "      <td>NaN</td>\n",
       "      <td>NaN</td>\n",
       "      <td>NaN</td>\n",
       "      <td>NaN</td>\n",
       "    </tr>\n",
       "  </tbody>\n",
       "</table>\n",
       "</div>"
      ],
      "text/plain": [
       "   Account Number  Assessment Year Suite  House Number      Street Name  \\\n",
       "0         1012590             2022   NaN           NaN              NaN   \n",
       "1        10773899             2018   212        5816.0  MULLEN PLACE NW   \n",
       "2        10773926             2018   314        5816.0  MULLEN PLACE NW   \n",
       "3        10774678             2018   NaN       10236.0     79 STREET NW   \n",
       "4        10774755             2019   NaN       12617.0     45 STREET NW   \n",
       "\n",
       "                   Legal Description  Latitude  Longitude Point Location  \\\n",
       "0                                NaN       NaN        NaN            NaN   \n",
       "1            Plan: 1620778  Unit: 86       NaN        NaN            NaN   \n",
       "2           Plan: 1620778  Unit: 113       NaN        NaN            NaN   \n",
       "3  Plan: 1620834  Block: 24  Lot: 9A       NaN        NaN            NaN   \n",
       "4   Plan: 1620841  Block: 28  Lot: 5       NaN        NaN            NaN   \n",
       "\n",
       "       Neighbourhood  Actual Year Built Garage Zoning  Lot Size  \\\n",
       "0  CENTRAL MCDOUGALL             1980.0      N     US     0.000   \n",
       "1         MACTAGGART             2016.0      N    RA7   118.525   \n",
       "2         MACTAGGART             2016.0      N    RA7    66.805   \n",
       "3     FOREST HEIGHTS             2015.0      Y    RF3   355.992   \n",
       "4        HOMESTEADER             2016.0      Y    RF5   265.284   \n",
       "\n",
       "   Assessed Value Assessment Class 1  Assessment Class % 1 Assessment Class 2  \\\n",
       "0           500.0         COMMERCIAL                 100.0                NaN   \n",
       "1        275000.0        RESIDENTIAL                 100.0                NaN   \n",
       "2        177500.0        RESIDENTIAL                 100.0                NaN   \n",
       "3        484000.0        RESIDENTIAL                 100.0                NaN   \n",
       "4        331500.0        RESIDENTIAL                 100.0                NaN   \n",
       "\n",
       "   Assessment Class % 2 Assessment Class 3  Assessment Class % 3  \n",
       "0                   NaN                NaN                   NaN  \n",
       "1                   NaN                NaN                   NaN  \n",
       "2                   NaN                NaN                   NaN  \n",
       "3                   NaN                NaN                   NaN  \n",
       "4                   NaN                NaN                   NaN  "
      ]
     },
     "execution_count": 114,
     "metadata": {},
     "output_type": "execute_result"
    }
   ],
   "source": [
    "pd.set_option('display.max_columns', None) #display all the columns\n",
    "df.head() #sample of data"
   ]
  },
  {
   "cell_type": "code",
   "execution_count": 115,
   "metadata": {},
   "outputs": [
    {
     "data": {
      "text/plain": [
       "<bound method NDFrame._add_numeric_operations.<locals>.sum of          Account Number  Assessment Year  Suite  House Number  Street Name  \\\n",
       "0                 False            False   True          True         True   \n",
       "1                 False            False  False         False        False   \n",
       "2                 False            False  False         False        False   \n",
       "3                 False            False   True         False        False   \n",
       "4                 False            False   True         False        False   \n",
       "...                 ...              ...    ...           ...          ...   \n",
       "4217606           False            False  False         False        False   \n",
       "4217607           False            False   True         False        False   \n",
       "4217608           False            False   True         False        False   \n",
       "4217609           False            False   True         False        False   \n",
       "4217610           False            False   True         False        False   \n",
       "\n",
       "         Legal Description  Latitude  Longitude  Point Location  \\\n",
       "0                     True      True       True            True   \n",
       "1                    False      True       True            True   \n",
       "2                    False      True       True            True   \n",
       "3                    False      True       True            True   \n",
       "4                    False      True       True            True   \n",
       "...                    ...       ...        ...             ...   \n",
       "4217606              False     False      False           False   \n",
       "4217607              False     False      False           False   \n",
       "4217608              False     False      False           False   \n",
       "4217609              False     False      False           False   \n",
       "4217610              False     False      False           False   \n",
       "\n",
       "         Neighbourhood  Actual Year Built  Garage  Zoning  Lot Size  \\\n",
       "0                False              False   False   False     False   \n",
       "1                False              False   False   False     False   \n",
       "2                False              False   False   False     False   \n",
       "3                False              False   False   False     False   \n",
       "4                False              False   False   False     False   \n",
       "...                ...                ...     ...     ...       ...   \n",
       "4217606          False              False   False   False     False   \n",
       "4217607          False               True   False   False     False   \n",
       "4217608          False               True   False   False     False   \n",
       "4217609          False               True   False   False     False   \n",
       "4217610          False              False   False   False     False   \n",
       "\n",
       "         Assessed Value  Assessment Class 1  Assessment Class % 1  \\\n",
       "0                 False               False                 False   \n",
       "1                 False               False                 False   \n",
       "2                 False               False                 False   \n",
       "3                 False               False                 False   \n",
       "4                 False               False                 False   \n",
       "...                 ...                 ...                   ...   \n",
       "4217606           False               False                 False   \n",
       "4217607           False               False                 False   \n",
       "4217608           False               False                 False   \n",
       "4217609           False               False                 False   \n",
       "4217610           False               False                 False   \n",
       "\n",
       "         Assessment Class 2  Assessment Class % 2  Assessment Class 3  \\\n",
       "0                      True                  True                True   \n",
       "1                      True                  True                True   \n",
       "2                      True                  True                True   \n",
       "3                      True                  True                True   \n",
       "4                      True                  True                True   \n",
       "...                     ...                   ...                 ...   \n",
       "4217606                True                  True                True   \n",
       "4217607                True                  True                True   \n",
       "4217608                True                  True                True   \n",
       "4217609                True                  True                True   \n",
       "4217610                True                  True                True   \n",
       "\n",
       "         Assessment Class % 3  \n",
       "0                        True  \n",
       "1                        True  \n",
       "2                        True  \n",
       "3                        True  \n",
       "4                        True  \n",
       "...                       ...  \n",
       "4217606                  True  \n",
       "4217607                  True  \n",
       "4217608                  True  \n",
       "4217609                  True  \n",
       "4217610                  True  \n",
       "\n",
       "[4217611 rows x 21 columns]>"
      ]
     },
     "execution_count": 115,
     "metadata": {},
     "output_type": "execute_result"
    }
   ],
   "source": [
    "df.isna().sum #shows missing values"
   ]
  },
  {
   "cell_type": "code",
   "execution_count": 116,
   "metadata": {},
   "outputs": [
    {
     "data": {
      "text/plain": [
       "4217611"
      ]
     },
     "execution_count": 116,
     "metadata": {},
     "output_type": "execute_result"
    }
   ],
   "source": [
    "len(df.index)"
   ]
  },
  {
   "cell_type": "code",
   "execution_count": 117,
   "metadata": {},
   "outputs": [
    {
     "data": {
      "text/plain": [
       "Index(['Account Number', 'Assessment Year', 'Suite', 'House Number',\n",
       "       'Street Name', 'Legal Description', 'Latitude', 'Longitude',\n",
       "       'Point Location', 'Neighbourhood', 'Actual Year Built', 'Garage',\n",
       "       'Zoning', 'Lot Size', 'Assessed Value', 'Assessment Class 1',\n",
       "       'Assessment Class % 1', 'Assessment Class 2', 'Assessment Class % 2',\n",
       "       'Assessment Class 3', 'Assessment Class % 3'],\n",
       "      dtype='object')"
      ]
     },
     "execution_count": 117,
     "metadata": {},
     "output_type": "execute_result"
    }
   ],
   "source": [
    "df.columns"
   ]
  },
  {
   "cell_type": "code",
   "execution_count": 118,
   "metadata": {},
   "outputs": [
    {
     "data": {
      "text/plain": [
       "Assessment Class 1\n",
       "RESIDENTIAL                       3940427\n",
       "COMMERCIAL                         227655\n",
       "OTHER RESIDENTIAL                   43948\n",
       "FARMLAND                             5221\n",
       "NONRES MUNICIPAL/RES EDUCATION         10\n",
       "DESIGNATED IND PROPERTIES               1\n",
       "Name: count, dtype: int64"
      ]
     },
     "execution_count": 118,
     "metadata": {},
     "output_type": "execute_result"
    }
   ],
   "source": [
    "df['Assessment Class 1'].value_counts() #show unique values for Assessment Class 1"
   ]
  },
  {
   "cell_type": "code",
   "execution_count": 119,
   "metadata": {},
   "outputs": [
    {
     "data": {
      "text/plain": [
       "Assessment Class 2\n",
       "COMMERCIAL                        3701\n",
       "FARMLAND                          3061\n",
       "RESIDENTIAL                       2375\n",
       "OTHER RESIDENTIAL                 1506\n",
       "NONRES MUNICIPAL/RES EDUCATION       1\n",
       "Name: count, dtype: int64"
      ]
     },
     "execution_count": 119,
     "metadata": {},
     "output_type": "execute_result"
    }
   ],
   "source": [
    "df['Assessment Class 2'].value_counts() #show unique values for Assessment Class 2"
   ]
  },
  {
   "cell_type": "code",
   "execution_count": 120,
   "metadata": {},
   "outputs": [
    {
     "data": {
      "text/plain": [
       "Assessment Class 3\n",
       "FARMLAND                          1144\n",
       "RESIDENTIAL                        358\n",
       "COMMERCIAL                         295\n",
       "OTHER RESIDENTIAL                   24\n",
       "NONRES MUNICIPAL/RES EDUCATION       5\n",
       "Name: count, dtype: int64"
      ]
     },
     "execution_count": 120,
     "metadata": {},
     "output_type": "execute_result"
    }
   ],
   "source": [
    "df['Assessment Class 3'].value_counts() #show unique values for Assessment Class 3"
   ]
  },
  {
   "cell_type": "code",
   "execution_count": 121,
   "metadata": {},
   "outputs": [],
   "source": [
    "property_subset = df[['Neighbourhood', 'Actual Year Built', 'Lot Size', 'Assessed Value', 'Assessment Class 1']]\n",
    "#filter out all the required columns and put into property_sunset"
   ]
  },
  {
   "cell_type": "code",
   "execution_count": 122,
   "metadata": {},
   "outputs": [
    {
     "data": {
      "text/html": [
       "<div>\n",
       "<style scoped>\n",
       "    .dataframe tbody tr th:only-of-type {\n",
       "        vertical-align: middle;\n",
       "    }\n",
       "\n",
       "    .dataframe tbody tr th {\n",
       "        vertical-align: top;\n",
       "    }\n",
       "\n",
       "    .dataframe thead th {\n",
       "        text-align: right;\n",
       "    }\n",
       "</style>\n",
       "<table border=\"1\" class=\"dataframe\">\n",
       "  <thead>\n",
       "    <tr style=\"text-align: right;\">\n",
       "      <th></th>\n",
       "      <th>Neighbourhood</th>\n",
       "      <th>Actual Year Built</th>\n",
       "      <th>Lot Size</th>\n",
       "      <th>Assessed Value</th>\n",
       "      <th>Assessment Class 1</th>\n",
       "    </tr>\n",
       "  </thead>\n",
       "  <tbody>\n",
       "    <tr>\n",
       "      <th>0</th>\n",
       "      <td>CENTRAL MCDOUGALL</td>\n",
       "      <td>1980.0</td>\n",
       "      <td>0.000</td>\n",
       "      <td>500.0</td>\n",
       "      <td>COMMERCIAL</td>\n",
       "    </tr>\n",
       "    <tr>\n",
       "      <th>1</th>\n",
       "      <td>MACTAGGART</td>\n",
       "      <td>2016.0</td>\n",
       "      <td>118.525</td>\n",
       "      <td>275000.0</td>\n",
       "      <td>RESIDENTIAL</td>\n",
       "    </tr>\n",
       "    <tr>\n",
       "      <th>2</th>\n",
       "      <td>MACTAGGART</td>\n",
       "      <td>2016.0</td>\n",
       "      <td>66.805</td>\n",
       "      <td>177500.0</td>\n",
       "      <td>RESIDENTIAL</td>\n",
       "    </tr>\n",
       "    <tr>\n",
       "      <th>3</th>\n",
       "      <td>FOREST HEIGHTS</td>\n",
       "      <td>2015.0</td>\n",
       "      <td>355.992</td>\n",
       "      <td>484000.0</td>\n",
       "      <td>RESIDENTIAL</td>\n",
       "    </tr>\n",
       "    <tr>\n",
       "      <th>4</th>\n",
       "      <td>HOMESTEADER</td>\n",
       "      <td>2016.0</td>\n",
       "      <td>265.284</td>\n",
       "      <td>331500.0</td>\n",
       "      <td>RESIDENTIAL</td>\n",
       "    </tr>\n",
       "    <tr>\n",
       "      <th>...</th>\n",
       "      <td>...</td>\n",
       "      <td>...</td>\n",
       "      <td>...</td>\n",
       "      <td>...</td>\n",
       "      <td>...</td>\n",
       "    </tr>\n",
       "    <tr>\n",
       "      <th>4217606</th>\n",
       "      <td>LAUREL</td>\n",
       "      <td>2020.0</td>\n",
       "      <td>197.666</td>\n",
       "      <td>272000.0</td>\n",
       "      <td>RESIDENTIAL</td>\n",
       "    </tr>\n",
       "    <tr>\n",
       "      <th>4217607</th>\n",
       "      <td>KESWICK AREA</td>\n",
       "      <td>NaN</td>\n",
       "      <td>367.869</td>\n",
       "      <td>172500.0</td>\n",
       "      <td>RESIDENTIAL</td>\n",
       "    </tr>\n",
       "    <tr>\n",
       "      <th>4217608</th>\n",
       "      <td>THE ORCHARDS AT ELLERSLIE</td>\n",
       "      <td>NaN</td>\n",
       "      <td>310.333</td>\n",
       "      <td>128500.0</td>\n",
       "      <td>RESIDENTIAL</td>\n",
       "    </tr>\n",
       "    <tr>\n",
       "      <th>4217609</th>\n",
       "      <td>CHAPPELLE AREA</td>\n",
       "      <td>NaN</td>\n",
       "      <td>619.282</td>\n",
       "      <td>177000.0</td>\n",
       "      <td>RESIDENTIAL</td>\n",
       "    </tr>\n",
       "    <tr>\n",
       "      <th>4217610</th>\n",
       "      <td>KLARVATTEN</td>\n",
       "      <td>2022.0</td>\n",
       "      <td>396.727</td>\n",
       "      <td>491000.0</td>\n",
       "      <td>RESIDENTIAL</td>\n",
       "    </tr>\n",
       "  </tbody>\n",
       "</table>\n",
       "<p>4217611 rows × 5 columns</p>\n",
       "</div>"
      ],
      "text/plain": [
       "                     Neighbourhood  Actual Year Built  Lot Size  \\\n",
       "0                CENTRAL MCDOUGALL             1980.0     0.000   \n",
       "1                       MACTAGGART             2016.0   118.525   \n",
       "2                       MACTAGGART             2016.0    66.805   \n",
       "3                   FOREST HEIGHTS             2015.0   355.992   \n",
       "4                      HOMESTEADER             2016.0   265.284   \n",
       "...                            ...                ...       ...   \n",
       "4217606                     LAUREL             2020.0   197.666   \n",
       "4217607               KESWICK AREA                NaN   367.869   \n",
       "4217608  THE ORCHARDS AT ELLERSLIE                NaN   310.333   \n",
       "4217609             CHAPPELLE AREA                NaN   619.282   \n",
       "4217610                 KLARVATTEN             2022.0   396.727   \n",
       "\n",
       "         Assessed Value Assessment Class 1  \n",
       "0                 500.0         COMMERCIAL  \n",
       "1              275000.0        RESIDENTIAL  \n",
       "2              177500.0        RESIDENTIAL  \n",
       "3              484000.0        RESIDENTIAL  \n",
       "4              331500.0        RESIDENTIAL  \n",
       "...                 ...                ...  \n",
       "4217606        272000.0        RESIDENTIAL  \n",
       "4217607        172500.0        RESIDENTIAL  \n",
       "4217608        128500.0        RESIDENTIAL  \n",
       "4217609        177000.0        RESIDENTIAL  \n",
       "4217610        491000.0        RESIDENTIAL  \n",
       "\n",
       "[4217611 rows x 5 columns]"
      ]
     },
     "execution_count": 122,
     "metadata": {},
     "output_type": "execute_result"
    }
   ],
   "source": [
    "property_subset"
   ]
  },
  {
   "cell_type": "code",
   "execution_count": 123,
   "metadata": {},
   "outputs": [],
   "source": [
    "residential_subset = property_subset[property_subset['Assessment Class 1'] == 'RESIDENTIAL'] #filter the assessment class to be residential only"
   ]
  },
  {
   "cell_type": "code",
   "execution_count": 124,
   "metadata": {},
   "outputs": [
    {
     "data": {
      "text/html": [
       "<div>\n",
       "<style scoped>\n",
       "    .dataframe tbody tr th:only-of-type {\n",
       "        vertical-align: middle;\n",
       "    }\n",
       "\n",
       "    .dataframe tbody tr th {\n",
       "        vertical-align: top;\n",
       "    }\n",
       "\n",
       "    .dataframe thead th {\n",
       "        text-align: right;\n",
       "    }\n",
       "</style>\n",
       "<table border=\"1\" class=\"dataframe\">\n",
       "  <thead>\n",
       "    <tr style=\"text-align: right;\">\n",
       "      <th></th>\n",
       "      <th>Neighbourhood</th>\n",
       "      <th>Actual Year Built</th>\n",
       "      <th>Lot Size</th>\n",
       "      <th>Assessed Value</th>\n",
       "      <th>Assessment Class 1</th>\n",
       "    </tr>\n",
       "  </thead>\n",
       "  <tbody>\n",
       "    <tr>\n",
       "      <th>1</th>\n",
       "      <td>MACTAGGART</td>\n",
       "      <td>2016.0</td>\n",
       "      <td>118.525</td>\n",
       "      <td>275000.0</td>\n",
       "      <td>RESIDENTIAL</td>\n",
       "    </tr>\n",
       "    <tr>\n",
       "      <th>2</th>\n",
       "      <td>MACTAGGART</td>\n",
       "      <td>2016.0</td>\n",
       "      <td>66.805</td>\n",
       "      <td>177500.0</td>\n",
       "      <td>RESIDENTIAL</td>\n",
       "    </tr>\n",
       "    <tr>\n",
       "      <th>3</th>\n",
       "      <td>FOREST HEIGHTS</td>\n",
       "      <td>2015.0</td>\n",
       "      <td>355.992</td>\n",
       "      <td>484000.0</td>\n",
       "      <td>RESIDENTIAL</td>\n",
       "    </tr>\n",
       "    <tr>\n",
       "      <th>4</th>\n",
       "      <td>HOMESTEADER</td>\n",
       "      <td>2016.0</td>\n",
       "      <td>265.284</td>\n",
       "      <td>331500.0</td>\n",
       "      <td>RESIDENTIAL</td>\n",
       "    </tr>\n",
       "    <tr>\n",
       "      <th>5</th>\n",
       "      <td>HOMESTEADER</td>\n",
       "      <td>2016.0</td>\n",
       "      <td>207.691</td>\n",
       "      <td>322000.0</td>\n",
       "      <td>RESIDENTIAL</td>\n",
       "    </tr>\n",
       "    <tr>\n",
       "      <th>...</th>\n",
       "      <td>...</td>\n",
       "      <td>...</td>\n",
       "      <td>...</td>\n",
       "      <td>...</td>\n",
       "      <td>...</td>\n",
       "    </tr>\n",
       "    <tr>\n",
       "      <th>4217606</th>\n",
       "      <td>LAUREL</td>\n",
       "      <td>2020.0</td>\n",
       "      <td>197.666</td>\n",
       "      <td>272000.0</td>\n",
       "      <td>RESIDENTIAL</td>\n",
       "    </tr>\n",
       "    <tr>\n",
       "      <th>4217607</th>\n",
       "      <td>KESWICK AREA</td>\n",
       "      <td>NaN</td>\n",
       "      <td>367.869</td>\n",
       "      <td>172500.0</td>\n",
       "      <td>RESIDENTIAL</td>\n",
       "    </tr>\n",
       "    <tr>\n",
       "      <th>4217608</th>\n",
       "      <td>THE ORCHARDS AT ELLERSLIE</td>\n",
       "      <td>NaN</td>\n",
       "      <td>310.333</td>\n",
       "      <td>128500.0</td>\n",
       "      <td>RESIDENTIAL</td>\n",
       "    </tr>\n",
       "    <tr>\n",
       "      <th>4217609</th>\n",
       "      <td>CHAPPELLE AREA</td>\n",
       "      <td>NaN</td>\n",
       "      <td>619.282</td>\n",
       "      <td>177000.0</td>\n",
       "      <td>RESIDENTIAL</td>\n",
       "    </tr>\n",
       "    <tr>\n",
       "      <th>4217610</th>\n",
       "      <td>KLARVATTEN</td>\n",
       "      <td>2022.0</td>\n",
       "      <td>396.727</td>\n",
       "      <td>491000.0</td>\n",
       "      <td>RESIDENTIAL</td>\n",
       "    </tr>\n",
       "  </tbody>\n",
       "</table>\n",
       "<p>3940427 rows × 5 columns</p>\n",
       "</div>"
      ],
      "text/plain": [
       "                     Neighbourhood  Actual Year Built  Lot Size  \\\n",
       "1                       MACTAGGART             2016.0   118.525   \n",
       "2                       MACTAGGART             2016.0    66.805   \n",
       "3                   FOREST HEIGHTS             2015.0   355.992   \n",
       "4                      HOMESTEADER             2016.0   265.284   \n",
       "5                      HOMESTEADER             2016.0   207.691   \n",
       "...                            ...                ...       ...   \n",
       "4217606                     LAUREL             2020.0   197.666   \n",
       "4217607               KESWICK AREA                NaN   367.869   \n",
       "4217608  THE ORCHARDS AT ELLERSLIE                NaN   310.333   \n",
       "4217609             CHAPPELLE AREA                NaN   619.282   \n",
       "4217610                 KLARVATTEN             2022.0   396.727   \n",
       "\n",
       "         Assessed Value Assessment Class 1  \n",
       "1              275000.0        RESIDENTIAL  \n",
       "2              177500.0        RESIDENTIAL  \n",
       "3              484000.0        RESIDENTIAL  \n",
       "4              331500.0        RESIDENTIAL  \n",
       "5              322000.0        RESIDENTIAL  \n",
       "...                 ...                ...  \n",
       "4217606        272000.0        RESIDENTIAL  \n",
       "4217607        172500.0        RESIDENTIAL  \n",
       "4217608        128500.0        RESIDENTIAL  \n",
       "4217609        177000.0        RESIDENTIAL  \n",
       "4217610        491000.0        RESIDENTIAL  \n",
       "\n",
       "[3940427 rows x 5 columns]"
      ]
     },
     "execution_count": 124,
     "metadata": {},
     "output_type": "execute_result"
    }
   ],
   "source": [
    "residential_subset"
   ]
  },
  {
   "cell_type": "code",
   "execution_count": 125,
   "metadata": {},
   "outputs": [
    {
     "data": {
      "text/html": [
       "<div>\n",
       "<style scoped>\n",
       "    .dataframe tbody tr th:only-of-type {\n",
       "        vertical-align: middle;\n",
       "    }\n",
       "\n",
       "    .dataframe tbody tr th {\n",
       "        vertical-align: top;\n",
       "    }\n",
       "\n",
       "    .dataframe thead th {\n",
       "        text-align: right;\n",
       "    }\n",
       "</style>\n",
       "<table border=\"1\" class=\"dataframe\">\n",
       "  <thead>\n",
       "    <tr style=\"text-align: right;\">\n",
       "      <th></th>\n",
       "      <th>Neighbourhood</th>\n",
       "      <th>Actual Year Built</th>\n",
       "      <th>Lot Size</th>\n",
       "      <th>Assessed Value</th>\n",
       "      <th>Assessment Class 1</th>\n",
       "    </tr>\n",
       "  </thead>\n",
       "  <tbody>\n",
       "    <tr>\n",
       "      <th>1</th>\n",
       "      <td>MACTAGGART</td>\n",
       "      <td>2016.0</td>\n",
       "      <td>118.525</td>\n",
       "      <td>275000.0</td>\n",
       "      <td>RESIDENTIAL</td>\n",
       "    </tr>\n",
       "    <tr>\n",
       "      <th>2</th>\n",
       "      <td>MACTAGGART</td>\n",
       "      <td>2016.0</td>\n",
       "      <td>66.805</td>\n",
       "      <td>177500.0</td>\n",
       "      <td>RESIDENTIAL</td>\n",
       "    </tr>\n",
       "    <tr>\n",
       "      <th>3</th>\n",
       "      <td>FOREST HEIGHTS</td>\n",
       "      <td>2015.0</td>\n",
       "      <td>355.992</td>\n",
       "      <td>484000.0</td>\n",
       "      <td>RESIDENTIAL</td>\n",
       "    </tr>\n",
       "    <tr>\n",
       "      <th>4</th>\n",
       "      <td>HOMESTEADER</td>\n",
       "      <td>2016.0</td>\n",
       "      <td>265.284</td>\n",
       "      <td>331500.0</td>\n",
       "      <td>RESIDENTIAL</td>\n",
       "    </tr>\n",
       "    <tr>\n",
       "      <th>5</th>\n",
       "      <td>HOMESTEADER</td>\n",
       "      <td>2016.0</td>\n",
       "      <td>207.691</td>\n",
       "      <td>322000.0</td>\n",
       "      <td>RESIDENTIAL</td>\n",
       "    </tr>\n",
       "  </tbody>\n",
       "</table>\n",
       "</div>"
      ],
      "text/plain": [
       "    Neighbourhood  Actual Year Built  Lot Size  Assessed Value  \\\n",
       "1      MACTAGGART             2016.0   118.525        275000.0   \n",
       "2      MACTAGGART             2016.0    66.805        177500.0   \n",
       "3  FOREST HEIGHTS             2015.0   355.992        484000.0   \n",
       "4     HOMESTEADER             2016.0   265.284        331500.0   \n",
       "5     HOMESTEADER             2016.0   207.691        322000.0   \n",
       "\n",
       "  Assessment Class 1  \n",
       "1        RESIDENTIAL  \n",
       "2        RESIDENTIAL  \n",
       "3        RESIDENTIAL  \n",
       "4        RESIDENTIAL  \n",
       "5        RESIDENTIAL  "
      ]
     },
     "execution_count": 125,
     "metadata": {},
     "output_type": "execute_result"
    }
   ],
   "source": [
    "residential_subset.head()"
   ]
  },
  {
   "cell_type": "code",
   "execution_count": 126,
   "metadata": {},
   "outputs": [
    {
     "data": {
      "text/plain": [
       "Assessment Class 1\n",
       "RESIDENTIAL    3940427\n",
       "Name: count, dtype: int64"
      ]
     },
     "execution_count": 126,
     "metadata": {},
     "output_type": "execute_result"
    }
   ],
   "source": [
    "residential_subset['Assessment Class 1'].value_counts() #verify that assessement class is filtered"
   ]
  },
  {
   "cell_type": "code",
   "execution_count": 127,
   "metadata": {},
   "outputs": [
    {
     "data": {
      "text/plain": [
       "3940427"
      ]
     },
     "execution_count": 127,
     "metadata": {},
     "output_type": "execute_result"
    }
   ],
   "source": [
    "len(residential_subset.index)"
   ]
  },
  {
   "cell_type": "code",
   "execution_count": 128,
   "metadata": {},
   "outputs": [
    {
     "data": {
      "text/plain": [
       "Index(['Neighbourhood', 'Actual Year Built', 'Lot Size', 'Assessed Value',\n",
       "       'Assessment Class 1'],\n",
       "      dtype='object')"
      ]
     },
     "execution_count": 128,
     "metadata": {},
     "output_type": "execute_result"
    }
   ],
   "source": [
    "residential_subset.columns"
   ]
  },
  {
   "cell_type": "code",
   "execution_count": 129,
   "metadata": {},
   "outputs": [
    {
     "data": {
      "text/html": [
       "<div>\n",
       "<style scoped>\n",
       "    .dataframe tbody tr th:only-of-type {\n",
       "        vertical-align: middle;\n",
       "    }\n",
       "\n",
       "    .dataframe tbody tr th {\n",
       "        vertical-align: top;\n",
       "    }\n",
       "\n",
       "    .dataframe thead th {\n",
       "        text-align: right;\n",
       "    }\n",
       "</style>\n",
       "<table border=\"1\" class=\"dataframe\">\n",
       "  <thead>\n",
       "    <tr style=\"text-align: right;\">\n",
       "      <th></th>\n",
       "      <th>Neighbourhood</th>\n",
       "      <th>Actual Year Built</th>\n",
       "      <th>Lot Size</th>\n",
       "      <th>Assessed Value</th>\n",
       "      <th>Assessment Class 1</th>\n",
       "    </tr>\n",
       "  </thead>\n",
       "  <tbody>\n",
       "    <tr>\n",
       "      <th>1</th>\n",
       "      <td>MACTAGGART</td>\n",
       "      <td>2016.0</td>\n",
       "      <td>118.525</td>\n",
       "      <td>275000.0</td>\n",
       "      <td>RESIDENTIAL</td>\n",
       "    </tr>\n",
       "    <tr>\n",
       "      <th>2</th>\n",
       "      <td>MACTAGGART</td>\n",
       "      <td>2016.0</td>\n",
       "      <td>66.805</td>\n",
       "      <td>177500.0</td>\n",
       "      <td>RESIDENTIAL</td>\n",
       "    </tr>\n",
       "    <tr>\n",
       "      <th>3</th>\n",
       "      <td>FOREST HEIGHTS</td>\n",
       "      <td>2015.0</td>\n",
       "      <td>355.992</td>\n",
       "      <td>484000.0</td>\n",
       "      <td>RESIDENTIAL</td>\n",
       "    </tr>\n",
       "    <tr>\n",
       "      <th>4</th>\n",
       "      <td>HOMESTEADER</td>\n",
       "      <td>2016.0</td>\n",
       "      <td>265.284</td>\n",
       "      <td>331500.0</td>\n",
       "      <td>RESIDENTIAL</td>\n",
       "    </tr>\n",
       "    <tr>\n",
       "      <th>5</th>\n",
       "      <td>HOMESTEADER</td>\n",
       "      <td>2016.0</td>\n",
       "      <td>207.691</td>\n",
       "      <td>322000.0</td>\n",
       "      <td>RESIDENTIAL</td>\n",
       "    </tr>\n",
       "  </tbody>\n",
       "</table>\n",
       "</div>"
      ],
      "text/plain": [
       "    Neighbourhood  Actual Year Built  Lot Size  Assessed Value  \\\n",
       "1      MACTAGGART             2016.0   118.525        275000.0   \n",
       "2      MACTAGGART             2016.0    66.805        177500.0   \n",
       "3  FOREST HEIGHTS             2015.0   355.992        484000.0   \n",
       "4     HOMESTEADER             2016.0   265.284        331500.0   \n",
       "5     HOMESTEADER             2016.0   207.691        322000.0   \n",
       "\n",
       "  Assessment Class 1  \n",
       "1        RESIDENTIAL  \n",
       "2        RESIDENTIAL  \n",
       "3        RESIDENTIAL  \n",
       "4        RESIDENTIAL  \n",
       "5        RESIDENTIAL  "
      ]
     },
     "execution_count": 129,
     "metadata": {},
     "output_type": "execute_result"
    }
   ],
   "source": [
    "residential_subset.head()"
   ]
  },
  {
   "cell_type": "code",
   "execution_count": 130,
   "metadata": {},
   "outputs": [
    {
     "data": {
      "text/plain": [
       "Neighbourhood\n",
       "OLIVER                              122742\n",
       "DOWNTOWN                             95792\n",
       "RUTHERFORD                           55425\n",
       "SUMMERSIDE                           51858\n",
       "WINDERMERE                           51370\n",
       "                                     ...  \n",
       "LAKE DISTRICT NORTH EAST PORTION         2\n",
       "MILL CREEK RAVINE                        2\n",
       "CPR WEST                                 1\n",
       "CORONET ADDITION INDUSTRIAL              1\n",
       "RURAL NORTH WEST                         1\n",
       "Name: count, Length: 384, dtype: int64"
      ]
     },
     "execution_count": 130,
     "metadata": {},
     "output_type": "execute_result"
    }
   ],
   "source": [
    "residential_subset['Neighbourhood'].value_counts() #show all the unique values for Neighbourhood"
   ]
  },
  {
   "cell_type": "code",
   "execution_count": 131,
   "metadata": {},
   "outputs": [
    {
     "data": {
      "text/plain": [
       "Assessment Class 1\n",
       "RESIDENTIAL    3940427\n",
       "Name: count, dtype: int64"
      ]
     },
     "execution_count": 131,
     "metadata": {},
     "output_type": "execute_result"
    }
   ],
   "source": [
    "residential_subset['Assessment Class 1'].value_counts()"
   ]
  },
  {
   "attachments": {},
   "cell_type": "markdown",
   "metadata": {},
   "source": [
    "## Asssessed Value vs Acutal Year Build for Edmonton"
   ]
  },
  {
   "cell_type": "code",
   "execution_count": 132,
   "metadata": {},
   "outputs": [],
   "source": [
    "year_of_constrct = residential_subset[['Assessed Value','Actual Year Built']] #filter out so only assessed value and actual year built columns are showing"
   ]
  },
  {
   "cell_type": "code",
   "execution_count": 133,
   "metadata": {},
   "outputs": [
    {
     "data": {
      "text/html": [
       "<div>\n",
       "<style scoped>\n",
       "    .dataframe tbody tr th:only-of-type {\n",
       "        vertical-align: middle;\n",
       "    }\n",
       "\n",
       "    .dataframe tbody tr th {\n",
       "        vertical-align: top;\n",
       "    }\n",
       "\n",
       "    .dataframe thead th {\n",
       "        text-align: right;\n",
       "    }\n",
       "</style>\n",
       "<table border=\"1\" class=\"dataframe\">\n",
       "  <thead>\n",
       "    <tr style=\"text-align: right;\">\n",
       "      <th></th>\n",
       "      <th>Assessed Value</th>\n",
       "      <th>Actual Year Built</th>\n",
       "    </tr>\n",
       "  </thead>\n",
       "  <tbody>\n",
       "    <tr>\n",
       "      <th>1</th>\n",
       "      <td>275000.0</td>\n",
       "      <td>2016.0</td>\n",
       "    </tr>\n",
       "    <tr>\n",
       "      <th>2</th>\n",
       "      <td>177500.0</td>\n",
       "      <td>2016.0</td>\n",
       "    </tr>\n",
       "    <tr>\n",
       "      <th>3</th>\n",
       "      <td>484000.0</td>\n",
       "      <td>2015.0</td>\n",
       "    </tr>\n",
       "    <tr>\n",
       "      <th>4</th>\n",
       "      <td>331500.0</td>\n",
       "      <td>2016.0</td>\n",
       "    </tr>\n",
       "    <tr>\n",
       "      <th>5</th>\n",
       "      <td>322000.0</td>\n",
       "      <td>2016.0</td>\n",
       "    </tr>\n",
       "  </tbody>\n",
       "</table>\n",
       "</div>"
      ],
      "text/plain": [
       "   Assessed Value  Actual Year Built\n",
       "1        275000.0             2016.0\n",
       "2        177500.0             2016.0\n",
       "3        484000.0             2015.0\n",
       "4        331500.0             2016.0\n",
       "5        322000.0             2016.0"
      ]
     },
     "execution_count": 133,
     "metadata": {},
     "output_type": "execute_result"
    }
   ],
   "source": [
    "year_of_constrct.head()"
   ]
  },
  {
   "cell_type": "code",
   "execution_count": 134,
   "metadata": {},
   "outputs": [
    {
     "data": {
      "text/html": [
       "<div>\n",
       "<style scoped>\n",
       "    .dataframe tbody tr th:only-of-type {\n",
       "        vertical-align: middle;\n",
       "    }\n",
       "\n",
       "    .dataframe tbody tr th {\n",
       "        vertical-align: top;\n",
       "    }\n",
       "\n",
       "    .dataframe thead th {\n",
       "        text-align: right;\n",
       "    }\n",
       "</style>\n",
       "<table border=\"1\" class=\"dataframe\">\n",
       "  <thead>\n",
       "    <tr style=\"text-align: right;\">\n",
       "      <th></th>\n",
       "      <th>Assessed Value</th>\n",
       "      <th>Actual Year Built</th>\n",
       "    </tr>\n",
       "  </thead>\n",
       "  <tbody>\n",
       "    <tr>\n",
       "      <th>count</th>\n",
       "      <td>3.940427e+06</td>\n",
       "      <td>3.810413e+06</td>\n",
       "    </tr>\n",
       "    <tr>\n",
       "      <th>mean</th>\n",
       "      <td>3.175183e+05</td>\n",
       "      <td>1.987734e+03</td>\n",
       "    </tr>\n",
       "    <tr>\n",
       "      <th>std</th>\n",
       "      <td>3.018516e+05</td>\n",
       "      <td>2.210891e+01</td>\n",
       "    </tr>\n",
       "    <tr>\n",
       "      <th>min</th>\n",
       "      <td>0.000000e+00</td>\n",
       "      <td>1.900000e+03</td>\n",
       "    </tr>\n",
       "    <tr>\n",
       "      <th>25%</th>\n",
       "      <td>1.855000e+05</td>\n",
       "      <td>1.972000e+03</td>\n",
       "    </tr>\n",
       "    <tr>\n",
       "      <th>50%</th>\n",
       "      <td>3.155000e+05</td>\n",
       "      <td>1.992000e+03</td>\n",
       "    </tr>\n",
       "    <tr>\n",
       "      <th>75%</th>\n",
       "      <td>4.080000e+05</td>\n",
       "      <td>2.006000e+03</td>\n",
       "    </tr>\n",
       "    <tr>\n",
       "      <th>max</th>\n",
       "      <td>4.952500e+07</td>\n",
       "      <td>2.022000e+03</td>\n",
       "    </tr>\n",
       "  </tbody>\n",
       "</table>\n",
       "</div>"
      ],
      "text/plain": [
       "       Assessed Value  Actual Year Built\n",
       "count    3.940427e+06       3.810413e+06\n",
       "mean     3.175183e+05       1.987734e+03\n",
       "std      3.018516e+05       2.210891e+01\n",
       "min      0.000000e+00       1.900000e+03\n",
       "25%      1.855000e+05       1.972000e+03\n",
       "50%      3.155000e+05       1.992000e+03\n",
       "75%      4.080000e+05       2.006000e+03\n",
       "max      4.952500e+07       2.022000e+03"
      ]
     },
     "execution_count": 134,
     "metadata": {},
     "output_type": "execute_result"
    }
   ],
   "source": [
    "year_of_constrct.describe()"
   ]
  },
  {
   "cell_type": "code",
   "execution_count": 135,
   "metadata": {},
   "outputs": [
    {
     "data": {
      "text/plain": [
       "3940427"
      ]
     },
     "execution_count": 135,
     "metadata": {},
     "output_type": "execute_result"
    }
   ],
   "source": [
    "len(year_of_constrct) # number of rows before null values are dropped"
   ]
  },
  {
   "cell_type": "code",
   "execution_count": 136,
   "metadata": {},
   "outputs": [],
   "source": [
    "year_of_constrct_drop=year_of_constrct.dropna() #drops row that have null values from the assessed value and actual year built columns"
   ]
  },
  {
   "cell_type": "code",
   "execution_count": 137,
   "metadata": {},
   "outputs": [
    {
     "data": {
      "text/plain": [
       "3810413"
      ]
     },
     "execution_count": 137,
     "metadata": {},
     "output_type": "execute_result"
    }
   ],
   "source": [
    "len(year_of_constrct_drop) # number of rows after null values are dropped"
   ]
  },
  {
   "cell_type": "code",
   "execution_count": 138,
   "metadata": {},
   "outputs": [],
   "source": [
    "year_filtered_subset = year_of_constrct_drop[(year_of_constrct_drop['Actual Year Built'] >= 2011) & (year_of_constrct_drop['Actual Year Built'] <= 2021)]\n",
    "#filter out the actual year built columns so the year 2011 to 2021 are shown. We are using a 10 year sample"
   ]
  },
  {
   "cell_type": "code",
   "execution_count": 139,
   "metadata": {},
   "outputs": [
    {
     "data": {
      "text/plain": [
       "Actual Year Built\n",
       "2014.0    112263\n",
       "2011.0     94638\n",
       "2013.0     83862\n",
       "2016.0     74602\n",
       "2012.0     63041\n",
       "2015.0     60511\n",
       "2017.0     36436\n",
       "2018.0     30316\n",
       "2019.0     22113\n",
       "2020.0     14546\n",
       "2021.0      7030\n",
       "Name: count, dtype: int64"
      ]
     },
     "execution_count": 139,
     "metadata": {},
     "output_type": "execute_result"
    }
   ],
   "source": [
    "year_filtered_subset['Actual Year Built'].value_counts() #verifies the years are filtered out"
   ]
  },
  {
   "cell_type": "code",
   "execution_count": 140,
   "metadata": {},
   "outputs": [],
   "source": [
    "year_contruct_subset = pd.DataFrame(year_filtered_subset) #put year_filtered_subset into a new dataframe called year_construct_subset"
   ]
  },
  {
   "cell_type": "code",
   "execution_count": 141,
   "metadata": {},
   "outputs": [],
   "source": [
    "mean_value = year_contruct_subset['Assessed Value'].mean() #calculating the mean for assessed value in Edmonton"
   ]
  },
  {
   "cell_type": "code",
   "execution_count": 142,
   "metadata": {},
   "outputs": [],
   "source": [
    "min_value = year_contruct_subset['Assessed Value'].min() #calculating the min for assessed value in Edmonton"
   ]
  },
  {
   "cell_type": "code",
   "execution_count": 143,
   "metadata": {},
   "outputs": [],
   "source": [
    "max_value = year_contruct_subset['Assessed Value'].max() #calculating the max for assessed value in Edmonton"
   ]
  },
  {
   "cell_type": "code",
   "execution_count": 144,
   "metadata": {},
   "outputs": [
    {
     "data": {
      "text/plain": [
       "14234500.0"
      ]
     },
     "execution_count": 144,
     "metadata": {},
     "output_type": "execute_result"
    }
   ],
   "source": [
    "max_value"
   ]
  },
  {
   "cell_type": "code",
   "execution_count": 145,
   "metadata": {},
   "outputs": [],
   "source": [
    "std_value = year_contruct_subset['Assessed Value'].std() #calculating the standard deviation for assessed value in Edmonton"
   ]
  },
  {
   "cell_type": "code",
   "execution_count": 146,
   "metadata": {},
   "outputs": [],
   "source": [
    "average_edm = year_contruct_subset['Assessed Value'].sum() / len(year_contruct_subset['Assessed Value'])\n",
    "#calculating the average for assessed value in Edmonton by taking the sum of asscessed value and dividing amount of rows"
   ]
  },
  {
   "cell_type": "code",
   "execution_count": 147,
   "metadata": {},
   "outputs": [
    {
     "name": "stderr",
     "output_type": "stream",
     "text": [
      "C:\\Users\\659159\\AppData\\Roaming\\Python\\Python310\\site-packages\\IPython\\core\\pylabtools.py:152: UserWarning: Creating legend with loc=\"best\" can be slow with large amounts of data.\n",
      "  fig.canvas.print_figure(bytes_io, **kw)\n"
     ]
    },
    {
     "data": {
      "image/png": "[encoded data removed]",
      "text/plain": [
       "<Figure size 640x480 with 1 Axes>"
      ]
     },
     "metadata": {},
     "output_type": "display_data"
    }
   ],
   "source": [
    "#Shows a graph of the homes built and the asscessed value of the homes with outliers\n",
    "year_contruct_subset.plot(x='Actual Year Built', y='Assessed Value', kind= 'scatter') # builds a scatter plot\n",
    "plt.axhline(mean_value, color='red', linestyle='--', label='Mean') #plots the mean dotted line\n",
    "plt.axhline(min_value, color='blue', linestyle='--', label='Min') #plots the min dotted line\n",
    "plt.axhline(max_value, color='purple', linestyle='--', label='Max') #plots the max dotted line\n",
    "plt.axhline(std_value, color='pink', linestyle='--', label='Std') #plots the standard deviation dotted line\n",
    "plt.axhline(average_edm, color='green', linestyle='--', label='Avg') #plots the average dotted line\n",
    "plt.title(\"Assessed Value by New Build With Outliers\") # title of the graph\n",
    "\n",
    "plt.gca().yaxis.set_major_formatter(formatter) #change values into a million dollar value\n",
    "plt.legend() #show legend\n",
    "plt.show() #show graph\n"
   ]
  },
  {
   "cell_type": "code",
   "execution_count": 148,
   "metadata": {},
   "outputs": [],
   "source": [
    "check_values_edm = pd.DataFrame() #created a new dataFrame"
   ]
  },
  {
   "cell_type": "code",
   "execution_count": 149,
   "metadata": {},
   "outputs": [],
   "source": [
    "year_construct_subset= year_contruct_subset.sample(n=100000) #10 0000 samples. This is for performance purpose"
   ]
  },
  {
   "cell_type": "code",
   "execution_count": 150,
   "metadata": {},
   "outputs": [],
   "source": [
    "#Remove Outliers for Edmonton Dataset by Actual Year Built\n",
    "j = 0\n",
    "upper_bound = average_edm + std_value #add the average and the standard deviation and put into upper_bound variable \n",
    "lower_bound = average_edm - std_value #substracts the average and the standard deviation and put into lower bound variable \n",
    "for i in range(len(year_construct_subset)): #loops the entire table\n",
    "    check_assesed_value = year_construct_subset.iloc[i,0] #indexes thru the row of the table for assessed value\n",
    "    if( (check_assesed_value >= lower_bound) & (check_assesed_value <= upper_bound)):\n",
    "         #check of the assesed value is greater than the lower bound( average - standard deviation) and check of the upper bound ( average + standard deviation is greater than the assesed value)\n",
    "        check_values_edm.loc[j,'Assessed Value'] = year_construct_subset.iloc[i, 0] # if the conditions are true put the assessed values into the new dataFrame called check_values_edm\n",
    "        check_values_edm.loc[j,'Actual Year Built'] = year_construct_subset.iloc[i, 1] #put actual year built into the new dataFrame called check_values_edm if the if statement is true\n",
    "        j = j + 1\n",
    "        \n"
   ]
  },
  {
   "cell_type": "code",
   "execution_count": 151,
   "metadata": {},
   "outputs": [
    {
     "data": {
      "text/html": [
       "<div>\n",
       "<style scoped>\n",
       "    .dataframe tbody tr th:only-of-type {\n",
       "        vertical-align: middle;\n",
       "    }\n",
       "\n",
       "    .dataframe tbody tr th {\n",
       "        vertical-align: top;\n",
       "    }\n",
       "\n",
       "    .dataframe thead th {\n",
       "        text-align: right;\n",
       "    }\n",
       "</style>\n",
       "<table border=\"1\" class=\"dataframe\">\n",
       "  <thead>\n",
       "    <tr style=\"text-align: right;\">\n",
       "      <th></th>\n",
       "      <th>Assessed Value</th>\n",
       "      <th>Actual Year Built</th>\n",
       "    </tr>\n",
       "  </thead>\n",
       "  <tbody>\n",
       "    <tr>\n",
       "      <th>0</th>\n",
       "      <td>456000.0</td>\n",
       "      <td>2013.0</td>\n",
       "    </tr>\n",
       "    <tr>\n",
       "      <th>1</th>\n",
       "      <td>365500.0</td>\n",
       "      <td>2015.0</td>\n",
       "    </tr>\n",
       "    <tr>\n",
       "      <th>2</th>\n",
       "      <td>523000.0</td>\n",
       "      <td>2012.0</td>\n",
       "    </tr>\n",
       "    <tr>\n",
       "      <th>3</th>\n",
       "      <td>469000.0</td>\n",
       "      <td>2012.0</td>\n",
       "    </tr>\n",
       "    <tr>\n",
       "      <th>4</th>\n",
       "      <td>318000.0</td>\n",
       "      <td>2013.0</td>\n",
       "    </tr>\n",
       "    <tr>\n",
       "      <th>...</th>\n",
       "      <td>...</td>\n",
       "      <td>...</td>\n",
       "    </tr>\n",
       "    <tr>\n",
       "      <th>75615</th>\n",
       "      <td>190500.0</td>\n",
       "      <td>2013.0</td>\n",
       "    </tr>\n",
       "    <tr>\n",
       "      <th>75616</th>\n",
       "      <td>341000.0</td>\n",
       "      <td>2018.0</td>\n",
       "    </tr>\n",
       "    <tr>\n",
       "      <th>75617</th>\n",
       "      <td>354000.0</td>\n",
       "      <td>2012.0</td>\n",
       "    </tr>\n",
       "    <tr>\n",
       "      <th>75618</th>\n",
       "      <td>187500.0</td>\n",
       "      <td>2014.0</td>\n",
       "    </tr>\n",
       "    <tr>\n",
       "      <th>75619</th>\n",
       "      <td>230000.0</td>\n",
       "      <td>2014.0</td>\n",
       "    </tr>\n",
       "  </tbody>\n",
       "</table>\n",
       "<p>75620 rows × 2 columns</p>\n",
       "</div>"
      ],
      "text/plain": [
       "       Assessed Value  Actual Year Built\n",
       "0            456000.0             2013.0\n",
       "1            365500.0             2015.0\n",
       "2            523000.0             2012.0\n",
       "3            469000.0             2012.0\n",
       "4            318000.0             2013.0\n",
       "...               ...                ...\n",
       "75615        190500.0             2013.0\n",
       "75616        341000.0             2018.0\n",
       "75617        354000.0             2012.0\n",
       "75618        187500.0             2014.0\n",
       "75619        230000.0             2014.0\n",
       "\n",
       "[75620 rows x 2 columns]"
      ]
     },
     "execution_count": 151,
     "metadata": {},
     "output_type": "execute_result"
    }
   ],
   "source": [
    "check_values_edm #prints a sample of the dataFrame"
   ]
  },
  {
   "cell_type": "code",
   "execution_count": 152,
   "metadata": {},
   "outputs": [],
   "source": [
    "output_file_3 = 'AssessedValue_ActualYearBuild_EDM.csv'\n",
    "check_values_edm.to_csv(output_file_3)"
   ]
  },
  {
   "cell_type": "code",
   "execution_count": 153,
   "metadata": {},
   "outputs": [],
   "source": [
    "check_values_edm_after = pd.DataFrame(check_values_edm) #puts into a new dataFrame"
   ]
  },
  {
   "cell_type": "code",
   "execution_count": 154,
   "metadata": {},
   "outputs": [],
   "source": [
    "mean_value_after = check_values_edm_after['Assessed Value'].mean() #calculating the mean for assessed value in Edmonton"
   ]
  },
  {
   "cell_type": "code",
   "execution_count": 155,
   "metadata": {},
   "outputs": [],
   "source": [
    "min_value_after = check_values_edm_after['Assessed Value'].min() #calculating the mean for assessed value in Edmonton"
   ]
  },
  {
   "cell_type": "code",
   "execution_count": 156,
   "metadata": {},
   "outputs": [],
   "source": [
    "max_value_after = check_values_edm_after['Assessed Value'].max() #calculating the mean for assessed value in Edmonton"
   ]
  },
  {
   "cell_type": "code",
   "execution_count": 157,
   "metadata": {},
   "outputs": [],
   "source": [
    "std_value_after = check_values_edm_after['Assessed Value'].std() #calculating the mean for assessed value in Edmonton"
   ]
  },
  {
   "cell_type": "code",
   "execution_count": 158,
   "metadata": {},
   "outputs": [],
   "source": [
    "average_edm_after = check_values_edm_after['Assessed Value'].sum() / len(check_values_edm_after['Assessed Value'])\n",
    "#calculating the average for assessed value in Edmonton by taking the sum of asscessed value and dividing amount of rows"
   ]
  },
  {
   "cell_type": "code",
   "execution_count": 159,
   "metadata": {},
   "outputs": [
    {
     "data": {
      "image/png": "[encoded data removed]",
      "text/plain": [
       "<Figure size 640x480 with 1 Axes>"
      ]
     },
     "metadata": {},
     "output_type": "display_data"
    }
   ],
   "source": [
    "#Shows a graph of the homes built and the asscessed value of the homes without Outliers\n",
    "check_values_edm_after.plot(x='Actual Year Built', y='Assessed Value', kind= 'scatter') #creates a scatter  plot\n",
    "plt.axhline(mean_value_after, color='red', linestyle='--', label='Mean') #plots the mean dotted line\n",
    "plt.axhline(min_value_after, color='blue', linestyle='--', label='Min') #plots the min dotted line\n",
    "plt.axhline(max_value_after, color='purple', linestyle='--', label='Max') #plots the max dotted line\n",
    "plt.axhline(std_value_after, color='pink', linestyle='--', label='Std') #plots the standard deviation dotted line\n",
    "plt.axhline(average_edm_after, color='green', linestyle='--', label='Avg') #plots the average dotted line\n",
    "plt.title(\"Assessed Value by New Build Without Outliers\") # title of the graph\n",
    "plt.gca().yaxis.set_major_formatter(formatter) #change values into a million dollar value\n",
    "plt.legend() #shows the legend\n",
    "plt.show() # show the graph"
   ]
  },
  {
   "attachments": {},
   "cell_type": "markdown",
   "metadata": {},
   "source": [
    "## Assessed Value VS Lot Size For Edmonton"
   ]
  },
  {
   "cell_type": "code",
   "execution_count": 160,
   "metadata": {},
   "outputs": [],
   "source": [
    "land_size = residential_subset[['Assessed Value','Lot Size']] # show the columns Assessed Value and Lot Size"
   ]
  },
  {
   "cell_type": "code",
   "execution_count": 161,
   "metadata": {},
   "outputs": [
    {
     "data": {
      "text/plain": [
       "3940427"
      ]
     },
     "execution_count": 161,
     "metadata": {},
     "output_type": "execute_result"
    }
   ],
   "source": [
    "len(land_size) # number of rows before null values are dropped"
   ]
  },
  {
   "cell_type": "code",
   "execution_count": 162,
   "metadata": {},
   "outputs": [],
   "source": [
    "land_size_drop=land_size.dropna() #drops row that have null values from the land size and actual year built columns"
   ]
  },
  {
   "cell_type": "code",
   "execution_count": 163,
   "metadata": {},
   "outputs": [
    {
     "data": {
      "text/plain": [
       "3909942"
      ]
     },
     "execution_count": 163,
     "metadata": {},
     "output_type": "execute_result"
    }
   ],
   "source": [
    "len(land_size_drop) # number of rows after null values are dropped"
   ]
  },
  {
   "cell_type": "code",
   "execution_count": 164,
   "metadata": {},
   "outputs": [
    {
     "data": {
      "text/plain": [
       "Lot Size\n",
       "0.0000         8963\n",
       "4.5990         5115\n",
       "1.4265         4510\n",
       "3.0610         4389\n",
       "0.2090         3927\n",
       "               ... \n",
       "38.7130           1\n",
       "116903.6200       1\n",
       "121240.2910       1\n",
       "186755.7170       1\n",
       "396.7270          1\n",
       "Name: count, Length: 208533, dtype: int64"
      ]
     },
     "execution_count": 164,
     "metadata": {},
     "output_type": "execute_result"
    }
   ],
   "source": [
    "land_size_drop['Lot Size'].value_counts() #shows unique vales for lot size"
   ]
  },
  {
   "cell_type": "code",
   "execution_count": 165,
   "metadata": {},
   "outputs": [],
   "source": [
    "year_land_subset = pd.DataFrame(land_size_drop) #Put the land_size_drop into a new dataframe called year_land_subset"
   ]
  },
  {
   "cell_type": "code",
   "execution_count": 166,
   "metadata": {},
   "outputs": [],
   "source": [
    "mean_value_land = year_land_subset['Assessed Value'].mean() #calculating the mean for assessed value in Edmonton from the year_land_subset"
   ]
  },
  {
   "cell_type": "code",
   "execution_count": 167,
   "metadata": {},
   "outputs": [],
   "source": [
    "min_value_land = year_land_subset['Assessed Value'].min() #calculating the min for assessed value in Edmonton from the year_land_subset"
   ]
  },
  {
   "cell_type": "code",
   "execution_count": 168,
   "metadata": {},
   "outputs": [],
   "source": [
    "max_value_land = year_land_subset['Assessed Value'].max() #calculating the max for assessed value in Edmonton from the year_land_subset"
   ]
  },
  {
   "cell_type": "code",
   "execution_count": 169,
   "metadata": {},
   "outputs": [
    {
     "data": {
      "text/plain": [
       "49525000.0"
      ]
     },
     "execution_count": 169,
     "metadata": {},
     "output_type": "execute_result"
    }
   ],
   "source": [
    "max_value_land"
   ]
  },
  {
   "cell_type": "code",
   "execution_count": 170,
   "metadata": {},
   "outputs": [],
   "source": [
    "std_value_land = year_land_subset['Assessed Value'].std() #calculating the standard deviation for assessed value in Edmonton from the year_land_subset"
   ]
  },
  {
   "cell_type": "code",
   "execution_count": 171,
   "metadata": {},
   "outputs": [],
   "source": [
    "average_land = year_land_subset['Assessed Value'].sum() / len(year_land_subset['Assessed Value']) #calculating the average for assessed value in Edmonton from the year_land_subset"
   ]
  },
  {
   "cell_type": "code",
   "execution_count": 172,
   "metadata": {},
   "outputs": [
    {
     "name": "stdout",
     "output_type": "stream",
     "text": [
      "         Assessed Value  Lot Size Land Category\n",
      "1              275000.0   118.525         Small\n",
      "2              177500.0    66.805         Small\n",
      "3              484000.0   355.992         Small\n",
      "4              331500.0   265.284         Small\n",
      "5              322000.0   207.691         Small\n",
      "...                 ...       ...           ...\n",
      "4217606        272000.0   197.666         Small\n",
      "4217607        172500.0   367.869         Small\n",
      "4217608        128500.0   310.333         Small\n",
      "4217609        177000.0   619.282         Small\n",
      "4217610        491000.0   396.727         Small\n",
      "\n",
      "[3909942 rows x 3 columns]\n"
     ]
    }
   ],
   "source": [
    "# Apply the categorization function to create a new column 'Land Category'\n",
    "year_land_subset['Land Category'] = year_land_subset['Lot Size'].apply(categorize_land_size)\n",
    "\n",
    "# Print the updated dataset\n",
    "print(year_land_subset)"
   ]
  },
  {
   "cell_type": "code",
   "execution_count": 173,
   "metadata": {},
   "outputs": [
    {
     "data": {
      "text/html": [
       "<div>\n",
       "<style scoped>\n",
       "    .dataframe tbody tr th:only-of-type {\n",
       "        vertical-align: middle;\n",
       "    }\n",
       "\n",
       "    .dataframe tbody tr th {\n",
       "        vertical-align: top;\n",
       "    }\n",
       "\n",
       "    .dataframe thead th {\n",
       "        text-align: right;\n",
       "    }\n",
       "</style>\n",
       "<table border=\"1\" class=\"dataframe\">\n",
       "  <thead>\n",
       "    <tr style=\"text-align: right;\">\n",
       "      <th></th>\n",
       "      <th>Assessed Value</th>\n",
       "      <th>Lot Size</th>\n",
       "      <th>Land Category</th>\n",
       "    </tr>\n",
       "  </thead>\n",
       "  <tbody>\n",
       "    <tr>\n",
       "      <th>1</th>\n",
       "      <td>275000.0</td>\n",
       "      <td>118.525</td>\n",
       "      <td>Small</td>\n",
       "    </tr>\n",
       "    <tr>\n",
       "      <th>2</th>\n",
       "      <td>177500.0</td>\n",
       "      <td>66.805</td>\n",
       "      <td>Small</td>\n",
       "    </tr>\n",
       "    <tr>\n",
       "      <th>3</th>\n",
       "      <td>484000.0</td>\n",
       "      <td>355.992</td>\n",
       "      <td>Small</td>\n",
       "    </tr>\n",
       "    <tr>\n",
       "      <th>4</th>\n",
       "      <td>331500.0</td>\n",
       "      <td>265.284</td>\n",
       "      <td>Small</td>\n",
       "    </tr>\n",
       "    <tr>\n",
       "      <th>5</th>\n",
       "      <td>322000.0</td>\n",
       "      <td>207.691</td>\n",
       "      <td>Small</td>\n",
       "    </tr>\n",
       "    <tr>\n",
       "      <th>...</th>\n",
       "      <td>...</td>\n",
       "      <td>...</td>\n",
       "      <td>...</td>\n",
       "    </tr>\n",
       "    <tr>\n",
       "      <th>4217606</th>\n",
       "      <td>272000.0</td>\n",
       "      <td>197.666</td>\n",
       "      <td>Small</td>\n",
       "    </tr>\n",
       "    <tr>\n",
       "      <th>4217607</th>\n",
       "      <td>172500.0</td>\n",
       "      <td>367.869</td>\n",
       "      <td>Small</td>\n",
       "    </tr>\n",
       "    <tr>\n",
       "      <th>4217608</th>\n",
       "      <td>128500.0</td>\n",
       "      <td>310.333</td>\n",
       "      <td>Small</td>\n",
       "    </tr>\n",
       "    <tr>\n",
       "      <th>4217609</th>\n",
       "      <td>177000.0</td>\n",
       "      <td>619.282</td>\n",
       "      <td>Small</td>\n",
       "    </tr>\n",
       "    <tr>\n",
       "      <th>4217610</th>\n",
       "      <td>491000.0</td>\n",
       "      <td>396.727</td>\n",
       "      <td>Small</td>\n",
       "    </tr>\n",
       "  </tbody>\n",
       "</table>\n",
       "<p>3909942 rows × 3 columns</p>\n",
       "</div>"
      ],
      "text/plain": [
       "         Assessed Value  Lot Size Land Category\n",
       "1              275000.0   118.525         Small\n",
       "2              177500.0    66.805         Small\n",
       "3              484000.0   355.992         Small\n",
       "4              331500.0   265.284         Small\n",
       "5              322000.0   207.691         Small\n",
       "...                 ...       ...           ...\n",
       "4217606        272000.0   197.666         Small\n",
       "4217607        172500.0   367.869         Small\n",
       "4217608        128500.0   310.333         Small\n",
       "4217609        177000.0   619.282         Small\n",
       "4217610        491000.0   396.727         Small\n",
       "\n",
       "[3909942 rows x 3 columns]"
      ]
     },
     "execution_count": 173,
     "metadata": {},
     "output_type": "execute_result"
    }
   ],
   "source": [
    "year_land_subset"
   ]
  },
  {
   "cell_type": "code",
   "execution_count": 174,
   "metadata": {},
   "outputs": [],
   "source": [
    "#give you a even dataset\n",
    "year_land_subset= year_land_subset.sort_values('Lot Size') #sort the lot size by ascening order\n",
    "small_divisible_edmonton= math.floor(1/3*len(year_land_subset)) #  split the year_land_subset into 3 parts and multiples by the lenght of the year_land_subset and takes the floor value\n",
    "small = [] #creates a empty array\n",
    "medium = [] #creates a empty array\n",
    "large = [] #creates a empty array\n",
    "for i in range (len(year_land_subset)): #loops thru the entire year_land_subset table\n",
    "     if i <= small_divisible_edmonton : # if the floor value is greater than i then append the assessed value into the small array\n",
    "             small.append(year_land_subset.iloc[i, 0])\n",
    "     elif i <= small_divisible_edmonton*2: # if the floor value times 2 is greater than i then append the assessed value into the medium array\n",
    "              medium.append(year_land_subset.iloc[i, 0])\n",
    "     else:\n",
    "              large.append(year_land_subset.iloc[i, 0]) #else then append the assessed value into the large array\n",
    "\t\t\t  \n",
    "\t\t\t  "
   ]
  },
  {
   "cell_type": "code",
   "execution_count": 175,
   "metadata": {},
   "outputs": [],
   "source": [
    "small_dataframe = pd.DataFrame({'Assessed Value' :  small, 'Size' : \"Small\"}) #put all the small array values into a new dataFrame and classy the values as Small"
   ]
  },
  {
   "cell_type": "code",
   "execution_count": 176,
   "metadata": {},
   "outputs": [],
   "source": [
    "medium_dataframe = pd.DataFrame({  'Assessed Value' :  medium, 'Size' : 'Medium'}) #put all the medium array values into a new dataFrame and classy the values as Medium"
   ]
  },
  {
   "cell_type": "code",
   "execution_count": 177,
   "metadata": {},
   "outputs": [],
   "source": [
    "large_dataframe = pd.DataFrame({  'Assessed Value' :  large, 'Size' : 'Large'}) #put all the large array values into a new dataFrame and classy the values as Large"
   ]
  },
  {
   "cell_type": "code",
   "execution_count": 178,
   "metadata": {},
   "outputs": [],
   "source": [
    "merged_df_edm = pd.concat([small_dataframe, medium_dataframe, large_dataframe]) #Concatenates all 3 dataFrames and put into a one dataframe"
   ]
  },
  {
   "cell_type": "code",
   "execution_count": 179,
   "metadata": {},
   "outputs": [
    {
     "data": {
      "text/html": [
       "<div>\n",
       "<style scoped>\n",
       "    .dataframe tbody tr th:only-of-type {\n",
       "        vertical-align: middle;\n",
       "    }\n",
       "\n",
       "    .dataframe tbody tr th {\n",
       "        vertical-align: top;\n",
       "    }\n",
       "\n",
       "    .dataframe thead th {\n",
       "        text-align: right;\n",
       "    }\n",
       "</style>\n",
       "<table border=\"1\" class=\"dataframe\">\n",
       "  <thead>\n",
       "    <tr style=\"text-align: right;\">\n",
       "      <th></th>\n",
       "      <th>Assessed Value</th>\n",
       "      <th>Size</th>\n",
       "    </tr>\n",
       "  </thead>\n",
       "  <tbody>\n",
       "    <tr>\n",
       "      <th>0</th>\n",
       "      <td>0.0</td>\n",
       "      <td>Small</td>\n",
       "    </tr>\n",
       "    <tr>\n",
       "      <th>1</th>\n",
       "      <td>7000.0</td>\n",
       "      <td>Small</td>\n",
       "    </tr>\n",
       "    <tr>\n",
       "      <th>2</th>\n",
       "      <td>5000.0</td>\n",
       "      <td>Small</td>\n",
       "    </tr>\n",
       "    <tr>\n",
       "      <th>3</th>\n",
       "      <td>6500.0</td>\n",
       "      <td>Small</td>\n",
       "    </tr>\n",
       "    <tr>\n",
       "      <th>4</th>\n",
       "      <td>5000.0</td>\n",
       "      <td>Small</td>\n",
       "    </tr>\n",
       "    <tr>\n",
       "      <th>...</th>\n",
       "      <td>...</td>\n",
       "      <td>...</td>\n",
       "    </tr>\n",
       "    <tr>\n",
       "      <th>1303308</th>\n",
       "      <td>16979000.0</td>\n",
       "      <td>Large</td>\n",
       "    </tr>\n",
       "    <tr>\n",
       "      <th>1303309</th>\n",
       "      <td>708500.0</td>\n",
       "      <td>Large</td>\n",
       "    </tr>\n",
       "    <tr>\n",
       "      <th>1303310</th>\n",
       "      <td>594000.0</td>\n",
       "      <td>Large</td>\n",
       "    </tr>\n",
       "    <tr>\n",
       "      <th>1303311</th>\n",
       "      <td>516500.0</td>\n",
       "      <td>Large</td>\n",
       "    </tr>\n",
       "    <tr>\n",
       "      <th>1303312</th>\n",
       "      <td>516000.0</td>\n",
       "      <td>Large</td>\n",
       "    </tr>\n",
       "  </tbody>\n",
       "</table>\n",
       "<p>3909942 rows × 2 columns</p>\n",
       "</div>"
      ],
      "text/plain": [
       "         Assessed Value   Size\n",
       "0                   0.0  Small\n",
       "1                7000.0  Small\n",
       "2                5000.0  Small\n",
       "3                6500.0  Small\n",
       "4                5000.0  Small\n",
       "...                 ...    ...\n",
       "1303308      16979000.0  Large\n",
       "1303309        708500.0  Large\n",
       "1303310        594000.0  Large\n",
       "1303311        516500.0  Large\n",
       "1303312        516000.0  Large\n",
       "\n",
       "[3909942 rows x 2 columns]"
      ]
     },
     "execution_count": 179,
     "metadata": {},
     "output_type": "execute_result"
    }
   ],
   "source": [
    "merged_df_edm #sample of the new merged dataFrame"
   ]
  },
  {
   "cell_type": "code",
   "execution_count": 180,
   "metadata": {},
   "outputs": [
    {
     "data": {
      "image/png": "[encoded data removed]",
      "text/plain": [
       "<Figure size 640x480 with 1 Axes>"
      ]
     },
     "metadata": {},
     "output_type": "display_data"
    }
   ],
   "source": [
    "#Shows a graph of the land category and the asscessed value of the homes from the new merged dataFrame\n",
    "merged_df_edm.plot(x='Size', y='Assessed Value', kind= 'scatter') #makes a scatter plot\n",
    "plt.axhline(mean_value_land, color='red', linestyle='--', label='Mean') #plots the mean dotted line\n",
    "plt.axhline(min_value_land, color='blue', linestyle='--', label='Min') #plots the min dotted line\n",
    "plt.axhline(max_value_land, color='orange', linestyle='--', label='Max') #plots the max dotted line\n",
    "plt.axhline(std_value_land, color='pink', linestyle='--', label='Std') #plots the standard deviation dotted line\n",
    "plt.axhline(average_land, color='green', linestyle='--', label='Avg') #plots the average dotted line\n",
    "plt.title(\"Assessed Value by Land Category in Edmonton With Outliers\") # title of the graph\n",
    "plt.gca().yaxis.set_major_formatter(formatter) #change values into a million dollar value\n",
    "#plt.legend()\n",
    "plt.show() #show graph"
   ]
  },
  {
   "cell_type": "code",
   "execution_count": 181,
   "metadata": {},
   "outputs": [],
   "source": [
    "small_array = [] #creates a empty array\n",
    "medium_array = [] #creates a empty array\n",
    "large_array = [] #creates a empty array\n",
    "countsmall= 0 #intialize to zero\n",
    "countmedium = 0 #intialize to zero\n",
    "countlarge =0#intialize to zero\n",
    "for i in range(len(year_land_subset)): #loops thru the entire year_land_subset table\n",
    "    if year_land_subset.iloc[i,2] == \"Small\"  : #looks at the 2nd columns of year_land_subset_cgy and if it matches with Small\n",
    "         small_array.append(year_land_subset.iloc[i,0]) #if true then append the assessed value to the small_array\n",
    "         countsmall = countsmall +1 #adds one to countsmall\n",
    "    elif year_land_subset.iloc[i,2] == \"Medium\"  : #looks at the 2nd columns of year_land_subset_cgy and if it matches with Medium\n",
    "         medium_array.append(year_land_subset.iloc[i,0]) #if true then append the assessed value to the medium_array\n",
    "         countmedium = countmedium + 1 #adds one to countmedim\n",
    "    else:\n",
    "         large_array.append(year_land_subset.iloc[i,0]) #else then append the assessed value to the large_array\n",
    "         countlarge = countlarge + 1 #adds one to countlarge 1"
   ]
  },
  {
   "cell_type": "code",
   "execution_count": 182,
   "metadata": {},
   "outputs": [],
   "source": [
    "\n",
    "smalloutliers = find_outliers(small_array)\n",
    "mediumoutliers = find_outliers(medium_array)\n",
    "largeoutliers = find_outliers(large_array)"
   ]
  },
  {
   "cell_type": "code",
   "execution_count": 183,
   "metadata": {},
   "outputs": [],
   "source": [
    "fixed_small_array = [] #creates a empty array\n",
    "fixed_medium_array = [] #creates a empty array\n",
    "fixed_large_array = [] #creates a empty array\n",
    "\n",
    "for i in range(len(small_array)): #loops thru the small_array\n",
    "      if smalloutliers[i] == False: #checks if the index of i in the small outlier array is false\n",
    "           fixed_small_array.append(small_array[i]) #if the index of the small outlier array is false then append the index of i of the small_array to the fixed_small_array \n",
    "      else: #else move on to the next index \n",
    "               pass\n",
    "\n",
    "for i in range(len(medium_array)): #loops thru the medium_array\n",
    "      if mediumoutliers[i] == False: #checks if the index of i in the medium outlier array is false\n",
    "           fixed_medium_array.append(medium_array[i]) #if the index of the medium outlier array is false then append the index of i of the medium_array to the fixed_medium_array \n",
    "      else: #else move on to the next index \n",
    "               pass\n",
    "\n",
    "for i in range(len(large_array)): #loops thru the large_array\n",
    "      if largeoutliers[i] == False: #checks if the index of i in the large outlier array is false\n",
    "           fixed_large_array.append(large_array[i]) #if the index of the large outlier array is false then append the index of i of the large_array to the fixed_large_array\n",
    "      else:\n",
    "               pass \n",
    "\t\t\t   "
   ]
  },
  {
   "cell_type": "code",
   "execution_count": 184,
   "metadata": {},
   "outputs": [],
   "source": [
    "small_dataframe = pd.DataFrame({'Assessed Value' :  fixed_small_array, 'Size' : \"Small\"})"
   ]
  },
  {
   "cell_type": "code",
   "execution_count": 185,
   "metadata": {},
   "outputs": [],
   "source": [
    "medium_dataframe = pd.DataFrame({'Assessed Value' :  fixed_medium_array, 'Size' : \"Medium\"})"
   ]
  },
  {
   "cell_type": "code",
   "execution_count": 186,
   "metadata": {},
   "outputs": [],
   "source": [
    "large_dataframe = pd.DataFrame({'Assessed Value' :  fixed_large_array, 'Size' : \"Large\"})"
   ]
  },
  {
   "cell_type": "code",
   "execution_count": 187,
   "metadata": {},
   "outputs": [],
   "source": [
    "merged_df_edm_size = pd.concat([small_dataframe, medium_dataframe, large_dataframe])"
   ]
  },
  {
   "cell_type": "code",
   "execution_count": 188,
   "metadata": {},
   "outputs": [
    {
     "data": {
      "text/html": [
       "<div>\n",
       "<style scoped>\n",
       "    .dataframe tbody tr th:only-of-type {\n",
       "        vertical-align: middle;\n",
       "    }\n",
       "\n",
       "    .dataframe tbody tr th {\n",
       "        vertical-align: top;\n",
       "    }\n",
       "\n",
       "    .dataframe thead th {\n",
       "        text-align: right;\n",
       "    }\n",
       "</style>\n",
       "<table border=\"1\" class=\"dataframe\">\n",
       "  <thead>\n",
       "    <tr style=\"text-align: right;\">\n",
       "      <th></th>\n",
       "      <th>Assessed Value</th>\n",
       "      <th>Size</th>\n",
       "    </tr>\n",
       "  </thead>\n",
       "  <tbody>\n",
       "    <tr>\n",
       "      <th>0</th>\n",
       "      <td>206500.0</td>\n",
       "      <td>Small</td>\n",
       "    </tr>\n",
       "    <tr>\n",
       "      <th>1</th>\n",
       "      <td>188000.0</td>\n",
       "      <td>Small</td>\n",
       "    </tr>\n",
       "    <tr>\n",
       "      <th>2</th>\n",
       "      <td>213500.0</td>\n",
       "      <td>Small</td>\n",
       "    </tr>\n",
       "    <tr>\n",
       "      <th>3</th>\n",
       "      <td>216500.0</td>\n",
       "      <td>Small</td>\n",
       "    </tr>\n",
       "    <tr>\n",
       "      <th>4</th>\n",
       "      <td>204000.0</td>\n",
       "      <td>Small</td>\n",
       "    </tr>\n",
       "    <tr>\n",
       "      <th>...</th>\n",
       "      <td>...</td>\n",
       "      <td>...</td>\n",
       "    </tr>\n",
       "    <tr>\n",
       "      <th>3924</th>\n",
       "      <td>3428500.0</td>\n",
       "      <td>Large</td>\n",
       "    </tr>\n",
       "    <tr>\n",
       "      <th>3925</th>\n",
       "      <td>708500.0</td>\n",
       "      <td>Large</td>\n",
       "    </tr>\n",
       "    <tr>\n",
       "      <th>3926</th>\n",
       "      <td>594000.0</td>\n",
       "      <td>Large</td>\n",
       "    </tr>\n",
       "    <tr>\n",
       "      <th>3927</th>\n",
       "      <td>516500.0</td>\n",
       "      <td>Large</td>\n",
       "    </tr>\n",
       "    <tr>\n",
       "      <th>3928</th>\n",
       "      <td>516000.0</td>\n",
       "      <td>Large</td>\n",
       "    </tr>\n",
       "  </tbody>\n",
       "</table>\n",
       "<p>3109458 rows × 2 columns</p>\n",
       "</div>"
      ],
      "text/plain": [
       "      Assessed Value   Size\n",
       "0           206500.0  Small\n",
       "1           188000.0  Small\n",
       "2           213500.0  Small\n",
       "3           216500.0  Small\n",
       "4           204000.0  Small\n",
       "...              ...    ...\n",
       "3924       3428500.0  Large\n",
       "3925        708500.0  Large\n",
       "3926        594000.0  Large\n",
       "3927        516500.0  Large\n",
       "3928        516000.0  Large\n",
       "\n",
       "[3109458 rows x 2 columns]"
      ]
     },
     "execution_count": 188,
     "metadata": {},
     "output_type": "execute_result"
    }
   ],
   "source": [
    "merged_df_edm_size"
   ]
  },
  {
   "cell_type": "code",
   "execution_count": 189,
   "metadata": {},
   "outputs": [],
   "source": [
    "output_file_8 = 'AssessedValue_Size_EDM.csv'\n",
    "merged_df_edm_size.to_csv(output_file_8)"
   ]
  },
  {
   "cell_type": "code",
   "execution_count": 190,
   "metadata": {},
   "outputs": [
    {
     "data": {
      "image/png": "[encoded data removed]",
      "text/plain": [
       "<Figure size 640x480 with 1 Axes>"
      ]
     },
     "metadata": {},
     "output_type": "display_data"
    }
   ],
   "source": [
    "#Shows a graph of the homes built and the land category of the homes\n",
    "merged_df_edm_size.plot(x='Size', y='Assessed Value', kind='scatter')\n",
    "plt.title(\"Assessed Value by Land Category Without Outliers for Edmonton\")\n",
    "plt.gca().yaxis.set_major_formatter(formatter)\n",
    "#plt.legend()\n",
    "plt.show()"
   ]
  },
  {
   "attachments": {},
   "cell_type": "markdown",
   "metadata": {},
   "source": [
    "## Assessed Value Vs Neighbourhood in Edmonton"
   ]
  },
  {
   "cell_type": "code",
   "execution_count": 191,
   "metadata": {},
   "outputs": [],
   "source": [
    "value_neighbourhood_subset_edm = residential_subset[['Assessed Value','Neighbourhood','Actual Year Built', 'Lot Size']] #filter out the table so only Assessed Value and Neighbourhood are shown"
   ]
  },
  {
   "cell_type": "code",
   "execution_count": 192,
   "metadata": {},
   "outputs": [
    {
     "data": {
      "text/html": [
       "<div>\n",
       "<style scoped>\n",
       "    .dataframe tbody tr th:only-of-type {\n",
       "        vertical-align: middle;\n",
       "    }\n",
       "\n",
       "    .dataframe tbody tr th {\n",
       "        vertical-align: top;\n",
       "    }\n",
       "\n",
       "    .dataframe thead th {\n",
       "        text-align: right;\n",
       "    }\n",
       "</style>\n",
       "<table border=\"1\" class=\"dataframe\">\n",
       "  <thead>\n",
       "    <tr style=\"text-align: right;\">\n",
       "      <th></th>\n",
       "      <th>Assessed Value</th>\n",
       "      <th>Neighbourhood</th>\n",
       "      <th>Actual Year Built</th>\n",
       "      <th>Lot Size</th>\n",
       "    </tr>\n",
       "  </thead>\n",
       "  <tbody>\n",
       "    <tr>\n",
       "      <th>1</th>\n",
       "      <td>275000.0</td>\n",
       "      <td>MACTAGGART</td>\n",
       "      <td>2016.0</td>\n",
       "      <td>118.525</td>\n",
       "    </tr>\n",
       "    <tr>\n",
       "      <th>2</th>\n",
       "      <td>177500.0</td>\n",
       "      <td>MACTAGGART</td>\n",
       "      <td>2016.0</td>\n",
       "      <td>66.805</td>\n",
       "    </tr>\n",
       "    <tr>\n",
       "      <th>3</th>\n",
       "      <td>484000.0</td>\n",
       "      <td>FOREST HEIGHTS</td>\n",
       "      <td>2015.0</td>\n",
       "      <td>355.992</td>\n",
       "    </tr>\n",
       "    <tr>\n",
       "      <th>4</th>\n",
       "      <td>331500.0</td>\n",
       "      <td>HOMESTEADER</td>\n",
       "      <td>2016.0</td>\n",
       "      <td>265.284</td>\n",
       "    </tr>\n",
       "    <tr>\n",
       "      <th>5</th>\n",
       "      <td>322000.0</td>\n",
       "      <td>HOMESTEADER</td>\n",
       "      <td>2016.0</td>\n",
       "      <td>207.691</td>\n",
       "    </tr>\n",
       "    <tr>\n",
       "      <th>...</th>\n",
       "      <td>...</td>\n",
       "      <td>...</td>\n",
       "      <td>...</td>\n",
       "      <td>...</td>\n",
       "    </tr>\n",
       "    <tr>\n",
       "      <th>4217606</th>\n",
       "      <td>272000.0</td>\n",
       "      <td>LAUREL</td>\n",
       "      <td>2020.0</td>\n",
       "      <td>197.666</td>\n",
       "    </tr>\n",
       "    <tr>\n",
       "      <th>4217607</th>\n",
       "      <td>172500.0</td>\n",
       "      <td>KESWICK AREA</td>\n",
       "      <td>NaN</td>\n",
       "      <td>367.869</td>\n",
       "    </tr>\n",
       "    <tr>\n",
       "      <th>4217608</th>\n",
       "      <td>128500.0</td>\n",
       "      <td>THE ORCHARDS AT ELLERSLIE</td>\n",
       "      <td>NaN</td>\n",
       "      <td>310.333</td>\n",
       "    </tr>\n",
       "    <tr>\n",
       "      <th>4217609</th>\n",
       "      <td>177000.0</td>\n",
       "      <td>CHAPPELLE AREA</td>\n",
       "      <td>NaN</td>\n",
       "      <td>619.282</td>\n",
       "    </tr>\n",
       "    <tr>\n",
       "      <th>4217610</th>\n",
       "      <td>491000.0</td>\n",
       "      <td>KLARVATTEN</td>\n",
       "      <td>2022.0</td>\n",
       "      <td>396.727</td>\n",
       "    </tr>\n",
       "  </tbody>\n",
       "</table>\n",
       "<p>3940427 rows × 4 columns</p>\n",
       "</div>"
      ],
      "text/plain": [
       "         Assessed Value              Neighbourhood  Actual Year Built  \\\n",
       "1              275000.0                 MACTAGGART             2016.0   \n",
       "2              177500.0                 MACTAGGART             2016.0   \n",
       "3              484000.0             FOREST HEIGHTS             2015.0   \n",
       "4              331500.0                HOMESTEADER             2016.0   \n",
       "5              322000.0                HOMESTEADER             2016.0   \n",
       "...                 ...                        ...                ...   \n",
       "4217606        272000.0                     LAUREL             2020.0   \n",
       "4217607        172500.0               KESWICK AREA                NaN   \n",
       "4217608        128500.0  THE ORCHARDS AT ELLERSLIE                NaN   \n",
       "4217609        177000.0             CHAPPELLE AREA                NaN   \n",
       "4217610        491000.0                 KLARVATTEN             2022.0   \n",
       "\n",
       "         Lot Size  \n",
       "1         118.525  \n",
       "2          66.805  \n",
       "3         355.992  \n",
       "4         265.284  \n",
       "5         207.691  \n",
       "...           ...  \n",
       "4217606   197.666  \n",
       "4217607   367.869  \n",
       "4217608   310.333  \n",
       "4217609   619.282  \n",
       "4217610   396.727  \n",
       "\n",
       "[3940427 rows x 4 columns]"
      ]
     },
     "execution_count": 192,
     "metadata": {},
     "output_type": "execute_result"
    }
   ],
   "source": [
    "value_neighbourhood_subset_edm #sample of the data\n"
   ]
  },
  {
   "cell_type": "code",
   "execution_count": 193,
   "metadata": {},
   "outputs": [
    {
     "data": {
      "text/plain": [
       "3940427"
      ]
     },
     "execution_count": 193,
     "metadata": {},
     "output_type": "execute_result"
    }
   ],
   "source": [
    "len(value_neighbourhood_subset_edm) # number of rows before null values are dropped\n"
   ]
  },
  {
   "cell_type": "code",
   "execution_count": 194,
   "metadata": {},
   "outputs": [],
   "source": [
    "value_neighbourhood_subset_drop_edm=value_neighbourhood_subset_edm.dropna() # drops rows that have null values from both columns \n"
   ]
  },
  {
   "cell_type": "code",
   "execution_count": 195,
   "metadata": {},
   "outputs": [
    {
     "data": {
      "text/plain": [
       "3779928"
      ]
     },
     "execution_count": 195,
     "metadata": {},
     "output_type": "execute_result"
    }
   ],
   "source": [
    "len(value_neighbourhood_subset_drop_edm) # number of rows after null values are dropped\n"
   ]
  },
  {
   "cell_type": "code",
   "execution_count": 196,
   "metadata": {},
   "outputs": [
    {
     "data": {
      "text/html": [
       "<div>\n",
       "<style scoped>\n",
       "    .dataframe tbody tr th:only-of-type {\n",
       "        vertical-align: middle;\n",
       "    }\n",
       "\n",
       "    .dataframe tbody tr th {\n",
       "        vertical-align: top;\n",
       "    }\n",
       "\n",
       "    .dataframe thead th {\n",
       "        text-align: right;\n",
       "    }\n",
       "</style>\n",
       "<table border=\"1\" class=\"dataframe\">\n",
       "  <thead>\n",
       "    <tr style=\"text-align: right;\">\n",
       "      <th></th>\n",
       "      <th>Assessed Value</th>\n",
       "      <th>Neighbourhood</th>\n",
       "      <th>Actual Year Built</th>\n",
       "      <th>Lot Size</th>\n",
       "    </tr>\n",
       "  </thead>\n",
       "  <tbody>\n",
       "    <tr>\n",
       "      <th>1</th>\n",
       "      <td>275000.0</td>\n",
       "      <td>MACTAGGART</td>\n",
       "      <td>2016.0</td>\n",
       "      <td>118.525</td>\n",
       "    </tr>\n",
       "    <tr>\n",
       "      <th>2</th>\n",
       "      <td>177500.0</td>\n",
       "      <td>MACTAGGART</td>\n",
       "      <td>2016.0</td>\n",
       "      <td>66.805</td>\n",
       "    </tr>\n",
       "    <tr>\n",
       "      <th>3</th>\n",
       "      <td>484000.0</td>\n",
       "      <td>FOREST HEIGHTS</td>\n",
       "      <td>2015.0</td>\n",
       "      <td>355.992</td>\n",
       "    </tr>\n",
       "    <tr>\n",
       "      <th>4</th>\n",
       "      <td>331500.0</td>\n",
       "      <td>HOMESTEADER</td>\n",
       "      <td>2016.0</td>\n",
       "      <td>265.284</td>\n",
       "    </tr>\n",
       "    <tr>\n",
       "      <th>5</th>\n",
       "      <td>322000.0</td>\n",
       "      <td>HOMESTEADER</td>\n",
       "      <td>2016.0</td>\n",
       "      <td>207.691</td>\n",
       "    </tr>\n",
       "    <tr>\n",
       "      <th>...</th>\n",
       "      <td>...</td>\n",
       "      <td>...</td>\n",
       "      <td>...</td>\n",
       "      <td>...</td>\n",
       "    </tr>\n",
       "    <tr>\n",
       "      <th>4217599</th>\n",
       "      <td>284500.0</td>\n",
       "      <td>ALLARD</td>\n",
       "      <td>2020.0</td>\n",
       "      <td>94.724</td>\n",
       "    </tr>\n",
       "    <tr>\n",
       "      <th>4217600</th>\n",
       "      <td>329000.0</td>\n",
       "      <td>CAVANAGH</td>\n",
       "      <td>2021.0</td>\n",
       "      <td>286.083</td>\n",
       "    </tr>\n",
       "    <tr>\n",
       "      <th>4217602</th>\n",
       "      <td>488500.0</td>\n",
       "      <td>ASTER</td>\n",
       "      <td>2022.0</td>\n",
       "      <td>362.863</td>\n",
       "    </tr>\n",
       "    <tr>\n",
       "      <th>4217606</th>\n",
       "      <td>272000.0</td>\n",
       "      <td>LAUREL</td>\n",
       "      <td>2020.0</td>\n",
       "      <td>197.666</td>\n",
       "    </tr>\n",
       "    <tr>\n",
       "      <th>4217610</th>\n",
       "      <td>491000.0</td>\n",
       "      <td>KLARVATTEN</td>\n",
       "      <td>2022.0</td>\n",
       "      <td>396.727</td>\n",
       "    </tr>\n",
       "  </tbody>\n",
       "</table>\n",
       "<p>3779928 rows × 4 columns</p>\n",
       "</div>"
      ],
      "text/plain": [
       "         Assessed Value   Neighbourhood  Actual Year Built  Lot Size\n",
       "1              275000.0      MACTAGGART             2016.0   118.525\n",
       "2              177500.0      MACTAGGART             2016.0    66.805\n",
       "3              484000.0  FOREST HEIGHTS             2015.0   355.992\n",
       "4              331500.0     HOMESTEADER             2016.0   265.284\n",
       "5              322000.0     HOMESTEADER             2016.0   207.691\n",
       "...                 ...             ...                ...       ...\n",
       "4217599        284500.0          ALLARD             2020.0    94.724\n",
       "4217600        329000.0        CAVANAGH             2021.0   286.083\n",
       "4217602        488500.0           ASTER             2022.0   362.863\n",
       "4217606        272000.0          LAUREL             2020.0   197.666\n",
       "4217610        491000.0      KLARVATTEN             2022.0   396.727\n",
       "\n",
       "[3779928 rows x 4 columns]"
      ]
     },
     "execution_count": 196,
     "metadata": {},
     "output_type": "execute_result"
    }
   ],
   "source": [
    "value_neighbourhood_subset_drop_edm #print table after null values are dropped\n"
   ]
  },
  {
   "cell_type": "code",
   "execution_count": 197,
   "metadata": {},
   "outputs": [],
   "source": [
    "output_file_5 = 'AssessedValue_Neighbourhood_EDM.csv'\n",
    "value_neighbourhood_subset_drop_edm.to_csv(output_file_5)"
   ]
  },
  {
   "cell_type": "code",
   "execution_count": 198,
   "metadata": {},
   "outputs": [],
   "source": [
    "merged_df = pd.concat([property_subset_cgy,property_subset], axis=0)"
   ]
  },
  {
   "cell_type": "code",
   "execution_count": 199,
   "metadata": {},
   "outputs": [
    {
     "data": {
      "text/html": [
       "<div>\n",
       "<style scoped>\n",
       "    .dataframe tbody tr th:only-of-type {\n",
       "        vertical-align: middle;\n",
       "    }\n",
       "\n",
       "    .dataframe tbody tr th {\n",
       "        vertical-align: top;\n",
       "    }\n",
       "\n",
       "    .dataframe thead th {\n",
       "        text-align: right;\n",
       "    }\n",
       "</style>\n",
       "<table border=\"1\" class=\"dataframe\">\n",
       "  <thead>\n",
       "    <tr style=\"text-align: right;\">\n",
       "      <th></th>\n",
       "      <th>Assessed Value</th>\n",
       "      <th>Assessment Class 1</th>\n",
       "      <th>Neighbourhood</th>\n",
       "      <th>Actual Year Built</th>\n",
       "      <th>Lot Size</th>\n",
       "    </tr>\n",
       "  </thead>\n",
       "  <tbody>\n",
       "    <tr>\n",
       "      <th>0</th>\n",
       "      <td>198500.0</td>\n",
       "      <td>Residential</td>\n",
       "      <td>POINT MCKAY</td>\n",
       "      <td>NaN</td>\n",
       "      <td>NaN</td>\n",
       "    </tr>\n",
       "    <tr>\n",
       "      <th>1</th>\n",
       "      <td>165000.0</td>\n",
       "      <td>Residential</td>\n",
       "      <td>MISSION</td>\n",
       "      <td>NaN</td>\n",
       "      <td>NaN</td>\n",
       "    </tr>\n",
       "    <tr>\n",
       "      <th>2</th>\n",
       "      <td>88500.0</td>\n",
       "      <td>Residential</td>\n",
       "      <td>ROCKY RIDGE</td>\n",
       "      <td>NaN</td>\n",
       "      <td>NaN</td>\n",
       "    </tr>\n",
       "    <tr>\n",
       "      <th>3</th>\n",
       "      <td>394000.0</td>\n",
       "      <td>Residential</td>\n",
       "      <td>ALTADORE</td>\n",
       "      <td>NaN</td>\n",
       "      <td>NaN</td>\n",
       "    </tr>\n",
       "    <tr>\n",
       "      <th>4</th>\n",
       "      <td>101000.0</td>\n",
       "      <td>Residential</td>\n",
       "      <td>PENBROOKE MEADOWS</td>\n",
       "      <td>NaN</td>\n",
       "      <td>NaN</td>\n",
       "    </tr>\n",
       "    <tr>\n",
       "      <th>...</th>\n",
       "      <td>...</td>\n",
       "      <td>...</td>\n",
       "      <td>...</td>\n",
       "      <td>...</td>\n",
       "      <td>...</td>\n",
       "    </tr>\n",
       "    <tr>\n",
       "      <th>4217606</th>\n",
       "      <td>272000.0</td>\n",
       "      <td>RESIDENTIAL</td>\n",
       "      <td>LAUREL</td>\n",
       "      <td>2020.0</td>\n",
       "      <td>197.666</td>\n",
       "    </tr>\n",
       "    <tr>\n",
       "      <th>4217607</th>\n",
       "      <td>172500.0</td>\n",
       "      <td>RESIDENTIAL</td>\n",
       "      <td>KESWICK AREA</td>\n",
       "      <td>NaN</td>\n",
       "      <td>367.869</td>\n",
       "    </tr>\n",
       "    <tr>\n",
       "      <th>4217608</th>\n",
       "      <td>128500.0</td>\n",
       "      <td>RESIDENTIAL</td>\n",
       "      <td>THE ORCHARDS AT ELLERSLIE</td>\n",
       "      <td>NaN</td>\n",
       "      <td>310.333</td>\n",
       "    </tr>\n",
       "    <tr>\n",
       "      <th>4217609</th>\n",
       "      <td>177000.0</td>\n",
       "      <td>RESIDENTIAL</td>\n",
       "      <td>CHAPPELLE AREA</td>\n",
       "      <td>NaN</td>\n",
       "      <td>619.282</td>\n",
       "    </tr>\n",
       "    <tr>\n",
       "      <th>4217610</th>\n",
       "      <td>491000.0</td>\n",
       "      <td>RESIDENTIAL</td>\n",
       "      <td>KLARVATTEN</td>\n",
       "      <td>2022.0</td>\n",
       "      <td>396.727</td>\n",
       "    </tr>\n",
       "  </tbody>\n",
       "</table>\n",
       "<p>12701553 rows × 5 columns</p>\n",
       "</div>"
      ],
      "text/plain": [
       "         Assessed Value Assessment Class 1              Neighbourhood  \\\n",
       "0              198500.0        Residential                POINT MCKAY   \n",
       "1              165000.0        Residential                    MISSION   \n",
       "2               88500.0        Residential                ROCKY RIDGE   \n",
       "3              394000.0        Residential                   ALTADORE   \n",
       "4              101000.0        Residential          PENBROOKE MEADOWS   \n",
       "...                 ...                ...                        ...   \n",
       "4217606        272000.0        RESIDENTIAL                     LAUREL   \n",
       "4217607        172500.0        RESIDENTIAL               KESWICK AREA   \n",
       "4217608        128500.0        RESIDENTIAL  THE ORCHARDS AT ELLERSLIE   \n",
       "4217609        177000.0        RESIDENTIAL             CHAPPELLE AREA   \n",
       "4217610        491000.0        RESIDENTIAL                 KLARVATTEN   \n",
       "\n",
       "         Actual Year Built  Lot Size  \n",
       "0                      NaN       NaN  \n",
       "1                      NaN       NaN  \n",
       "2                      NaN       NaN  \n",
       "3                      NaN       NaN  \n",
       "4                      NaN       NaN  \n",
       "...                    ...       ...  \n",
       "4217606             2020.0   197.666  \n",
       "4217607                NaN   367.869  \n",
       "4217608                NaN   310.333  \n",
       "4217609                NaN   619.282  \n",
       "4217610             2022.0   396.727  \n",
       "\n",
       "[12701553 rows x 5 columns]"
      ]
     },
     "execution_count": 199,
     "metadata": {},
     "output_type": "execute_result"
    }
   ],
   "source": [
    "merged_df"
   ]
  }
 ],
 "metadata": {
  "kernelspec": {
   "display_name": "Python 3",
   "language": "python",
   "name": "python3"
  },
  "language_info": {
   "codemirror_mode": {
    "name": "ipython",
    "version": 3
   },
   "file_extension": ".py",
   "mimetype": "text/x-python",
   "name": "python",
   "nbconvert_exporter": "python",
   "pygments_lexer": "ipython3",
   "version": "3.10.5"
  }
 },
 "nbformat": 4,
 "nbformat_minor": 2
}
